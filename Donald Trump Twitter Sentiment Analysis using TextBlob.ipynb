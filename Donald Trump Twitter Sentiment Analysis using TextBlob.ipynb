{
 "cells": [
  {
   "cell_type": "code",
   "execution_count": 1,
   "metadata": {},
   "outputs": [],
   "source": [
    "import tweepy"
   ]
  },
  {
   "cell_type": "code",
   "execution_count": 2,
   "metadata": {},
   "outputs": [],
   "source": [
    "Consumer_Key = '9BdP2VhUYS4WIy4fABWp5EQgz'\n",
    "Consumer_Secret = '5b0YIYubhINuGEnnAWRa9QfseB8OinyMI2rUvxtXm2noQtCzrh'\n",
    "\n",
    "Access_Token = '783924601101258752-sFSeBNFbw3ODEOeemfwgRYg86e1suom'\n",
    "Access_Secret = '9ijrPWYYHE5cCaXkod7dWesXpesdow3plwIkhHryHFAe2'"
   ]
  },
  {
   "cell_type": "code",
   "execution_count": 3,
   "metadata": {},
   "outputs": [],
   "source": [
    "def twitter_setup():\n",
    "    \"\"\"\n",
    "    Utility function to setup the Twitter's API\n",
    "    with our access keys provided.\n",
    "    \"\"\"\n",
    "    # Authentication and access using keys:\n",
    "    auth = tweepy.OAuthHandler(Consumer_Key, Consumer_Secret)\n",
    "    auth.set_access_token(Access_Token, Access_Secret)\n",
    "\n",
    "    # Return API with authentication:\n",
    "    api = tweepy.API(auth)\n",
    "    return api"
   ]
  },
  {
   "cell_type": "code",
   "execution_count": 4,
   "metadata": {},
   "outputs": [
    {
     "name": "stdout",
     "output_type": "stream",
     "text": [
      "Number of tweets extracted: 200.\n",
      "\n",
      "5 recent tweets: \n",
      "\n",
      "....Also, why is Mueller only appointing Angry Dems, some of whom have worked for Crooked Hillary, others, includin… https://t.co/hX52XFQ91d\n",
      "\n",
      "Is Robert Mueller ever going to release his conflicts of interest with respect to President Trump, including the fa… https://t.co/t0GHh6hsEg\n",
      "\n",
      "There is No Collusion! The Robert Mueller Rigged Witch Hunt, headed now by 17 (increased from 13, including an Obam… https://t.co/mtUqvuvzZD\n",
      "\n",
      "...and the Amazon Washington Post do nothing but write bad stories even on very positive achievements - and they will never change!\n",
      "\n",
      "...dying newspaper industry. No matter how much they try to distract and cover it up, our country is making great p… https://t.co/UVMw8JEf8i\n",
      "\n"
     ]
    }
   ],
   "source": [
    "extractor = twitter_setup()\n",
    "\n",
    "tweets = extractor.user_timeline(screen_name=\"realDonaldTrump\", count=300)\n",
    "\n",
    "print (\"Number of tweets extracted: {}.\\n\".format(len(tweets)))\n",
    "print (\"5 recent tweets: \\n\")\n",
    "for tweet in tweets[:5]:\n",
    "    print (tweet.text)\n",
    "    print()"
   ]
  },
  {
   "cell_type": "code",
   "execution_count": 5,
   "metadata": {},
   "outputs": [],
   "source": [
    "import pandas as pd\n",
    "import numpy as np\n",
    "import matplotlib as plt\n",
    "import seaborn as sns\n",
    "\n",
    "%matplotlib inline"
   ]
  },
  {
   "cell_type": "code",
   "execution_count": 6,
   "metadata": {},
   "outputs": [
    {
     "data": {
      "text/html": [
       "<div>\n",
       "<style scoped>\n",
       "    .dataframe tbody tr th:only-of-type {\n",
       "        vertical-align: middle;\n",
       "    }\n",
       "\n",
       "    .dataframe tbody tr th {\n",
       "        vertical-align: top;\n",
       "    }\n",
       "\n",
       "    .dataframe thead th {\n",
       "        text-align: right;\n",
       "    }\n",
       "</style>\n",
       "<table border=\"1\" class=\"dataframe\">\n",
       "  <thead>\n",
       "    <tr style=\"text-align: right;\">\n",
       "      <th></th>\n",
       "      <th>Tweet</th>\n",
       "    </tr>\n",
       "  </thead>\n",
       "  <tbody>\n",
       "    <tr>\n",
       "      <th>0</th>\n",
       "      <td>Congressman David Kustoff has been a champion ...</td>\n",
       "    </tr>\n",
       "    <tr>\n",
       "      <th>1</th>\n",
       "      <td>Private business investment has surged from 1....</td>\n",
       "    </tr>\n",
       "    <tr>\n",
       "      <th>2</th>\n",
       "      <td>The @USNavy’s first female Admiral, Alene Duer...</td>\n",
       "    </tr>\n",
       "    <tr>\n",
       "      <th>3</th>\n",
       "      <td>We have accomplished an economic turnaround of...</td>\n",
       "    </tr>\n",
       "    <tr>\n",
       "      <th>4</th>\n",
       "      <td>I am thrilled to announce that in the second q...</td>\n",
       "    </tr>\n",
       "  </tbody>\n",
       "</table>\n",
       "</div>"
      ],
      "text/plain": [
       "                                               Tweet\n",
       "0  Congressman David Kustoff has been a champion ...\n",
       "1  Private business investment has surged from 1....\n",
       "2  The @USNavy’s first female Admiral, Alene Duer...\n",
       "3  We have accomplished an economic turnaround of...\n",
       "4  I am thrilled to announce that in the second q..."
      ]
     },
     "execution_count": 6,
     "metadata": {},
     "output_type": "execute_result"
    }
   ],
   "source": [
    "data = pd.DataFrame(data=[tweet.text for tweet in tweets], columns=['Tweet'])\n",
    "data.head()"
   ]
  },
  {
   "cell_type": "code",
   "execution_count": 7,
   "metadata": {},
   "outputs": [],
   "source": [
    "data['len']= np.array([len(tweet.text) for tweet in tweets])\n",
    "data['ID']= np.array([tweet.id  for tweet in tweets])\n",
    "data['Date']= np.array([tweet.created_at  for tweet in tweets])\n",
    "data['Scource']= np.array([tweet.source  for tweet in tweets])\n",
    "data['Likes']= np.array([tweet.favorite_count  for tweet in tweets])\n",
    "data['RTs']= np.array([tweet.retweet_count  for tweet in tweets])"
   ]
  },
  {
   "cell_type": "code",
   "execution_count": 8,
   "metadata": {},
   "outputs": [
    {
     "data": {
      "text/html": [
       "<div>\n",
       "<style scoped>\n",
       "    .dataframe tbody tr th:only-of-type {\n",
       "        vertical-align: middle;\n",
       "    }\n",
       "\n",
       "    .dataframe tbody tr th {\n",
       "        vertical-align: top;\n",
       "    }\n",
       "\n",
       "    .dataframe thead th {\n",
       "        text-align: right;\n",
       "    }\n",
       "</style>\n",
       "<table border=\"1\" class=\"dataframe\">\n",
       "  <thead>\n",
       "    <tr style=\"text-align: right;\">\n",
       "      <th></th>\n",
       "      <th>Tweet</th>\n",
       "      <th>len</th>\n",
       "      <th>ID</th>\n",
       "      <th>Date</th>\n",
       "      <th>Scource</th>\n",
       "      <th>Likes</th>\n",
       "      <th>RTs</th>\n",
       "    </tr>\n",
       "  </thead>\n",
       "  <tbody>\n",
       "    <tr>\n",
       "      <th>0</th>\n",
       "      <td>Congressman David Kustoff has been a champion ...</td>\n",
       "      <td>140</td>\n",
       "      <td>1022936690267176971</td>\n",
       "      <td>2018-07-27 20:08:06</td>\n",
       "      <td>Twitter for iPhone</td>\n",
       "      <td>17773</td>\n",
       "      <td>4618</td>\n",
       "    </tr>\n",
       "    <tr>\n",
       "      <th>1</th>\n",
       "      <td>Private business investment has surged from 1....</td>\n",
       "      <td>140</td>\n",
       "      <td>1022925366669856769</td>\n",
       "      <td>2018-07-27 19:23:07</td>\n",
       "      <td>Twitter for iPhone</td>\n",
       "      <td>22009</td>\n",
       "      <td>5969</td>\n",
       "    </tr>\n",
       "    <tr>\n",
       "      <th>2</th>\n",
       "      <td>The @USNavy’s first female Admiral, Alene Duer...</td>\n",
       "      <td>140</td>\n",
       "      <td>1022908672756801536</td>\n",
       "      <td>2018-07-27 18:16:46</td>\n",
       "      <td>Twitter for iPhone</td>\n",
       "      <td>24173</td>\n",
       "      <td>5744</td>\n",
       "    </tr>\n",
       "    <tr>\n",
       "      <th>3</th>\n",
       "      <td>We have accomplished an economic turnaround of...</td>\n",
       "      <td>92</td>\n",
       "      <td>1022879441767288834</td>\n",
       "      <td>2018-07-27 16:20:37</td>\n",
       "      <td>Twitter for iPhone</td>\n",
       "      <td>35861</td>\n",
       "      <td>9474</td>\n",
       "    </tr>\n",
       "    <tr>\n",
       "      <th>4</th>\n",
       "      <td>I am thrilled to announce that in the second q...</td>\n",
       "      <td>140</td>\n",
       "      <td>1022877332858650624</td>\n",
       "      <td>2018-07-27 16:12:14</td>\n",
       "      <td>Twitter for iPhone</td>\n",
       "      <td>49944</td>\n",
       "      <td>12849</td>\n",
       "    </tr>\n",
       "  </tbody>\n",
       "</table>\n",
       "</div>"
      ],
      "text/plain": [
       "                                               Tweet  len  \\\n",
       "0  Congressman David Kustoff has been a champion ...  140   \n",
       "1  Private business investment has surged from 1....  140   \n",
       "2  The @USNavy’s first female Admiral, Alene Duer...  140   \n",
       "3  We have accomplished an economic turnaround of...   92   \n",
       "4  I am thrilled to announce that in the second q...  140   \n",
       "\n",
       "                    ID                Date             Scource  Likes    RTs  \n",
       "0  1022936690267176971 2018-07-27 20:08:06  Twitter for iPhone  17773   4618  \n",
       "1  1022925366669856769 2018-07-27 19:23:07  Twitter for iPhone  22009   5969  \n",
       "2  1022908672756801536 2018-07-27 18:16:46  Twitter for iPhone  24173   5744  \n",
       "3  1022879441767288834 2018-07-27 16:20:37  Twitter for iPhone  35861   9474  \n",
       "4  1022877332858650624 2018-07-27 16:12:14  Twitter for iPhone  49944  12849  "
      ]
     },
     "execution_count": 8,
     "metadata": {},
     "output_type": "execute_result"
    }
   ],
   "source": [
    "data.head()"
   ]
  },
  {
   "cell_type": "code",
   "execution_count": 25,
   "metadata": {},
   "outputs": [
    {
     "data": {
      "text/plain": [
       "330847"
      ]
     },
     "execution_count": 25,
     "metadata": {},
     "output_type": "execute_result"
    }
   ],
   "source": [
    "fav = np.max(data['Likes'])\n",
    "fav"
   ]
  },
  {
   "cell_type": "code",
   "execution_count": 26,
   "metadata": {},
   "outputs": [
    {
     "data": {
      "text/plain": [
       "67"
      ]
     },
     "execution_count": 26,
     "metadata": {},
     "output_type": "execute_result"
    }
   ],
   "source": [
    "fav_tweet"
   ]
  },
  {
   "cell_type": "code",
   "execution_count": 27,
   "metadata": {
    "scrolled": true
   },
   "outputs": [
    {
     "name": "stdout",
     "output_type": "stream",
     "text": [
      "Most liked tweet: \n",
      " To Iranian President Rouhani: NEVER, EVER THREATEN THE UNITED STATES AGAIN OR YOU WILL SUFFER CONSEQUENCES THE LIKE… https://t.co/xUdD66vfBW\n",
      "Most RT tweet: \n",
      " RT @realDonaldTrump: They just didn't get it, but they do now! https://t.co/9T50NupkDy\n"
     ]
    }
   ],
   "source": [
    "fav = np.max(data['Likes'])\n",
    "rt= np.max(data['RTs'])\n",
    "\n",
    "fav_tweet= data[data.Likes==fav].index[0]\n",
    "rt_tweet= data[data.RTs==rt].index[0]\n",
    "\n",
    "print (('Most liked tweet: \\n') , (data['Tweet'][fav_tweet]))\n",
    "print (('Most RT tweet: \\n'), (data['Tweet'][rt_tweet]))"
   ]
  },
  {
   "cell_type": "code",
   "execution_count": 10,
   "metadata": {},
   "outputs": [],
   "source": [
    "likes= pd.Series(data=data['Likes'].values, index=data['Date'])\n",
    "RTs= pd.Series(data=data['RTs'].values, index=data['Date'])"
   ]
  },
  {
   "cell_type": "code",
   "execution_count": 11,
   "metadata": {},
   "outputs": [
    {
     "data": {
      "text/plain": [
       "<matplotlib.axes._subplots.AxesSubplot at 0x226414cc828>"
      ]
     },
     "execution_count": 11,
     "metadata": {},
     "output_type": "execute_result"
    },
    {
     "data": {
      "image/png": "[encoded data removed]",
      "text/plain": [
       "<matplotlib.figure.Figure at 0x2263dcfb5c0>"
      ]
     },
     "metadata": {},
     "output_type": "display_data"
    }
   ],
   "source": [
    "likes.plot()"
   ]
  },
  {
   "cell_type": "code",
   "execution_count": 13,
   "metadata": {},
   "outputs": [],
   "source": [
    "from textblob import TextBlob\n",
    "import re"
   ]
  },
  {
   "cell_type": "code",
   "execution_count": 14,
   "metadata": {},
   "outputs": [],
   "source": [
    "def clean_data(tweet):\n",
    "    return ' '.join(re.sub(\"(@[A-Za-z0-9]+)|([^0-9A-Za-z \\t])|(\\w+:\\/\\/\\S+)\", \" \", tweet).split())\n",
    "def analyze_text(tweet):\n",
    "    analysis = TextBlob(clean_data(tweet))\n",
    "    if analysis.sentiment.polarity > 0:\n",
    "        return 1\n",
    "    elif analysis.sentiment.polarity == 0:\n",
    "        return 0\n",
    "    else: return -1\n",
    "    "
   ]
  },
  {
   "cell_type": "code",
   "execution_count": 15,
   "metadata": {},
   "outputs": [
    {
     "data": {
      "text/plain": [
       "'Congressman David Kustoff has been a champion for the Trump Agenda - I greatly appreciate his support. David is str… https://t.co/b69nex9NfW'"
      ]
     },
     "execution_count": 15,
     "metadata": {},
     "output_type": "execute_result"
    }
   ],
   "source": [
    "data['Tweet'][0]"
   ]
  },
  {
   "cell_type": "code",
   "execution_count": 16,
   "metadata": {},
   "outputs": [
    {
     "data": {
      "text/plain": [
       "0.0"
      ]
     },
     "execution_count": 16,
     "metadata": {},
     "output_type": "execute_result"
    }
   ],
   "source": [
    "a=clean_data(data['Tweet'][1])\n",
    "b=TextBlob(a)\n",
    "b.sentiment.polarity"
   ]
  },
  {
   "cell_type": "code",
   "execution_count": 17,
   "metadata": {},
   "outputs": [
    {
     "data": {
      "text/plain": [
       "array(<generator object <genexpr> at 0x00000226429D5CA8>, dtype=object)"
      ]
     },
     "execution_count": 17,
     "metadata": {},
     "output_type": "execute_result"
    }
   ],
   "source": [
    "b=np.array(analyze_text(tweet) for tweet in data['Tweet'] )\n",
    "b"
   ]
  },
  {
   "cell_type": "code",
   "execution_count": 18,
   "metadata": {},
   "outputs": [
    {
     "data": {
      "text/plain": [
       "'Congressman David Kustoff has been a champion for the Trump Agenda I greatly appreciate his support David is str'"
      ]
     },
     "execution_count": 18,
     "metadata": {},
     "output_type": "execute_result"
    }
   ],
   "source": [
    "clean_data(data['Tweet'][0])"
   ]
  },
  {
   "cell_type": "code",
   "execution_count": 19,
   "metadata": {},
   "outputs": [],
   "source": [
    "data['SA']= np.array([analyze_text(tweet) for tweet in data['Tweet']])"
   ]
  },
  {
   "cell_type": "code",
   "execution_count": 20,
   "metadata": {},
   "outputs": [
    {
     "data": {
      "text/html": [
       "<div>\n",
       "<style scoped>\n",
       "    .dataframe tbody tr th:only-of-type {\n",
       "        vertical-align: middle;\n",
       "    }\n",
       "\n",
       "    .dataframe tbody tr th {\n",
       "        vertical-align: top;\n",
       "    }\n",
       "\n",
       "    .dataframe thead th {\n",
       "        text-align: right;\n",
       "    }\n",
       "</style>\n",
       "<table border=\"1\" class=\"dataframe\">\n",
       "  <thead>\n",
       "    <tr style=\"text-align: right;\">\n",
       "      <th></th>\n",
       "      <th>Tweet</th>\n",
       "      <th>len</th>\n",
       "      <th>ID</th>\n",
       "      <th>Date</th>\n",
       "      <th>Scource</th>\n",
       "      <th>Likes</th>\n",
       "      <th>RTs</th>\n",
       "      <th>SA</th>\n",
       "    </tr>\n",
       "  </thead>\n",
       "  <tbody>\n",
       "    <tr>\n",
       "      <th>0</th>\n",
       "      <td>Congressman David Kustoff has been a champion ...</td>\n",
       "      <td>140</td>\n",
       "      <td>1022936690267176971</td>\n",
       "      <td>2018-07-27 20:08:06</td>\n",
       "      <td>Twitter for iPhone</td>\n",
       "      <td>17773</td>\n",
       "      <td>4618</td>\n",
       "      <td>1</td>\n",
       "    </tr>\n",
       "    <tr>\n",
       "      <th>1</th>\n",
       "      <td>Private business investment has surged from 1....</td>\n",
       "      <td>140</td>\n",
       "      <td>1022925366669856769</td>\n",
       "      <td>2018-07-27 19:23:07</td>\n",
       "      <td>Twitter for iPhone</td>\n",
       "      <td>22009</td>\n",
       "      <td>5969</td>\n",
       "      <td>0</td>\n",
       "    </tr>\n",
       "    <tr>\n",
       "      <th>2</th>\n",
       "      <td>The @USNavy’s first female Admiral, Alene Duer...</td>\n",
       "      <td>140</td>\n",
       "      <td>1022908672756801536</td>\n",
       "      <td>2018-07-27 18:16:46</td>\n",
       "      <td>Twitter for iPhone</td>\n",
       "      <td>24173</td>\n",
       "      <td>5744</td>\n",
       "      <td>1</td>\n",
       "    </tr>\n",
       "    <tr>\n",
       "      <th>3</th>\n",
       "      <td>We have accomplished an economic turnaround of...</td>\n",
       "      <td>92</td>\n",
       "      <td>1022879441767288834</td>\n",
       "      <td>2018-07-27 16:20:37</td>\n",
       "      <td>Twitter for iPhone</td>\n",
       "      <td>35861</td>\n",
       "      <td>9474</td>\n",
       "      <td>1</td>\n",
       "    </tr>\n",
       "    <tr>\n",
       "      <th>4</th>\n",
       "      <td>I am thrilled to announce that in the second q...</td>\n",
       "      <td>140</td>\n",
       "      <td>1022877332858650624</td>\n",
       "      <td>2018-07-27 16:12:14</td>\n",
       "      <td>Twitter for iPhone</td>\n",
       "      <td>49944</td>\n",
       "      <td>12849</td>\n",
       "      <td>1</td>\n",
       "    </tr>\n",
       "  </tbody>\n",
       "</table>\n",
       "</div>"
      ],
      "text/plain": [
       "                                               Tweet  len  \\\n",
       "0  Congressman David Kustoff has been a champion ...  140   \n",
       "1  Private business investment has surged from 1....  140   \n",
       "2  The @USNavy’s first female Admiral, Alene Duer...  140   \n",
       "3  We have accomplished an economic turnaround of...   92   \n",
       "4  I am thrilled to announce that in the second q...  140   \n",
       "\n",
       "                    ID                Date             Scource  Likes    RTs  \\\n",
       "0  1022936690267176971 2018-07-27 20:08:06  Twitter for iPhone  17773   4618   \n",
       "1  1022925366669856769 2018-07-27 19:23:07  Twitter for iPhone  22009   5969   \n",
       "2  1022908672756801536 2018-07-27 18:16:46  Twitter for iPhone  24173   5744   \n",
       "3  1022879441767288834 2018-07-27 16:20:37  Twitter for iPhone  35861   9474   \n",
       "4  1022877332858650624 2018-07-27 16:12:14  Twitter for iPhone  49944  12849   \n",
       "\n",
       "   SA  \n",
       "0   1  \n",
       "1   0  \n",
       "2   1  \n",
       "3   1  \n",
       "4   1  "
      ]
     },
     "execution_count": 20,
     "metadata": {},
     "output_type": "execute_result"
    }
   ],
   "source": [
    "data.head()"
   ]
  },
  {
   "cell_type": "code",
   "execution_count": 21,
   "metadata": {},
   "outputs": [],
   "source": [
    "pos_tweet=data[data['SA']==1]['Tweet']\n",
    "neu_tweet=data[data['SA']==0]['Tweet']\n",
    "neg_tweet=data[data['SA']==-1]['Tweet']"
   ]
  },
  {
   "cell_type": "code",
   "execution_count": 28,
   "metadata": {},
   "outputs": [
    {
     "name": "stdout",
     "output_type": "stream",
     "text": [
      "% of positive tweets =  50.0  %\n",
      "% of neutral tweets =  32.5  %\n",
      "% of negative tweets =  17.5  %\n"
     ]
    }
   ],
   "source": [
    "print (('% of positive tweets = '), (len(pos_tweet)*100)/len(data['Tweet']) , \" %\")\n",
    "print (('% of neutral tweets = '), (len(neu_tweet)*100)/len(data['Tweet']) , \" %\")\n",
    "print (('% of negative tweets = '), (len(neg_tweet)*100)/len(data['Tweet']) , \" %\")"
   ]
  },
  {
   "cell_type": "code",
   "execution_count": null,
   "metadata": {},
   "outputs": [],
   "source": []
  }
 ],
 "metadata": {
  "kernelspec": {
   "display_name": "Python 3",
   "language": "python",
   "name": "python3"
  },
  "language_info": {
   "codemirror_mode": {
    "name": "ipython",
    "version": 3
   },
   "file_extension": ".py",
   "mimetype": "text/x-python",
   "name": "python",
   "nbconvert_exporter": "python",
   "pygments_lexer": "ipython3",
   "version": "3.6.4"
  }
 },
 "nbformat": 4,
 "nbformat_minor": 1
}
