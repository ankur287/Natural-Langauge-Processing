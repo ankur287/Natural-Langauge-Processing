{
 "cells": [
  {
   "cell_type": "markdown",
   "metadata": {},
   "source": [
    "# Text similarity using NLP"
   ]
  },
  {
   "cell_type": "markdown",
   "metadata": {},
   "source": [
    "In this notebook, I wil be using various approaches to identify how similar two sentences are. I wil be using SICK dataset for this project. This dataset has two sentences along with the similariy score tagged by human. I will use correlation between my similarity scores and given similarity scores to assess the performance of the model.\n",
    "Below the algorithms that I will use to calculate similarity:\n",
    "\n",
    "1. Count Vectorizer + Cosine Similarity\n",
    "2. TF-IDF Vectorizer + Cosine Similarity\n",
    "3. Average Word2Vec + Cosine Similarity\n",
    "4. Word2Vec + Word Mover Distance\n",
    "5. Infersent algorithm for sentence encoding\n",
    "6. Topic Modeling"
   ]
  },
  {
   "cell_type": "code",
   "execution_count": 1,
   "metadata": {},
   "outputs": [],
   "source": [
    "import pyemd\n",
    "import requests\n",
    "import pandas as pd\n",
    "import matplotlib.pyplot as plt\n",
    "import numpy as np\n",
    "import re\n",
    "import nltk\n",
    "from nltk.corpus import stopwords"
   ]
  },
  {
   "cell_type": "code",
   "execution_count": 11,
   "metadata": {},
   "outputs": [],
   "source": [
    "def download_sick(f): \n",
    "\n",
    "    response = requests.get(f).text\n",
    "\n",
    "    lines = response.split(\"\\n\")[1:]\n",
    "    lines = [l.split(\"\\t\") for l in lines if len(l) > 0]\n",
    "    lines = [l for l in lines if len(l) == 5]\n",
    "\n",
    "    df = pd.DataFrame(lines, columns=[\"idx\", \"sent_1\", \"sent_2\", \"sim\", \"label\"])\n",
    "    df['sim'] = pd.to_numeric(df['sim'])\n",
    "    return df\n",
    "    \n",
    "sick_train = download_sick(\"https://raw.githubusercontent.com/alvations/stasis/master/SICK-data/SICK_train.txt\")\n",
    "sick_dev = download_sick(\"https://raw.githubusercontent.com/alvations/stasis/master/SICK-data/SICK_trial.txt\")\n",
    "sick_test = download_sick(\"https://raw.githubusercontent.com/alvations/stasis/master/SICK-data/SICK_test_annotated.txt\")\n",
    "sick_all = sick_train.append(sick_test).append(sick_dev)\n",
    "sick_all = sick_all.reset_index()"
   ]
  },
  {
   "cell_type": "code",
   "execution_count": 12,
   "metadata": {},
   "outputs": [],
   "source": [
    "from nltk.corpus import wordnet\n",
    "\n",
    "def get_wordnet_pos(word):\n",
    "    \"\"\"Map POS tag to first character lemmatize() accepts\"\"\"\n",
    "    tag = nltk.pos_tag([word])[0][1][0].upper()\n",
    "    tag_dict = {\"J\": wordnet.ADJ,\n",
    "                \"N\": wordnet.NOUN,\n",
    "                \"V\": wordnet.VERB,\n",
    "                \"R\": wordnet.ADV}\n",
    "\n",
    "    return tag_dict.get(tag, wordnet.NOUN)"
   ]
  },
  {
   "cell_type": "code",
   "execution_count": 13,
   "metadata": {},
   "outputs": [],
   "source": [
    "from nltk.stem import WordNetLemmatizer\n",
    "lemma = WordNetLemmatizer()\n",
    "def review_word_list(review):\n",
    "    review_text = re.sub(\"[^a-zA-Z]\",\" \",review)\n",
    "    review_text = re.sub(r'\\W',\" \",review_text)\n",
    "    words= review_text.lower().split()\n",
    "    words= [lemma.lemmatize(w,get_wordnet_pos(w)) for w in words if w not in set(stopwords.words('english')) and len(w)>1]\n",
    "    document = ' '.join(words)\n",
    "    return document\n",
    "\n",
    "sick_all['sent_1_clean']=sick_all['sent_1'].apply(review_word_list)\n",
    "sick_all['sent_2_clean']=sick_all['sent_2'].apply(review_word_list)"
   ]
  },
  {
   "cell_type": "code",
   "execution_count": 14,
   "metadata": {},
   "outputs": [
    {
     "data": {
      "image/png": "[encoded data removed]",
      "text/plain": [
       "<matplotlib.figure.Figure at 0x1e29ad82198>"
      ]
     },
     "metadata": {},
     "output_type": "display_data"
    }
   ],
   "source": [
    "plt.hist(sick_all['sim'])\n",
    "plt.xlabel(\"Similarity Score\")\n",
    "plt.ylabel(\"Frequency\")\n",
    "plt.title(\"Similarity Distribution\")\n",
    "plt.show()"
   ]
  },
  {
   "cell_type": "code",
   "execution_count": 15,
   "metadata": {},
   "outputs": [
    {
     "data": {
      "text/html": [
       "<div>\n",
       "<style scoped>\n",
       "    .dataframe tbody tr th:only-of-type {\n",
       "        vertical-align: middle;\n",
       "    }\n",
       "\n",
       "    .dataframe tbody tr th {\n",
       "        vertical-align: top;\n",
       "    }\n",
       "\n",
       "    .dataframe thead th {\n",
       "        text-align: right;\n",
       "    }\n",
       "</style>\n",
       "<table border=\"1\" class=\"dataframe\">\n",
       "  <thead>\n",
       "    <tr style=\"text-align: right;\">\n",
       "      <th></th>\n",
       "      <th>idx</th>\n",
       "      <th>sent_1</th>\n",
       "      <th>sent_2</th>\n",
       "      <th>sim</th>\n",
       "      <th>label</th>\n",
       "      <th>sent_1_clean</th>\n",
       "      <th>sent_2_clean</th>\n",
       "    </tr>\n",
       "  </thead>\n",
       "  <tbody>\n",
       "    <tr>\n",
       "      <th>505</th>\n",
       "      <td>1147</td>\n",
       "      <td>A woman is dipping a shrimp in batter</td>\n",
       "      <td>A man is driving a car</td>\n",
       "      <td>1.0</td>\n",
       "      <td>NEUTRAL</td>\n",
       "      <td>woman dip shrimp batter</td>\n",
       "      <td>man drive car</td>\n",
       "    </tr>\n",
       "    <tr>\n",
       "      <th>518</th>\n",
       "      <td>1180</td>\n",
       "      <td>A woman is boiling shrimps</td>\n",
       "      <td>There is no woman combing her hair</td>\n",
       "      <td>1.0</td>\n",
       "      <td>NEUTRAL</td>\n",
       "      <td>woman boil shrimp</td>\n",
       "      <td>woman comb hair</td>\n",
       "    </tr>\n",
       "    <tr>\n",
       "      <th>573</th>\n",
       "      <td>1317</td>\n",
       "      <td>A person is performing a card trick</td>\n",
       "      <td>A man is frying a tortilla</td>\n",
       "      <td>1.0</td>\n",
       "      <td>NEUTRAL</td>\n",
       "      <td>person perform card trick</td>\n",
       "      <td>man fry tortilla</td>\n",
       "    </tr>\n",
       "    <tr>\n",
       "      <th>622</th>\n",
       "      <td>1427</td>\n",
       "      <td>A woman is chopping an onion</td>\n",
       "      <td>A woman is washing her feet</td>\n",
       "      <td>1.0</td>\n",
       "      <td>NEUTRAL</td>\n",
       "      <td>woman chop onion</td>\n",
       "      <td>woman wash foot</td>\n",
       "    </tr>\n",
       "    <tr>\n",
       "      <th>636</th>\n",
       "      <td>1463</td>\n",
       "      <td>A man is exercising</td>\n",
       "      <td>A happy baby is laughing</td>\n",
       "      <td>1.0</td>\n",
       "      <td>NEUTRAL</td>\n",
       "      <td>man exercise</td>\n",
       "      <td>happy baby laugh</td>\n",
       "    </tr>\n",
       "  </tbody>\n",
       "</table>\n",
       "</div>"
      ],
      "text/plain": [
       "      idx                                 sent_1  \\\n",
       "505  1147  A woman is dipping a shrimp in batter   \n",
       "518  1180             A woman is boiling shrimps   \n",
       "573  1317    A person is performing a card trick   \n",
       "622  1427           A woman is chopping an onion   \n",
       "636  1463                    A man is exercising   \n",
       "\n",
       "                                 sent_2  sim    label  \\\n",
       "505              A man is driving a car  1.0  NEUTRAL   \n",
       "518  There is no woman combing her hair  1.0  NEUTRAL   \n",
       "573          A man is frying a tortilla  1.0  NEUTRAL   \n",
       "622         A woman is washing her feet  1.0  NEUTRAL   \n",
       "636            A happy baby is laughing  1.0  NEUTRAL   \n",
       "\n",
       "                  sent_1_clean      sent_2_clean  \n",
       "505    woman dip shrimp batter     man drive car  \n",
       "518          woman boil shrimp   woman comb hair  \n",
       "573  person perform card trick  man fry tortilla  \n",
       "622           woman chop onion   woman wash foot  \n",
       "636               man exercise  happy baby laugh  "
      ]
     },
     "execution_count": 15,
     "metadata": {},
     "output_type": "execute_result"
    }
   ],
   "source": [
    "sick_all[sick_all['sim']==1].head()"
   ]
  },
  {
   "cell_type": "code",
   "execution_count": 16,
   "metadata": {},
   "outputs": [
    {
     "data": {
      "text/html": [
       "<div>\n",
       "<style scoped>\n",
       "    .dataframe tbody tr th:only-of-type {\n",
       "        vertical-align: middle;\n",
       "    }\n",
       "\n",
       "    .dataframe tbody tr th {\n",
       "        vertical-align: top;\n",
       "    }\n",
       "\n",
       "    .dataframe thead th {\n",
       "        text-align: right;\n",
       "    }\n",
       "</style>\n",
       "<table border=\"1\" class=\"dataframe\">\n",
       "  <thead>\n",
       "    <tr style=\"text-align: right;\">\n",
       "      <th></th>\n",
       "      <th>idx</th>\n",
       "      <th>sent_1</th>\n",
       "      <th>sent_2</th>\n",
       "      <th>sim</th>\n",
       "      <th>label</th>\n",
       "      <th>sent_1_clean</th>\n",
       "      <th>sent_2_clean</th>\n",
       "    </tr>\n",
       "  </thead>\n",
       "  <tbody>\n",
       "    <tr>\n",
       "      <th>35</th>\n",
       "      <td>87</td>\n",
       "      <td>A lone biker is jumping in the air</td>\n",
       "      <td>A biker is jumping in the air, alone</td>\n",
       "      <td>5.0</td>\n",
       "      <td>ENTAILMENT</td>\n",
       "      <td>lone biker jumping air</td>\n",
       "      <td>biker jumping air alone</td>\n",
       "    </tr>\n",
       "    <tr>\n",
       "      <th>253</th>\n",
       "      <td>603</td>\n",
       "      <td>A young lady with light brown hair is wearing ...</td>\n",
       "      <td>A lady of young age, with light brown hair, is...</td>\n",
       "      <td>5.0</td>\n",
       "      <td>ENTAILMENT</td>\n",
       "      <td>young lady light brown hair wear red necklace ...</td>\n",
       "      <td>lady young age light brown hair wear red neckl...</td>\n",
       "    </tr>\n",
       "    <tr>\n",
       "      <th>294</th>\n",
       "      <td>692</td>\n",
       "      <td>A dog which is furry and black is in a backyar...</td>\n",
       "      <td>A dog which is furry and black is in a back ya...</td>\n",
       "      <td>5.0</td>\n",
       "      <td>ENTAILMENT</td>\n",
       "      <td>dog furry black backyard carry basket mouth</td>\n",
       "      <td>dog furry black back yard carry basket mouth</td>\n",
       "    </tr>\n",
       "    <tr>\n",
       "      <th>419</th>\n",
       "      <td>960</td>\n",
       "      <td>A man in a shirt dyed purple is looking at a m...</td>\n",
       "      <td>A man in a shirt dyed purple is looking at a m...</td>\n",
       "      <td>5.0</td>\n",
       "      <td>ENTAILMENT</td>\n",
       "      <td>man shirt dyed purple look man black shirt fun...</td>\n",
       "      <td>man shirt dyed purple look man black shirt fac...</td>\n",
       "    </tr>\n",
       "    <tr>\n",
       "      <th>431</th>\n",
       "      <td>989</td>\n",
       "      <td>The man and the boy are standing at the bottom...</td>\n",
       "      <td>A man and a boy are standing at the bottom of ...</td>\n",
       "      <td>5.0</td>\n",
       "      <td>ENTAILMENT</td>\n",
       "      <td>man boy stand bottom stair outdoors</td>\n",
       "      <td>man boy stand bottom stair outdoors</td>\n",
       "    </tr>\n",
       "  </tbody>\n",
       "</table>\n",
       "</div>"
      ],
      "text/plain": [
       "     idx                                             sent_1  \\\n",
       "35    87                 A lone biker is jumping in the air   \n",
       "253  603  A young lady with light brown hair is wearing ...   \n",
       "294  692  A dog which is furry and black is in a backyar...   \n",
       "419  960  A man in a shirt dyed purple is looking at a m...   \n",
       "431  989  The man and the boy are standing at the bottom...   \n",
       "\n",
       "                                                sent_2  sim       label  \\\n",
       "35                A biker is jumping in the air, alone  5.0  ENTAILMENT   \n",
       "253  A lady of young age, with light brown hair, is...  5.0  ENTAILMENT   \n",
       "294  A dog which is furry and black is in a back ya...  5.0  ENTAILMENT   \n",
       "419  A man in a shirt dyed purple is looking at a m...  5.0  ENTAILMENT   \n",
       "431  A man and a boy are standing at the bottom of ...  5.0  ENTAILMENT   \n",
       "\n",
       "                                          sent_1_clean  \\\n",
       "35                              lone biker jumping air   \n",
       "253  young lady light brown hair wear red necklace ...   \n",
       "294        dog furry black backyard carry basket mouth   \n",
       "419  man shirt dyed purple look man black shirt fun...   \n",
       "431                man boy stand bottom stair outdoors   \n",
       "\n",
       "                                          sent_2_clean  \n",
       "35                             biker jumping air alone  \n",
       "253  lady young age light brown hair wear red neckl...  \n",
       "294       dog furry black back yard carry basket mouth  \n",
       "419  man shirt dyed purple look man black shirt fac...  \n",
       "431                man boy stand bottom stair outdoors  "
      ]
     },
     "execution_count": 16,
     "metadata": {},
     "output_type": "execute_result"
    }
   ],
   "source": [
    "sick_all[sick_all['sim']==5].head()"
   ]
  },
  {
   "cell_type": "code",
   "execution_count": 17,
   "metadata": {},
   "outputs": [],
   "source": [
    "scaled_sim = (sick_all['sim']-sick_all['sim'].min())/(sick_all['sim'].max()-sick_all['sim'].min())"
   ]
  },
  {
   "cell_type": "markdown",
   "metadata": {},
   "source": [
    "## Count Vectorizer method"
   ]
  },
  {
   "cell_type": "code",
   "execution_count": 18,
   "metadata": {},
   "outputs": [],
   "source": [
    "from sklearn.feature_extraction.text import CountVectorizer\n",
    "from nltk.corpus import stopwords\n",
    "\n",
    "vectorizer = CountVectorizer(max_features=2000, min_df=5, max_df=0.8, stop_words=stopwords.words('english'))\n",
    "vec = vectorizer.fit(pd.concat([sick_all['sent_1_clean'],sick_all['sent_2_clean']]))\n",
    "X_sent1 = vec.transform(sick_all['sent_1_clean']).toarray()\n",
    "X_sent2 = vec.transform(sick_all['sent_2_clean']).toarray()"
   ]
  },
  {
   "cell_type": "code",
   "execution_count": 19,
   "metadata": {},
   "outputs": [],
   "source": [
    "from sklearn.metrics.pairwise import cosine_similarity\n",
    "similarity = np.diagonal(cosine_similarity(X_sent1,X_sent2))"
   ]
  },
  {
   "cell_type": "code",
   "execution_count": 20,
   "metadata": {},
   "outputs": [
    {
     "data": {
      "text/plain": [
       "0.632846957479832"
      ]
     },
     "execution_count": 20,
     "metadata": {},
     "output_type": "execute_result"
    }
   ],
   "source": [
    "x= np.corrcoef(similarity,scaled_sim.values)\n",
    "sim_count_vec = x.diagonal(1)[0]\n",
    "sim_count_vec"
   ]
  },
  {
   "cell_type": "markdown",
   "metadata": {},
   "source": [
    "## TFIDF method"
   ]
  },
  {
   "cell_type": "code",
   "execution_count": 21,
   "metadata": {},
   "outputs": [],
   "source": [
    "from sklearn.feature_extraction.text import TfidfVectorizer\n",
    "vectorizer = TfidfVectorizer(max_features=2000, min_df=5, max_df=0.8, stop_words=stopwords.words('english'))\n",
    "vec = vectorizer.fit(pd.concat([sick_all['sent_1_clean'],sick_all['sent_2_clean']]))\n",
    "X_sent1 = vec.transform(sick_all['sent_1_clean']).toarray()\n",
    "X_sent2 = vec.transform(sick_all['sent_2_clean']).toarray()"
   ]
  },
  {
   "cell_type": "code",
   "execution_count": 22,
   "metadata": {},
   "outputs": [
    {
     "data": {
      "text/plain": [
       "0.625162814413102"
      ]
     },
     "execution_count": 22,
     "metadata": {},
     "output_type": "execute_result"
    }
   ],
   "source": [
    "similarity = np.diagonal(cosine_similarity(X_sent1,X_sent2))\n",
    "x= np.corrcoef(similarity,scaled_sim.values)\n",
    "sim_tfidf_vec = x.diagonal(1)[0]\n",
    "sim_tfidf_vec"
   ]
  },
  {
   "cell_type": "markdown",
   "metadata": {},
   "source": [
    "## Word2Vec Embedding"
   ]
  },
  {
   "cell_type": "code",
   "execution_count": 87,
   "metadata": {},
   "outputs": [],
   "source": [
    "import gensim\n",
    "path='C:/Users/tomar/Google Drive/My folder 1/Courses/NLP/Quora Kaggle/embeddings/'\n",
    "# Load Google's pre-trained Word2Vec model.\n",
    "model = gensim.models.KeyedVectors.load_word2vec_format(path+'GoogleNews-vectors-negative300.bin', binary=True)  "
   ]
  },
  {
   "cell_type": "code",
   "execution_count": 100,
   "metadata": {},
   "outputs": [],
   "source": [
    "sick_all['sent_1_token'] = sick_all['sent_1'].apply(lambda x: x.split())\n",
    "sick_all['sent_2_token'] = sick_all['sent_2'].apply(lambda x: x.split())\n",
    "\n",
    "sick_all['sent_1_clean_token'] = sick_all['sent_1_clean'].apply(lambda x: x.split())\n",
    "sick_all['sent_2_clean_token'] = sick_all['sent_2_clean'].apply(lambda x: x.split())"
   ]
  },
  {
   "cell_type": "code",
   "execution_count": 101,
   "metadata": {},
   "outputs": [],
   "source": [
    "def similarity_calc(sent1,sent2,model):\n",
    "    tokens1 = [token for token in sent1 if token in model]\n",
    "    tokens2 = [token for token in sent2 if token in model]\n",
    "    if len(tokens1) == 0 or len(tokens2) == 0:\n",
    "        return 0\n",
    "    embedding1 = np.average([model[token] for token in tokens1], axis=0).reshape(1, -1)\n",
    "    embedding2 = np.average([model[token] for token in tokens2], axis=0).reshape(1, -1)\n",
    "    return cosine_similarity(embedding1, embedding2)"
   ]
  },
  {
   "cell_type": "code",
   "execution_count": 103,
   "metadata": {},
   "outputs": [],
   "source": [
    "sim_cal = []\n",
    "sim_cal_clean = []\n",
    "for i in range(0,sick_all.shape[0]):\n",
    "    sim_cal.append(similarity_calc(sick_all['sent_1_token'][i],sick_all['sent_2_token'][i],model)[0][0])\n",
    "    sim_cal_clean.append(similarity_calc(sick_all['sent_1_clean_token'][i],sick_all['sent_2_clean_token'][i],model)[0][0])"
   ]
  },
  {
   "cell_type": "code",
   "execution_count": 108,
   "metadata": {},
   "outputs": [
    {
     "name": "stdout",
     "output_type": "stream",
     "text": [
      "Raw Senetence similarity is: 0.6945\n",
      "Clean Senetence similarity is: 0.7068\n"
     ]
    }
   ],
   "source": [
    "x= np.corrcoef(sim_cal,scaled_sim.values)\n",
    "sim_w2v = x.diagonal(1)[0]\n",
    "print(\"Raw Senetence similarity is: {0:.4f}\".format(sim_w2v))\n",
    "\n",
    "x= np.corrcoef(sim_cal_clean,scaled_sim.values)\n",
    "sim_w2v = x.diagonal(1)[0]\n",
    "print(\"Clean Senetence similarity is: {0:.4f}\".format(sim_w2v))"
   ]
  },
  {
   "cell_type": "markdown",
   "metadata": {},
   "source": [
    "### Word mover distance"
   ]
  },
  {
   "cell_type": "code",
   "execution_count": 34,
   "metadata": {},
   "outputs": [],
   "source": [
    "from pyemd import emd\n",
    "from gensim.similarities import WmdSimilarity\n",
    "sim_cal = []\n",
    "for i in range(0,sick_all.shape[0]):\n",
    "    sim_cal.append(-model.wmdistance(sick_all['sent_1_clean_token'][i],sick_all['sent_2_clean_token'][i]))\n",
    "sim_cal = np.array(sim_cal)\n",
    "sim_cal_scaled = (sim_cal-sim_cal.min())/(sim_cal.max()-sim_cal.min())"
   ]
  },
  {
   "cell_type": "code",
   "execution_count": 35,
   "metadata": {},
   "outputs": [
    {
     "data": {
      "text/plain": [
       "0.6081976471082803"
      ]
     },
     "execution_count": 35,
     "metadata": {},
     "output_type": "execute_result"
    }
   ],
   "source": [
    "x= np.corrcoef(sim_cal_scaled,scaled_sim.values)\n",
    "sim_w2v_wmd = x.diagonal(1)[0]\n",
    "sim_w2v_wmd"
   ]
  },
  {
   "cell_type": "markdown",
   "metadata": {},
   "source": [
    "## Infersent"
   ]
  },
  {
   "cell_type": "code",
   "execution_count": 111,
   "metadata": {},
   "outputs": [],
   "source": [
    "from models import InferSent\n",
    "import torch"
   ]
  },
  {
   "cell_type": "code",
   "execution_count": 112,
   "metadata": {},
   "outputs": [],
   "source": [
    "model_version = 1\n",
    "MODEL_PATH = \"encoder/infersent%s.pkl\" % model_version\n",
    "params_model = {'bsize': 64, 'word_emb_dim': 300, 'enc_lstm_dim': 2048,\n",
    "                'pool_type': 'max', 'dpout_model': 0.0, 'version': model_version}\n",
    "model = InferSent(params_model)\n",
    "model.load_state_dict(torch.load(MODEL_PATH))"
   ]
  },
  {
   "cell_type": "code",
   "execution_count": 113,
   "metadata": {},
   "outputs": [],
   "source": [
    "# Keep it on CPU or put it on GPU\n",
    "use_cuda = False\n",
    "model = model.cuda() if use_cuda else model"
   ]
  },
  {
   "cell_type": "code",
   "execution_count": 114,
   "metadata": {},
   "outputs": [],
   "source": [
    "W2V_PATH = 'C:/Users/tomar/Google Drive/My folder 1/Courses/NLP/Quora Kaggle/embeddings//glove.840B.300d.txt'\n",
    "model.set_w2v_path(W2V_PATH)"
   ]
  },
  {
   "cell_type": "code",
   "execution_count": 116,
   "metadata": {},
   "outputs": [
    {
     "data": {
      "image/png": "[encoded data removed]",
      "text/plain": [
       "<matplotlib.figure.Figure at 0x1e2dafa1438>"
      ]
     },
     "metadata": {},
     "output_type": "display_data"
    }
   ],
   "source": [
    "_, _ = model.visualize(sick_all['sent_1'][0])"
   ]
  },
  {
   "cell_type": "code",
   "execution_count": 122,
   "metadata": {},
   "outputs": [
    {
     "name": "stdout",
     "output_type": "stream",
     "text": [
      "Found 2405(/2410) words with w2v vectors\n",
      "Vocab size : 2405\n"
     ]
    }
   ],
   "source": [
    "raw_sentences1 = [x for x in sick_all['sent_1']]\n",
    "raw_sentences2 = [x for x in sick_all['sent_2']]\n",
    "model.build_vocab(raw_sentences1 + raw_sentences2, tokenize=True)"
   ]
  },
  {
   "cell_type": "code",
   "execution_count": 123,
   "metadata": {},
   "outputs": [],
   "source": [
    "embeddings1 = model.encode(raw_sentences1, tokenize=True)\n",
    "embeddings2 = model.encode(raw_sentences2, tokenize=True)"
   ]
  },
  {
   "cell_type": "code",
   "execution_count": 124,
   "metadata": {},
   "outputs": [],
   "source": [
    "inf_sims=[]\n",
    "for (emb1, emb2) in zip(embeddings1, embeddings2):\n",
    "    \n",
    "    sim = cosine_similarity(emb1.reshape(1, -1), emb2.reshape(1, -1))[0][0]\n",
    "    inf_sims.append(sim)"
   ]
  },
  {
   "cell_type": "code",
   "execution_count": 125,
   "metadata": {},
   "outputs": [
    {
     "data": {
      "text/plain": [
       "0.7453382841664252"
      ]
     },
     "execution_count": 125,
     "metadata": {},
     "output_type": "execute_result"
    }
   ],
   "source": [
    "x= np.corrcoef(inf_sims,scaled_sim.values)\n",
    "sim_inf = x.diagonal(1)[0]\n",
    "sim_inf"
   ]
  },
  {
   "cell_type": "markdown",
   "metadata": {},
   "source": [
    "# Topic Modelling"
   ]
  },
  {
   "cell_type": "code",
   "execution_count": 136,
   "metadata": {},
   "outputs": [],
   "source": [
    "from gensim import corpora\n",
    "from gensim.models import CoherenceModel\n",
    "import pyLDAvis.gensim\n",
    "from spacy.lang.en import English\n",
    "import warnings\n",
    "warnings.filterwarnings('ignore')"
   ]
  },
  {
   "cell_type": "code",
   "execution_count": 133,
   "metadata": {},
   "outputs": [],
   "source": [
    "text_data=list(sick_all['sent_1_clean_token'].values)+list(sick_all['sent_2_clean_token'].values)\n",
    "dictionary = corpora.Dictionary(text_data)\n",
    "corpus = [dictionary.doc2bow(text) for text in text_data]\n",
    "coherence_values = []"
   ]
  },
  {
   "cell_type": "code",
   "execution_count": 141,
   "metadata": {},
   "outputs": [
    {
     "name": "stdout",
     "output_type": "stream",
     "text": [
      "3\n",
      "4\n",
      "5\n",
      "6\n",
      "7\n",
      "8\n",
      "9\n",
      "10\n",
      "11\n",
      "12\n",
      "13\n",
      "14\n",
      "15\n",
      "16\n",
      "17\n",
      "18\n",
      "19\n"
     ]
    }
   ],
   "source": [
    "range_num_topics = range(3,20)\n",
    "for num_topics in range_num_topics:\n",
    "    print(num_topics)\n",
    "    model = gensim.models.LdaMulticore(corpus, num_topics = num_topics, id2word=dictionary, passes=15)\n",
    "    coherencemodel = CoherenceModel(model=model, texts=text_data, dictionary=dictionary, coherence='c_v')\n",
    "    coherence_values.append(coherencemodel.get_coherence())"
   ]
  },
  {
   "cell_type": "code",
   "execution_count": 142,
   "metadata": {},
   "outputs": [
    {
     "data": {
      "text/plain": [
       "[<matplotlib.lines.Line2D at 0x1e2e77d96d8>]"
      ]
     },
     "execution_count": 142,
     "metadata": {},
     "output_type": "execute_result"
    },
    {
     "data": {
      "image/png": "[encoded data removed]",
      "text/plain": [
       "<matplotlib.figure.Figure at 0x1e2e75d0160>"
      ]
     },
     "metadata": {},
     "output_type": "display_data"
    }
   ],
   "source": [
    "plt.plot(coherence_values)"
   ]
  },
  {
   "cell_type": "code",
   "execution_count": 194,
   "metadata": {},
   "outputs": [],
   "source": [
    "max_topic = 3+coherence_values.index(max(coherence_values))\n",
    "model = gensim.models.LdaMulticore(corpus, num_topics = max_topic, id2word=dictionary, passes=15)"
   ]
  },
  {
   "cell_type": "code",
   "execution_count": 195,
   "metadata": {},
   "outputs": [
    {
     "name": "stdout",
     "output_type": "stream",
     "text": [
      "Topic: 0 \n",
      "Words: 0.140*\"play\" + 0.115*\"man\" + 0.067*\"guitar\" + 0.052*\"boy\" + 0.031*\"cat\" + 0.022*\"jumping\" + 0.020*\"person\" + 0.017*\"piano\" + 0.017*\"sing\" + 0.014*\"little\"\n",
      "Topic: 1 \n",
      "Words: 0.160*\"dog\" + 0.051*\"run\" + 0.043*\"white\" + 0.041*\"brown\" + 0.036*\"play\" + 0.034*\"black\" + 0.030*\"ball\" + 0.028*\"two\" + 0.026*\"grass\" + 0.024*\"child\"\n",
      "Topic: 2 \n",
      "Words: 0.128*\"man\" + 0.034*\"sit\" + 0.024*\"play\" + 0.019*\"car\" + 0.018*\"walk\" + 0.016*\"stand\" + 0.016*\"people\" + 0.014*\"motorcycle\" + 0.014*\"two\" + 0.014*\"rope\"\n",
      "Topic: 3 \n",
      "Words: 0.148*\"woman\" + 0.061*\"girl\" + 0.042*\"man\" + 0.041*\"dance\" + 0.024*\"slice\" + 0.023*\"onion\" + 0.016*\"little\" + 0.015*\"cut\" + 0.015*\"egg\" + 0.012*\"sit\"\n",
      "Topic: 4 \n",
      "Words: 0.070*\"man\" + 0.048*\"water\" + 0.031*\"jumping\" + 0.021*\"trick\" + 0.021*\"dog\" + 0.017*\"woman\" + 0.016*\"perform\" + 0.015*\"pour\" + 0.013*\"oil\" + 0.013*\"kid\"\n",
      "Topic: 5 \n",
      "Words: 0.055*\"stand\" + 0.045*\"men\" + 0.043*\"people\" + 0.037*\"two\" + 0.023*\"front\" + 0.022*\"group\" + 0.022*\"rock\" + 0.021*\"child\" + 0.021*\"three\" + 0.019*\"man\"\n",
      "Topic: 6 \n",
      "Words: 0.066*\"man\" + 0.052*\"woman\" + 0.045*\"person\" + 0.039*\"slice\" + 0.030*\"potato\" + 0.026*\"sit\" + 0.023*\"eat\" + 0.023*\"cut\" + 0.021*\"piece\" + 0.016*\"bowl\"\n",
      "Topic: 7 \n",
      "Words: 0.077*\"rid\" + 0.059*\"man\" + 0.035*\"bike\" + 0.034*\"horse\" + 0.027*\"woman\" + 0.024*\"wear\" + 0.024*\"two\" + 0.022*\"person\" + 0.019*\"boy\" + 0.016*\"walk\"\n",
      "Topic: 8 \n",
      "Words: 0.053*\"wear\" + 0.039*\"woman\" + 0.037*\"man\" + 0.033*\"shirt\" + 0.032*\"black\" + 0.027*\"girl\" + 0.022*\"white\" + 0.019*\"blue\" + 0.017*\"people\" + 0.017*\"pink\"\n"
     ]
    }
   ],
   "source": [
    "for idx, topic in model.print_topics(-1):\n",
    "    print('Topic: {} \\nWords: {}'.format(idx, topic))"
   ]
  },
  {
   "cell_type": "code",
   "execution_count": 196,
   "metadata": {},
   "outputs": [
    {
     "data": {
      "text/html": [
       "\n",
       "<link rel=\"stylesheet\" type=\"text/css\" href=\"https://cdn.rawgit.com/bmabey/pyLDAvis/files/ldavis.v1.0.0.css\">\n",
       "\n",
       "\n",
       "<div id=\"ldavis_el964420738495199441444504576\"></div>\n",
       "<script type=\"text/javascript\">\n",
       "\n",
       "var ldavis_el964420738495199441444504576_data = {\"mdsDat\": {\"Freq\": [15.778186798095703, 11.819217681884766, 11.377581596374512, 11.224971771240234, 10.697273254394531, 10.433746337890625, 9.993098258972168, 9.68748950958252, 8.98843002319336], \"cluster\": [1, 1, 1, 1, 1, 1, 1, 1, 1], \"topics\": [1, 2, 3, 4, 5, 6, 7, 8, 9], \"x\": [-0.284567911141592, -0.07533979247872542, 0.030028486964392333, 0.02094266014156362, 0.021409200036152695, 0.20280606437071197, 0.0019108143366585496, 0.1847845965896835, -0.10197411881884387], \"y\": [-0.024975060276344576, -0.14319419553996768, -0.17383131149074285, -0.10921499096344595, 0.24424482723040772, -0.04887815579271396, 0.08573545559059789, 0.04002969793530602, 0.13008373330690287]}, \"tinfo\": {\"Category\": [\"Default\", \"Default\", \"Default\", \"Default\", \"Default\", \"Default\", \"Default\", \"Default\", \"Default\", \"Default\", \"Default\", \"Default\", \"Default\", \"Default\", \"Default\", \"Default\", \"Default\", \"Default\", \"Default\", \"Default\", \"Default\", \"Default\", \"Default\", \"Default\", \"Default\", \"Default\", \"Default\", \"Default\", \"Default\", \"Default\", \"Topic1\", \"Topic1\", \"Topic1\", \"Topic1\", \"Topic1\", \"Topic1\", \"Topic1\", \"Topic1\", \"Topic1\", \"Topic1\", \"Topic1\", \"Topic1\", \"Topic1\", \"Topic1\", \"Topic1\", \"Topic1\", \"Topic1\", \"Topic1\", \"Topic1\", \"Topic1\", \"Topic1\", \"Topic1\", \"Topic1\", \"Topic1\", \"Topic1\", \"Topic1\", \"Topic1\", \"Topic1\", \"Topic1\", \"Topic1\", \"Topic1\", \"Topic1\", \"Topic1\", \"Topic1\", \"Topic1\", \"Topic1\", \"Topic1\", \"Topic1\", \"Topic1\", \"Topic1\", \"Topic1\", \"Topic1\", \"Topic1\", \"Topic1\", \"Topic1\", \"Topic1\", \"Topic1\", \"Topic1\", \"Topic1\", \"Topic1\", \"Topic1\", \"Topic1\", \"Topic1\", \"Topic1\", \"Topic1\", \"Topic1\", \"Topic1\", \"Topic1\", \"Topic1\", \"Topic1\", \"Topic1\", \"Topic1\", \"Topic1\", \"Topic1\", \"Topic1\", \"Topic2\", \"Topic2\", \"Topic2\", \"Topic2\", \"Topic2\", \"Topic2\", \"Topic2\", \"Topic2\", \"Topic2\", \"Topic2\", \"Topic2\", \"Topic2\", \"Topic2\", \"Topic2\", \"Topic2\", \"Topic2\", \"Topic2\", \"Topic2\", \"Topic2\", \"Topic2\", \"Topic2\", \"Topic2\", \"Topic2\", \"Topic2\", \"Topic2\", \"Topic2\", \"Topic2\", \"Topic2\", \"Topic2\", \"Topic2\", \"Topic2\", \"Topic2\", \"Topic2\", \"Topic2\", \"Topic2\", \"Topic2\", \"Topic2\", \"Topic2\", \"Topic2\", \"Topic2\", \"Topic2\", \"Topic2\", \"Topic2\", \"Topic2\", \"Topic2\", \"Topic2\", \"Topic2\", \"Topic2\", \"Topic2\", \"Topic2\", \"Topic2\", \"Topic2\", \"Topic2\", \"Topic2\", \"Topic2\", \"Topic2\", \"Topic2\", \"Topic2\", \"Topic2\", \"Topic2\", \"Topic2\", \"Topic2\", \"Topic2\", \"Topic2\", \"Topic2\", \"Topic2\", \"Topic2\", \"Topic2\", \"Topic3\", \"Topic3\", \"Topic3\", \"Topic3\", \"Topic3\", \"Topic3\", \"Topic3\", \"Topic3\", \"Topic3\", \"Topic3\", \"Topic3\", \"Topic3\", \"Topic3\", \"Topic3\", \"Topic3\", \"Topic3\", \"Topic3\", \"Topic3\", \"Topic3\", \"Topic3\", \"Topic3\", \"Topic3\", \"Topic3\", \"Topic3\", \"Topic3\", \"Topic3\", \"Topic3\", \"Topic3\", \"Topic3\", \"Topic3\", \"Topic3\", \"Topic3\", \"Topic3\", \"Topic3\", \"Topic3\", \"Topic3\", \"Topic3\", \"Topic3\", \"Topic3\", \"Topic3\", \"Topic3\", \"Topic3\", \"Topic3\", \"Topic3\", \"Topic3\", \"Topic3\", \"Topic3\", \"Topic3\", \"Topic3\", \"Topic3\", \"Topic3\", \"Topic3\", \"Topic3\", \"Topic3\", \"Topic3\", \"Topic3\", \"Topic3\", \"Topic3\", \"Topic3\", \"Topic3\", \"Topic3\", \"Topic3\", \"Topic3\", \"Topic3\", \"Topic3\", \"Topic3\", \"Topic3\", \"Topic4\", \"Topic4\", \"Topic4\", \"Topic4\", \"Topic4\", \"Topic4\", \"Topic4\", \"Topic4\", \"Topic4\", \"Topic4\", \"Topic4\", \"Topic4\", \"Topic4\", \"Topic4\", \"Topic4\", \"Topic4\", \"Topic4\", \"Topic4\", \"Topic4\", \"Topic4\", \"Topic4\", \"Topic4\", \"Topic4\", \"Topic4\", \"Topic4\", \"Topic4\", \"Topic4\", \"Topic4\", \"Topic4\", \"Topic4\", \"Topic4\", \"Topic4\", \"Topic4\", \"Topic4\", \"Topic4\", \"Topic4\", \"Topic4\", \"Topic4\", \"Topic4\", \"Topic4\", \"Topic4\", \"Topic4\", \"Topic4\", \"Topic4\", \"Topic4\", \"Topic4\", \"Topic4\", \"Topic4\", \"Topic4\", \"Topic4\", \"Topic4\", \"Topic4\", \"Topic4\", \"Topic4\", \"Topic4\", \"Topic4\", \"Topic4\", \"Topic4\", \"Topic4\", \"Topic4\", \"Topic4\", \"Topic4\", \"Topic4\", \"Topic5\", \"Topic5\", \"Topic5\", \"Topic5\", \"Topic5\", \"Topic5\", \"Topic5\", \"Topic5\", \"Topic5\", \"Topic5\", \"Topic5\", \"Topic5\", \"Topic5\", \"Topic5\", \"Topic5\", \"Topic5\", \"Topic5\", \"Topic5\", \"Topic5\", \"Topic5\", \"Topic5\", \"Topic5\", \"Topic5\", \"Topic5\", \"Topic5\", \"Topic5\", \"Topic5\", \"Topic5\", \"Topic5\", \"Topic5\", \"Topic5\", \"Topic5\", \"Topic5\", \"Topic5\", \"Topic5\", \"Topic5\", \"Topic5\", \"Topic5\", \"Topic5\", \"Topic5\", \"Topic5\", \"Topic5\", \"Topic5\", \"Topic5\", \"Topic5\", \"Topic5\", \"Topic5\", \"Topic5\", \"Topic5\", \"Topic5\", \"Topic5\", \"Topic5\", \"Topic5\", \"Topic5\", \"Topic5\", \"Topic5\", \"Topic5\", \"Topic5\", \"Topic5\", \"Topic5\", \"Topic5\", \"Topic5\", \"Topic5\", \"Topic6\", \"Topic6\", \"Topic6\", \"Topic6\", \"Topic6\", \"Topic6\", \"Topic6\", \"Topic6\", \"Topic6\", \"Topic6\", \"Topic6\", \"Topic6\", \"Topic6\", \"Topic6\", \"Topic6\", \"Topic6\", \"Topic6\", \"Topic6\", \"Topic6\", \"Topic6\", \"Topic6\", \"Topic6\", \"Topic6\", \"Topic6\", \"Topic6\", \"Topic6\", \"Topic6\", \"Topic6\", \"Topic6\", \"Topic6\", \"Topic6\", \"Topic6\", \"Topic6\", \"Topic6\", \"Topic6\", \"Topic6\", \"Topic6\", \"Topic6\", \"Topic6\", \"Topic6\", \"Topic6\", \"Topic6\", \"Topic6\", \"Topic6\", \"Topic6\", \"Topic6\", \"Topic6\", \"Topic6\", \"Topic6\", \"Topic6\", \"Topic6\", \"Topic6\", \"Topic6\", \"Topic6\", \"Topic6\", \"Topic6\", \"Topic6\", \"Topic6\", \"Topic6\", \"Topic6\", \"Topic6\", \"Topic7\", \"Topic7\", \"Topic7\", \"Topic7\", \"Topic7\", \"Topic7\", \"Topic7\", \"Topic7\", \"Topic7\", \"Topic7\", \"Topic7\", \"Topic7\", \"Topic7\", \"Topic7\", \"Topic7\", \"Topic7\", \"Topic7\", \"Topic7\", \"Topic7\", \"Topic7\", \"Topic7\", \"Topic7\", \"Topic7\", \"Topic7\", \"Topic7\", \"Topic7\", \"Topic7\", \"Topic7\", \"Topic7\", \"Topic7\", \"Topic7\", \"Topic7\", \"Topic7\", \"Topic7\", \"Topic7\", \"Topic7\", \"Topic7\", \"Topic7\", \"Topic7\", \"Topic7\", \"Topic7\", \"Topic7\", \"Topic7\", \"Topic7\", \"Topic7\", \"Topic7\", \"Topic7\", \"Topic7\", \"Topic7\", \"Topic7\", \"Topic7\", \"Topic7\", \"Topic7\", \"Topic7\", \"Topic7\", \"Topic7\", \"Topic7\", \"Topic7\", \"Topic7\", \"Topic7\", \"Topic7\", \"Topic7\", \"Topic7\", \"Topic8\", \"Topic8\", \"Topic8\", \"Topic8\", \"Topic8\", \"Topic8\", \"Topic8\", \"Topic8\", \"Topic8\", \"Topic8\", \"Topic8\", \"Topic8\", \"Topic8\", \"Topic8\", \"Topic8\", \"Topic8\", \"Topic8\", \"Topic8\", \"Topic8\", \"Topic8\", \"Topic8\", \"Topic8\", \"Topic8\", \"Topic8\", \"Topic8\", \"Topic8\", \"Topic8\", \"Topic8\", \"Topic8\", \"Topic8\", \"Topic8\", \"Topic8\", \"Topic8\", \"Topic8\", \"Topic8\", \"Topic8\", \"Topic8\", \"Topic8\", \"Topic8\", \"Topic8\", \"Topic8\", \"Topic8\", \"Topic8\", \"Topic8\", \"Topic8\", \"Topic8\", \"Topic8\", \"Topic8\", \"Topic8\", \"Topic8\", \"Topic8\", \"Topic8\", \"Topic8\", \"Topic8\", \"Topic8\", \"Topic8\", \"Topic8\", \"Topic8\", \"Topic8\", \"Topic8\", \"Topic8\", \"Topic8\", \"Topic9\", \"Topic9\", \"Topic9\", \"Topic9\", \"Topic9\", \"Topic9\", \"Topic9\", \"Topic9\", \"Topic9\", \"Topic9\", \"Topic9\", \"Topic9\", \"Topic9\", \"Topic9\", \"Topic9\", \"Topic9\", \"Topic9\", \"Topic9\", \"Topic9\", \"Topic9\", \"Topic9\", \"Topic9\", \"Topic9\", \"Topic9\", \"Topic9\", \"Topic9\", \"Topic9\", \"Topic9\", \"Topic9\", \"Topic9\", \"Topic9\", \"Topic9\", \"Topic9\", \"Topic9\", \"Topic9\", \"Topic9\", \"Topic9\", \"Topic9\", \"Topic9\", \"Topic9\", \"Topic9\", \"Topic9\", \"Topic9\", \"Topic9\", \"Topic9\", \"Topic9\", \"Topic9\", \"Topic9\", \"Topic9\", \"Topic9\", \"Topic9\", \"Topic9\", \"Topic9\", \"Topic9\", \"Topic9\", \"Topic9\", \"Topic9\", \"Topic9\", \"Topic9\", \"Topic9\", \"Topic9\", \"Topic9\", \"Topic9\", \"Topic9\", \"Topic9\"], \"Freq\": [2754.0, 2295.0, 3056.0, 5357.0, 853.0, 700.0, 1206.0, 521.0, 968.0, 1036.0, 611.0, 418.0, 1049.0, 1153.0, 745.0, 931.0, 379.0, 411.0, 996.0, 1272.0, 341.0, 842.0, 1112.0, 612.0, 283.0, 1222.0, 774.0, 513.0, 781.0, 573.0, 74.36441040039062, 57.7318229675293, 45.86565017700195, 44.055694580078125, 42.89423751831055, 36.95022201538086, 33.389991760253906, 32.78767395019531, 28.604278564453125, 27.444210052490234, 26.266698837280273, 27.303892135620117, 25.002410888671875, 23.27721405029297, 22.72458267211914, 21.506061553955078, 21.50859260559082, 23.752431869506836, 19.69525909423828, 19.695175170898438, 19.141504287719727, 19.704240798950195, 17.940031051635742, 17.926372528076172, 17.338863372802734, 17.308595657348633, 16.75115394592285, 16.750560760498047, 16.13815689086914, 16.13815689086914, 2455.5, 117.31067657470703, 94.80718231201172, 100.18572235107422, 621.0033569335938, 779.208251953125, 461.37164306640625, 209.11489868164062, 65.18425750732422, 398.6861572265625, 659.6779174804688, 137.46798706054688, 78.90502166748047, 148.7022705078125, 97.78215789794922, 215.7735595703125, 523.2544555664062, 197.01173400878906, 362.7244873046875, 101.78145599365234, 133.30555725097656, 105.49917602539062, 430.84051513671875, 557.8193969726562, 76.77783203125, 159.28517150878906, 84.94649505615234, 128.78135681152344, 151.57171630859375, 83.15782928466797, 134.80958557128906, 134.09963989257812, 89.22726440429688, 88.3935775756836, 102.8016128540039, 517.2066040039062, 54.33198928833008, 41.39088439941406, 41.37367248535156, 43.76132583618164, 34.51863479614258, 30.303428649902344, 29.670658111572266, 23.524871826171875, 22.851951599121094, 21.637004852294922, 21.046619415283203, 21.046619415283203, 21.056095123291016, 19.80741310119629, 46.3167724609375, 20.329946517944336, 17.978450775146484, 34.37173080444336, 17.362815856933594, 17.348121643066406, 17.358688354492188, 247.54574584960938, 16.705490112304688, 16.735210418701172, 16.113012313842773, 16.127933502197266, 16.09757423400879, 14.91179084777832, 14.886391639709473, 17.18807601928711, 24.547021865844727, 38.25188446044922, 147.7237548828125, 238.9419708251953, 254.90557861328125, 636.1220092773438, 262.35113525390625, 34.548282623291016, 491.8948974609375, 74.17997741699219, 34.593162536621094, 44.681884765625, 426.1573181152344, 107.64630889892578, 69.95928192138672, 239.72994995117188, 157.65151977539062, 114.8311767578125, 63.844051361083984, 203.7980499267578, 70.10828399658203, 73.34319305419922, 93.28178405761719, 171.77584838867188, 137.07229614257812, 63.06250762939453, 81.51943969726562, 57.92052459716797, 103.58625793457031, 139.57867431640625, 99.95367431640625, 219.68299865722656, 118.60498809814453, 128.11048889160156, 100.31236267089844, 99.99061584472656, 71.82929229736328, 79.24569702148438, 148.4994354248047, 43.76176071166992, 43.130672454833984, 36.863285064697266, 38.60309982299805, 35.584964752197266, 42.2677116394043, 37.30413055419922, 30.45608901977539, 28.60298728942871, 33.467750549316406, 27.327564239501953, 30.214324951171875, 66.4946060180664, 20.35053062438965, 19.735559463500977, 19.73504638671875, 22.767704010009766, 18.47638511657715, 18.474435806274414, 17.20276641845703, 15.924750328063965, 14.046883583068848, 13.418655395507812, 13.429208755493164, 13.405216217041016, 13.42518424987793, 13.423710823059082, 12.774359703063965, 28.46402931213379, 31.876310348510742, 114.44649505615234, 40.992881774902344, 33.55330276489258, 369.6067199707031, 189.5424041748047, 585.754150390625, 180.34022521972656, 161.8951416015625, 123.06912994384766, 60.048255920410156, 106.40478515625, 41.97210693359375, 83.95005798339844, 108.29486083984375, 353.6213073730469, 208.85887145996094, 297.6833190917969, 49.47334289550781, 242.65037536621094, 426.363037109375, 176.56272888183594, 155.64088439941406, 193.18399047851562, 405.8302307128906, 181.01849365234375, 165.13577270507812, 75.74629211425781, 56.88479995727539, 91.47669982910156, 97.6593246459961, 63.21002197265625, 82.26422882080078, 71.97318267822266, 67.4225845336914, 67.11278533935547, 79.30375671386719, 56.21543884277344, 50.61762619018555, 372.392822265625, 834.41943359375, 52.24629211425781, 36.8424072265625, 36.82549285888672, 33.17612838745117, 33.101219177246094, 77.27523040771484, 27.497079849243164, 29.300762176513672, 24.402711868286133, 21.932973861694336, 21.932973861694336, 30.288623809814453, 21.33824348449707, 30.285120010375977, 20.6948184967041, 20.694265365600586, 20.69028663635254, 25.45962142944336, 20.081893920898438, 30.792396545410156, 18.830961227416992, 25.350772857666016, 18.191118240356445, 18.722135543823242, 16.958885192871094, 377.4310302734375, 21.58342742919922, 82.647216796875, 23.789321899414062, 146.79515075683594, 143.67770385742188, 62.650596618652344, 58.14364242553711, 115.73135375976562, 166.94775390625, 77.36096954345703, 48.596153259277344, 44.131038665771484, 117.73694610595703, 265.0686340332031, 53.150672912597656, 640.159423828125, 92.4128189086914, 239.93080139160156, 172.06495666503906, 257.7613525390625, 51.749263763427734, 204.76776123046875, 82.15631866455078, 289.24432373046875, 128.0360870361328, 97.71968078613281, 94.08353424072266, 86.07343292236328, 102.99156951904297, 93.42782592773438, 64.7227554321289, 61.827701568603516, 699.08203125, 178.9870147705078, 86.94567108154297, 41.8258056640625, 40.59684753417969, 35.80082321166992, 27.90939712524414, 27.343490600585938, 70.08345794677734, 27.155244827270508, 19.471534729003906, 19.46589469909668, 24.033126831054688, 18.255464553833008, 19.387340545654297, 17.664039611816406, 17.660785675048828, 325.468505859375, 17.022512435913086, 18.15403175354004, 16.442394256591797, 15.20320987701416, 15.21232795715332, 14.64217472076416, 15.757364273071289, 31.1635684967041, 12.798429489135742, 12.783811569213867, 12.194976806640625, 12.208805084228516, 21.721397399902344, 1458.570068359375, 176.2820281982422, 120.22233581542969, 83.65861511230469, 69.39450073242188, 541.1749267578125, 42.5804443359375, 44.795406341552734, 50.505367279052734, 1195.7166748046875, 27.929027557373047, 38.79813766479492, 35.965179443359375, 225.57171630859375, 33.39741134643555, 143.1798095703125, 32.18291473388672, 70.47002410888672, 205.5965576171875, 48.066734313964844, 82.6484146118164, 43.759559631347656, 125.30278778076172, 64.68807983398438, 124.09458923339844, 92.63996124267578, 57.378692626953125, 67.85862731933594, 57.99006271362305, 58.416439056396484, 45.80522155761719, 44.5644645690918, 414.4723205566406, 89.10191345214844, 76.32608032226562, 59.13300704956055, 47.39735412597656, 44.925331115722656, 36.99244689941406, 36.385498046875, 32.079933166503906, 31.476327896118164, 31.437715530395508, 26.51036262512207, 236.8482666015625, 23.4674015045166, 24.58241844177246, 21.000673294067383, 19.157751083374023, 18.54417610168457, 17.932920455932617, 17.94261360168457, 17.920490264892578, 17.902812957763672, 26.66051483154297, 16.69384002685547, 16.068933486938477, 16.095373153686523, 24.719758987426758, 14.265420913696289, 13.645330429077148, 13.655884742736816, 110.77459716796875, 100.26939392089844, 150.6007537841797, 55.73014831542969, 1501.1092529296875, 613.7211303710938, 56.497314453125, 72.54219055175781, 35.758995056152344, 80.98639678955078, 243.17599487304688, 51.982666015625, 33.86283493041992, 159.53204345703125, 151.1188507080078, 63.87140655517578, 66.50731658935547, 86.92967987060547, 424.63677978515625, 82.83010864257812, 74.13956451416016, 71.30516815185547, 123.60081481933594, 81.55427551269531, 95.2228775024414, 76.04298400878906, 85.1035385131836, 83.66608428955078, 61.435157775878906, 61.97579574584961, 62.77885437011719, 133.68838500976562, 75.72660827636719, 45.43523406982422, 33.47063064575195, 32.23074722290039, 31.611589431762695, 57.70127487182617, 25.943330764770508, 24.66745948791504, 24.072282791137695, 22.78279685974121, 22.81019401550293, 22.802833557128906, 22.126256942749023, 20.913063049316406, 20.897783279418945, 20.883586883544922, 18.99793815612793, 17.74236488342285, 15.838567733764648, 15.225323677062988, 15.210883140563965, 21.724973678588867, 14.60668659210205, 14.595414161682129, 13.992926597595215, 13.95633602142334, 14.527286529541016, 13.365869522094727, 13.34354305267334, 125.17353057861328, 85.2640151977539, 34.78976821899414, 58.854942321777344, 133.96029663085938, 84.92118072509766, 30.02600860595703, 135.67861938476562, 84.72425842285156, 184.68846130371094, 332.154296875, 1239.7757568359375, 109.76868438720703, 113.18504333496094, 54.17170333862305, 41.614898681640625, 78.18861389160156, 44.60953903198242, 86.01898193359375, 171.93441772460938, 89.70401763916016, 40.477046966552734, 236.84710693359375, 153.78628540039062, 106.47318267822266, 156.26126098632812, 108.93106079101562, 85.27693939208984, 134.3017120361328, 93.5325927734375, 61.17387008666992, 79.57012176513672, 69.09764862060547, 282.0618896484375, 114.80656433105469, 86.78913116455078, 71.88066864013672, 53.16072463989258, 87.77102661132812, 41.29531478881836, 37.556243896484375, 34.31828308105469, 27.561086654663086, 31.674800872802734, 25.07341766357422, 23.84340476989746, 27.400266647338867, 21.346603393554688, 20.089078903198242, 18.796953201293945, 18.817991256713867, 18.212993621826172, 17.582714080810547, 18.749290466308594, 18.749290466308594, 28.213214874267578, 16.323833465576172, 15.10278606414795, 15.078454971313477, 15.05932331085205, 15.05932331085205, 13.849966049194336, 13.860939025878906, 201.93600463867188, 63.9796142578125, 103.85004425048828, 119.26763153076172, 22.759489059448242, 122.62075805664062, 63.88594055175781, 37.21997833251953, 216.99749755859375, 79.34911346435547, 54.32490921020508, 367.2303771972656, 95.9856948852539, 148.17343139648438, 41.879859924316406, 216.96058654785156, 424.6162414550781, 119.82318115234375, 49.44487762451172, 242.9208526611328, 487.4932861328125, 616.2975463867188, 84.62761688232422, 85.57928466796875, 48.574893951416016, 109.6393814086914, 140.6351318359375, 76.3761215209961, 61.17967987060547, 104.64105224609375, 58.809627532958984, 59.32487487792969, 116.5210189819336, 69.85364532470703, 77.89208221435547, 59.77521514892578, 52.26699447631836, 59.37714767456055, 38.951480865478516, 39.638065338134766, 34.027793884277344, 38.184837341308594, 29.008777618408203, 27.709733963012695, 27.133731842041016, 26.478530883789062, 25.859899520874023, 30.72966957092285, 25.23229217529297, 25.253250122070312, 25.215240478515625, 23.34329605102539, 22.740285873413086, 22.11762046813965, 22.663806915283203, 19.58592414855957, 19.56951904296875, 18.97361946105957, 18.982406616210938, 18.959150314331055, 18.290321350097656, 17.698867797851562, 18.88955307006836, 182.03160095214844, 47.24502944946289, 129.8217010498047, 80.71482849121094, 76.8299789428711, 139.81271362304688, 21.122343063354492, 49.675235748291016, 86.85884094238281, 416.6664733886719, 94.87566375732422, 60.80825424194336, 45.951045989990234, 45.71406936645508, 97.16480255126953, 85.67022705078125, 53.6989860534668, 266.52117919921875, 53.506229400634766, 42.5793571472168, 614.2314453125, 97.6302719116211, 109.85163116455078, 94.85391235351562, 71.94782257080078, 181.58380126953125, 52.040870666503906, 88.32244873046875, 152.34544372558594, 103.29817962646484, 91.47811126708984, 78.9162826538086, 82.6663589477539, 61.24638366699219], \"Term\": [\"dog\", \"play\", \"woman\", \"man\", \"rid\", \"guitar\", \"girl\", \"men\", \"run\", \"wear\", \"slice\", \"dance\", \"white\", \"stand\", \"brown\", \"water\", \"horse\", \"bike\", \"people\", \"boy\", \"cat\", \"sit\", \"black\", \"ball\", \"potato\", \"person\", \"jumping\", \"shirt\", \"child\", \"grass\", \"grassy\", \"golden\", \"makeup\", \"pick\", \"kangaroo\", \"frisbee\", \"blowing\", \"team\", \"harp\", \"collar\", \"compete\", \"rugby\", \"sleep\", \"bubble\", \"cosmetic\", \"angel\", \"rabbit\", \"miss\", \"prey\", \"cheetah\", \"branch\", \"competition\", \"sled\", \"headband\", \"watermelon\", \"mid\", \"wrestling\", \"hillside\", \"pipe\", \"half\", \"dog\", \"chase\", \"leaf\", \"catch\", \"brown\", \"run\", \"ball\", \"field\", \"tan\", \"grass\", \"white\", \"mouth\", \"cover\", \"toy\", \"tennis\", \"small\", \"black\", \"snow\", \"child\", \"coat\", \"player\", \"carry\", \"two\", \"play\", \"area\", \"green\", \"football\", \"large\", \"red\", \"sand\", \"jumping\", \"water\", \"soccer\", \"beach\", \"stand\", \"men\", \"fishing\", \"circle\", \"door\", \"raft\", \"kiss\", \"rail\", \"squirrel\", \"trot\", \"hurdle\", \"broccoli\", \"headphone\", \"package\", \"post\", \"parade\", \"still\", \"skin\", \"stuck\", \"leash\", \"difficulty\", \"driven\", \"left\", \"rock\", \"suitcase\", \"eastern\", \"fist\", \"barrier\", \"steadily\", \"style\", \"saw\", \"ring\", \"eyebrow\", \"star\", \"animal\", \"three\", \"group\", \"stand\", \"front\", \"pole\", \"people\", \"beside\", \"distance\", \"river\", \"two\", \"wall\", \"fight\", \"child\", \"near\", \"climb\", \"behind\", \"walk\", \"uniform\", \"face\", \"camera\", \"water\", \"young\", \"four\", \"dress\", \"rider\", \"one\", \"person\", \"look\", \"man\", \"girl\", \"woman\", \"white\", \"boy\", \"red\", \"surfer\", \"purple\", \"microphone\", \"surf\", \"cap\", \"dyed\", \"glove\", \"raise\", \"gym\", \"vest\", \"spot\", \"beer\", \"boxing\", \"bead\", \"sunglass\", \"newspaper\", \"vend\", \"many\", \"chap\", \"wetsuit\", \"pattern\", \"end\", \"cupcake\", \"elegant\", \"various\", \"blooming\", \"amphitheater\", \"village\", \"foreground\", \"column\", \"clown\", \"mushroom\", \"wave\", \"mask\", \"worn\", \"shirt\", \"pink\", \"wear\", \"hat\", \"dress\", \"jacket\", \"couple\", \"crowd\", \"biker\", \"slide\", \"lie\", \"black\", \"blue\", \"girl\", \"machine\", \"white\", \"woman\", \"young\", \"red\", \"people\", \"man\", \"boy\", \"stand\", \"hand\", \"arm\", \"hold\", \"walk\", \"carry\", \"look\", \"snow\", \"sing\", \"eat\", \"motorbike\", \"motocross\", \"guy\", \"horse\", \"rid\", \"tongue\", \"snake\", \"sport\", \"money\", \"basket\", \"ridden\", \"calendar\", \"elephant\", \"mouse\", \"straw\", \"cigarette\", \"axe\", \"backpack\", \"finger\", \"beg\", \"event\", \"smoking\", \"stop\", \"wild\", \"pork\", \"language\", \"toss\", \"mat\", \"saddle\", \"chimp\", \"bike\", \"feed\", \"helmet\", \"wooded\", \"bicycle\", \"baby\", \"bridge\", \"full\", \"dirt\", \"kid\", \"along\", \"laugh\", \"bikini\", \"beach\", \"wear\", \"sign\", \"man\", \"street\", \"person\", \"walk\", \"two\", \"colorful\", \"boy\", \"motorcycle\", \"woman\", \"blue\", \"red\", \"young\", \"look\", \"black\", \"people\", \"road\", \"yellow\", \"guitar\", \"piano\", \"instrument\", \"drum\", \"pizza\", \"drunk\", \"scissors\", \"tortilla\", \"band\", \"acoustic\", \"corn\", \"upside\", \"spray\", \"cricket\", \"cement\", \"fearful\", \"strum\", \"cat\", \"drawer\", \"low\", \"try\", \"rinse\", \"song\", \"shiny\", \"fan\", \"perch\", \"excitedly\", \"steak\", \"rifle\", \"hose\", \"case\", \"play\", \"sing\", \"played\", \"pose\", \"game\", \"boy\", \"ceiling\", \"box\", \"draw\", \"man\", \"leave\", \"onto\", \"window\", \"jumping\", \"hike\", \"little\", \"rain\", \"watch\", \"person\", \"practice\", \"air\", \"fly\", \"water\", \"wall\", \"girl\", \"young\", \"someone\", \"blue\", \"large\", \"cut\", \"soccer\", \"two\", \"dance\", \"fry\", \"crack\", \"pepper\", \"goal\", \"deer\", \"bunny\", \"trumpet\", \"tofu\", \"comb\", \"swimmer\", \"octopus\", \"onion\", \"painting\", \"dice\", \"mixer\", \"garage\", \"photographer\", \"bee\", \"hockey\", \"tunnel\", \"cook\", \"shrimp\", \"number\", \"hard\", \"asia\", \"teenage\", \"travel\", \"coverall\", \"artist\", \"tomato\", \"food\", \"egg\", \"swing\", \"woman\", \"girl\", \"blond\", \"smile\", \"fur\", \"chop\", \"slice\", \"cooking\", \"blonde\", \"little\", \"cut\", \"fish\", \"sidewalk\", \"bowl\", \"man\", \"put\", \"hair\", \"flute\", \"sit\", \"yellow\", \"young\", \"hold\", \"jumping\", \"wear\", \"next\", \"near\", \"blue\", \"keyboard\", \"exercise\", \"train\", \"hole\", \"passionately\", \"electronic\", \"kitten\", \"sea\", \"daughter\", \"lead\", \"doctor\", \"tambourine\", \"carriage\", \"bmx\", \"spit\", \"wilderness\", \"type\", \"inline\", \"help\", \"pyramid\", \"drilling\", \"wing\", \"attach\", \"police\", \"shoe\", \"accessory\", \"flap\", \"stair\", \"pajama\", \"kart\", \"drive\", \"drinking\", \"bucket\", \"go\", \"rope\", \"bench\", \"store\", \"motorcycle\", \"wood\", \"car\", \"sit\", \"man\", \"flute\", \"next\", \"phone\", \"skate\", \"around\", \"edge\", \"talk\", \"walk\", \"climb\", \"bottle\", \"play\", \"people\", \"one\", \"stand\", \"child\", \"hold\", \"two\", \"boy\", \"race\", \"water\", \"person\", \"potato\", \"peel\", \"butter\", \"container\", \"brushing\", \"garlic\", \"cow\", \"basketball\", \"art\", \"pet\", \"banana\", \"singer\", \"mixture\", \"martial\", \"buttering\", \"clove\", \"bear\", \"pair\", \"garden\", \"dunk\", \"pig\", \"guinea\", \"tray\", \"chili\", \"raw\", \"hiker\", \"tease\", \"zoo\", \"dim\", \"worker\", \"piece\", \"mix\", \"carrot\", \"monkey\", \"muzzle\", \"meat\", \"vegetable\", \"remove\", \"eat\", \"bread\", \"panda\", \"slice\", \"kick\", \"bowl\", \"write\", \"cut\", \"person\", \"lady\", \"bird\", \"sit\", \"woman\", \"man\", \"soccer\", \"put\", \"paper\", \"ball\", \"two\", \"small\", \"take\", \"dog\", \"player\", \"look\", \"oil\", \"speak\", \"gun\", \"drop\", \"board\", \"trampoline\", \"boil\", \"hay\", \"barking\", \"shallow\", \"grazing\", \"noodle\", \"erase\", \"squirt\", \"lemon\", \"parrot\", \"mechanical\", \"work\", \"email\", \"dive\", \"obstacle\", \"dig\", \"mow\", \"silencer\", \"stove\", \"squeeze\", \"shade\", \"skiing\", \"okra\", \"gift\", \"steep\", \"trick\", \"yard\", \"pour\", \"splash\", \"snowy\", \"perform\", \"silent\", \"snowboarder\", \"pot\", \"water\", \"pool\", \"strip\", \"add\", \"high\", \"hill\", \"across\", \"pencil\", \"jumping\", \"leap\", \"rhino\", \"man\", \"air\", \"kid\", \"green\", \"swim\", \"dog\", \"pan\", \"one\", \"woman\", \"boy\", \"run\", \"grass\", \"person\", \"someone\"], \"Total\": [2754.0, 2295.0, 3056.0, 5357.0, 853.0, 700.0, 1206.0, 521.0, 968.0, 1036.0, 611.0, 418.0, 1049.0, 1153.0, 745.0, 931.0, 379.0, 411.0, 996.0, 1272.0, 341.0, 842.0, 1112.0, 612.0, 283.0, 1222.0, 774.0, 513.0, 781.0, 573.0, 75.36335754394531, 58.638309478759766, 46.75624084472656, 44.94532012939453, 43.78286361694336, 37.84788131713867, 34.293975830078125, 33.690467834472656, 29.498226165771484, 28.33555030822754, 27.15057945251465, 28.33098602294922, 25.958051681518555, 24.17816734313965, 23.607311248779297, 22.38892364501953, 22.40035629272461, 24.764110565185547, 20.589969635009766, 20.589977264404297, 20.03091812133789, 20.624713897705078, 18.82330894470215, 18.812219619750977, 18.21956443786621, 18.209096908569336, 17.638715744018555, 17.638778686523438, 17.02387237548828, 17.02387237548828, 2754.141845703125, 126.66643524169922, 104.28536987304688, 110.7957763671875, 745.9656982421875, 968.27587890625, 612.863037109375, 268.9134826660156, 75.80626678466797, 573.2518920898438, 1049.736572265625, 191.19837951660156, 101.5748062133789, 219.2917022705078, 133.89144897460938, 364.0727233886719, 1112.1751708984375, 343.59063720703125, 781.303466796875, 153.80003356933594, 225.86074829101562, 170.16456604003906, 1536.392578125, 2295.735595703125, 120.1738052368164, 400.9379577636719, 145.6194610595703, 311.3507995605469, 569.8394775390625, 159.84442138671875, 774.738525390625, 931.0609130859375, 231.072021484375, 277.26507568359375, 1153.44775390625, 521.5759887695312, 55.22051239013672, 42.28114700317383, 42.26924514770508, 44.737064361572266, 35.50297164916992, 31.195331573486328, 30.558107376098633, 24.40679931640625, 23.75783920288086, 22.52991485595703, 21.927875518798828, 21.927873611450195, 21.939531326293945, 20.688419342041016, 48.42144775390625, 21.316242218017578, 18.858121871948242, 36.065895080566406, 18.24415397644043, 18.232423782348633, 18.244251251220703, 260.54443359375, 17.583715438842773, 17.618648529052734, 16.993104934692383, 17.016027450561523, 16.993181228637695, 15.788324356079102, 15.765192031860352, 18.220712661743164, 26.233797073364258, 41.700653076171875, 174.71044921875, 304.08203125, 386.90679931640625, 1153.44775390625, 440.7516174316406, 41.2081298828125, 996.5550537109375, 107.46916961669922, 42.8695182800293, 60.90896224975586, 1536.392578125, 230.09683227539062, 127.61238861083984, 781.303466796875, 421.9746398925781, 266.129638671875, 115.17454528808594, 723.3915405273438, 139.02279663085938, 157.63888549804688, 259.2263488769531, 931.0609130859375, 680.1826782226562, 131.6940460205078, 251.8951873779297, 113.39942169189453, 477.3543701171875, 1222.897216796875, 501.7454528808594, 5357.0380859375, 1206.5966796875, 3056.404541015625, 1049.736572265625, 1272.7083740234375, 569.8394775390625, 80.14018249511719, 151.01177978515625, 44.656612396240234, 44.025733947753906, 37.74102020263672, 39.54729080200195, 36.467124938964844, 43.372989654541016, 38.35517501831055, 31.383005142211914, 29.480152130126953, 34.5139045715332, 28.20647621154785, 31.3448543548584, 69.27101135253906, 21.231163024902344, 20.612199783325195, 20.612226486206055, 23.80168914794922, 19.3505802154541, 19.35053062438965, 18.076900482177734, 16.8030948638916, 14.922496795654297, 14.291696548461914, 14.303548812866211, 14.279749870300293, 14.303505897521973, 14.30344009399414, 13.648892402648926, 30.656597137451172, 34.467952728271484, 134.8860626220703, 45.868011474609375, 38.18035888671875, 513.4365234375, 256.7015686035156, 1036.2384033203125, 285.3229064941406, 251.8951873779297, 189.3146209716797, 82.25344848632812, 181.5562744140625, 54.29656982421875, 136.14871215820312, 201.6490936279297, 1112.1751708984375, 584.4218139648438, 1206.5966796875, 71.61883544921875, 1049.736572265625, 3056.404541015625, 680.1826782226562, 569.8394775390625, 996.5550537109375, 5357.0380859375, 1272.7083740234375, 1153.44775390625, 201.2499237060547, 100.69124603271484, 428.4824523925781, 723.3915405273438, 170.16456604003906, 501.7454528808594, 343.59063720703125, 248.33615112304688, 316.14788818359375, 80.2110366821289, 57.14851379394531, 51.50674819946289, 379.6331481933594, 853.3035888671875, 53.4327392578125, 37.77085876464844, 37.79330825805664, 34.05198287963867, 34.03965759277344, 79.57305145263672, 28.385986328125, 30.298906326293945, 25.289226531982422, 22.8142032623291, 22.8142032623291, 31.53029441833496, 22.21588706970215, 31.540555953979492, 21.570777893066406, 21.57073402404785, 21.570770263671875, 26.55910301208496, 20.960756301879883, 32.1544075012207, 19.705629348754883, 26.540081024169922, 19.0721435546875, 19.694019317626953, 17.840452194213867, 411.7288513183594, 22.80579376220703, 93.44629669189453, 25.324325561523438, 188.412841796875, 195.0383758544922, 80.95582580566406, 80.0162353515625, 198.91139221191406, 346.4734802246094, 128.0636444091797, 67.74089813232422, 61.268531799316406, 277.26507568359375, 1036.2384033203125, 86.25916290283203, 5357.0380859375, 221.07443237304688, 1222.897216796875, 723.3915405273438, 1536.392578125, 83.07706451416016, 1272.7083740234375, 218.84820556640625, 3056.404541015625, 584.4218139648438, 569.8394775390625, 680.1826782226562, 501.7454528808594, 1112.1751708984375, 996.5550537109375, 210.27523803710938, 341.5057678222656, 700.7655639648438, 179.98434448242188, 88.1350326538086, 42.713687896728516, 41.4963264465332, 36.697418212890625, 28.8039608001709, 28.22364044189453, 72.43363952636719, 28.18695831298828, 20.35309410095215, 20.353214263916016, 25.186349868774414, 19.136131286621094, 20.33149528503418, 18.544763565063477, 18.544843673706055, 341.9742736816406, 17.9193058013916, 19.115007400512695, 17.32750701904297, 16.088150024414062, 16.099721908569336, 15.519259452819824, 16.70321273803711, 33.06538009643555, 13.676681518554688, 13.665474891662598, 13.073987007141113, 13.097139358520508, 23.402727127075195, 2295.735595703125, 248.33615112304688, 174.45550537109375, 127.1165542602539, 102.04512023925781, 1272.7083740234375, 58.930389404296875, 64.09638977050781, 76.31861877441406, 5357.0380859375, 34.97787094116211, 56.27912521362305, 51.42338180541992, 774.738525390625, 46.133663177490234, 441.49664306640625, 44.394866943359375, 179.01109313964844, 1222.897216796875, 92.38317108154297, 260.7303771972656, 79.71012115478516, 931.0609130859375, 230.09683227539062, 1206.5966796875, 680.1826782226562, 248.71888732910156, 584.4218139648438, 311.3507995605469, 459.88043212890625, 231.072021484375, 1536.392578125, 418.96624755859375, 90.09717559814453, 77.21947479248047, 60.02789306640625, 48.304439544677734, 45.877296447753906, 37.876014709472656, 37.28677749633789, 32.962547302246094, 32.3614387512207, 32.360755920410156, 27.41274642944336, 245.63134765625, 24.349287033081055, 25.53046989440918, 21.886943817138672, 20.036888122558594, 19.424236297607422, 18.811429977416992, 18.8228759765625, 18.81161117553711, 18.810537338256836, 28.017908096313477, 17.574325561523438, 16.949888229370117, 16.984865188598633, 26.16740608215332, 15.146557807922363, 14.522186279296875, 14.533747673034668, 117.90896606445312, 110.69770812988281, 197.7101593017578, 67.02483367919922, 3056.404541015625, 1206.5966796875, 78.3969497680664, 112.18890380859375, 46.151283264160156, 139.1576690673828, 611.4475708007812, 77.6934585571289, 43.89460372924805, 441.49664306640625, 459.88043212890625, 119.20539093017578, 129.21121215820312, 245.65786743164062, 5357.0380859375, 241.05682373046875, 195.27024841308594, 207.3137969970703, 842.3857421875, 341.5057678222656, 680.1826782226562, 428.4824523925781, 774.738525390625, 1036.2384033203125, 220.98350524902344, 421.9746398925781, 584.4218139648438, 135.16629028320312, 76.62775421142578, 46.334407806396484, 34.368770599365234, 33.12427520751953, 32.49708557128906, 59.56524658203125, 26.8223876953125, 25.542999267578125, 24.950599670410156, 23.65923500061035, 23.6944580078125, 23.6944522857666, 23.007434844970703, 21.787485122680664, 21.77557945251465, 21.76361083984375, 19.89191436767578, 18.62407684326172, 16.716726303100586, 16.100730895996094, 16.088781356811523, 23.00733757019043, 15.484724044799805, 15.472824096679688, 14.868700981140137, 14.833030700683594, 15.472087860107422, 14.24081039428711, 14.217132568359375, 137.16737365722656, 94.83543395996094, 38.20771408081055, 70.64884185791016, 176.5250244140625, 109.19751739501953, 35.390769958496094, 218.84820556640625, 129.17930603027344, 334.38519287109375, 842.3857421875, 5357.0380859375, 207.3137969970703, 220.98350524902344, 88.0661849975586, 60.141483306884766, 160.9037628173828, 67.92200469970703, 195.33970642089844, 723.3915405273438, 266.129638671875, 64.52576446533203, 2295.735595703125, 996.5550537109375, 477.3543701171875, 1153.44775390625, 781.303466796875, 428.4824523925781, 1536.392578125, 1272.7083740234375, 255.4110107421875, 931.0609130859375, 1222.897216796875, 283.0597839355469, 115.71299743652344, 87.7140884399414, 72.77582550048828, 54.07084274291992, 89.60491943359375, 42.18398666381836, 38.44060516357422, 35.28398513793945, 28.442768096923828, 32.763031005859375, 25.978801727294922, 24.72287940979004, 28.430988311767578, 22.22346305847168, 20.967914581298828, 19.676937103271484, 19.70047950744629, 19.090307235717773, 18.468238830566406, 19.71350860595703, 19.71350860595703, 29.678787231445312, 17.201034545898438, 15.980647087097168, 15.957006454467773, 15.969450950622559, 15.969451904296875, 14.725072860717773, 14.73681926727295, 224.63235473632812, 69.59331512451172, 121.2068099975586, 141.45140075683594, 24.66663932800293, 154.15011596679688, 76.63755798339844, 42.70121765136719, 316.14788818359375, 101.83460998535156, 66.65912628173828, 611.4475708007812, 140.63995361328125, 245.65786743164062, 53.55731964111328, 459.88043212890625, 1222.897216796875, 228.57626342773438, 67.5584945678711, 842.3857421875, 3056.404541015625, 5357.0380859375, 231.072021484375, 241.05682373046875, 73.84418487548828, 612.863037109375, 1536.392578125, 364.0727233886719, 172.0806884765625, 2754.141845703125, 225.86074829101562, 501.7454528808594, 117.86178588867188, 70.74496459960938, 78.88993072509766, 60.69087219238281, 53.1537971496582, 60.66371154785156, 39.874027252197266, 40.583251953125, 34.93582534790039, 39.29146957397461, 29.89235496520996, 28.592609405517578, 28.013912200927734, 27.363750457763672, 26.749462127685547, 31.7959041595459, 26.111928939819336, 26.135427474975586, 26.100074768066406, 24.22163200378418, 23.619234085083008, 22.993114471435547, 23.583433151245117, 20.464881896972656, 20.452970504760742, 19.85059356689453, 19.862442016601562, 19.838838577270508, 19.17713165283203, 18.574634552001953, 19.827354431152344, 196.53457641601562, 50.53379440307617, 149.15013122558594, 95.4853515625, 92.13848876953125, 190.48947143554688, 22.36945152282715, 62.371360778808594, 126.98358917236328, 931.0609130859375, 145.55276489257812, 82.36223602294922, 58.26019287109375, 58.00828552246094, 161.14181518554688, 143.74099731445312, 75.69012451171875, 774.738525390625, 79.84417724609375, 56.78047561645508, 5357.0380859375, 260.7303771972656, 346.4734802246094, 400.9379577636719, 202.96151733398438, 2754.141845703125, 86.54209899902344, 477.3543701171875, 3056.404541015625, 1272.7083740234375, 968.27587890625, 573.2518920898438, 1222.897216796875, 248.71888732910156], \"loglift\": [30.0, 29.0, 28.0, 27.0, 26.0, 25.0, 24.0, 23.0, 22.0, 21.0, 20.0, 19.0, 18.0, 17.0, 16.0, 15.0, 14.0, 13.0, 12.0, 11.0, 10.0, 9.0, 8.0, 7.0, 6.0, 5.0, 4.0, 3.0, 2.0, 1.0, 1.8331999778747559, 1.8309999704360962, 1.827299952507019, 1.8265000581741333, 1.8259999752044678, 1.8224999904632568, 1.8198000192642212, 1.8193999528884888, 1.8157999515533447, 1.8145999908447266, 1.8134000301361084, 1.8095999956130981, 1.809000015258789, 1.8085999488830566, 1.80840003490448, 1.8063000440597534, 1.805899977684021, 1.804800033569336, 1.8020999431610107, 1.8020999431610107, 1.8011000156402588, 1.8008999824523926, 1.7984999418258667, 1.79830002784729, 1.7970000505447388, 1.795799970626831, 1.7948999404907227, 1.7948999404907227, 1.7930999994277954, 1.7930999994277954, 1.7317999601364136, 1.7697999477386475, 1.7512999773025513, 1.74590003490448, 1.6632000207901, 1.6292999982833862, 1.562600016593933, 1.5950000286102295, 1.6956000328063965, 1.4833999872207642, 1.3819999694824219, 1.5166000127792358, 1.593999981880188, 1.4580999612808228, 1.5322999954223633, 1.3234000205993652, 1.0924999713897705, 1.2904000282287598, 1.079200029373169, 1.4336999654769897, 1.3193000555038452, 1.368499994277954, 0.5751000046730042, 0.4318000078201294, 1.3984999656677246, 0.9233999848365784, 1.3076000213623047, 0.963699996471405, 0.5221999883651733, 1.1930999755859375, 0.09790000319480896, -0.09120000153779984, 0.8949999809265137, 0.7034000158309937, -0.5712000131607056, 2.127000093460083, 2.1191999912261963, 2.1142001152038574, 2.114000082015991, 2.1133999824523926, 2.107300043106079, 2.1064000129699707, 2.1059999465942383, 2.098599910736084, 2.09660005569458, 2.0950000286102295, 2.094399929046631, 2.094399929046631, 2.0943000316619873, 2.091900110244751, 2.0910000801086426, 2.088099956512451, 2.0876998901367188, 2.0873000621795654, 2.085900068283081, 2.085700035095215, 2.085700035095215, 2.0843000411987305, 2.084199905395508, 2.0840001106262207, 2.0822999477386475, 2.0817999839782715, 2.0813000202178955, 2.0782999992370605, 2.0780999660491943, 2.0771000385284424, 2.069000005722046, 2.049099922180176, 1.9677000045776367, 1.8944000005722046, 1.7181999683380127, 1.5403000116348267, 1.6166000366210938, 1.9592000246047974, 1.4293999671936035, 1.7647000551223755, 1.9208999872207642, 1.825600028038025, 0.8531000018119812, 1.3758000135421753, 1.5343999862670898, 0.9539999961853027, 1.1509000062942505, 1.2948999404907227, 1.5454000234603882, 0.8686000108718872, 1.4507999420166016, 1.370300054550171, 1.1133999824523926, 0.44530001282691956, 0.5335999727249146, 1.3990999460220337, 1.0073000192642212, 1.4636000394821167, 0.6075999736785889, -0.0348999984562397, 0.5220999717712402, -1.058500051498413, -0.1843000054359436, -1.0367000102996826, -0.2125999927520752, -0.4083999991416931, 0.06440000236034393, 2.1623001098632812, 2.1566998958587646, 2.1533000469207764, 2.1530001163482666, 2.1500000953674316, 2.149399995803833, 2.1489999294281006, 2.147700071334839, 2.145699977874756, 2.1435000896453857, 2.1433000564575195, 2.142699956893921, 2.141900062561035, 2.1368000507354736, 2.1326000690460205, 2.131200075149536, 2.1301000118255615, 2.130000114440918, 2.1291000843048096, 2.1273000240325928, 2.12719988822937, 2.124000072479248, 2.119800090789795, 2.113100051879883, 2.1105000972747803, 2.1103999614715576, 2.110300064086914, 2.1101999282836914, 2.109999895095825, 2.107300043106079, 2.099299907684326, 2.095400094985962, 2.009200096130371, 2.061199903488159, 2.044300079345703, 1.8447999954223633, 1.8702000379562378, 1.6030999422073364, 1.7146999835968018, 1.7315000295639038, 1.742900013923645, 1.8588999509811401, 1.63919997215271, 1.916100025177002, 1.690000057220459, 1.551900029182434, 1.0276999473571777, 1.1446000337600708, 0.7739999890327454, 1.8035999536514282, 0.708899974822998, 0.2037999927997589, 0.8248000144958496, 0.8756999969482422, 0.5328999757766724, -0.4066999852657318, 0.2231999933719635, 0.2298000007867813, 1.1964000463485718, 1.6024999618530273, 0.6294000148773193, 0.17110000550746918, 1.1832000017166138, 0.3653999865055084, 0.6104000210762024, 0.869700014591217, 0.6237000226974487, 2.1756999492645264, 2.170599937438965, 2.169600009918213, 2.167799949645996, 2.164599895477295, 2.164599895477295, 2.162100076675415, 2.161099910736084, 2.1610000133514404, 2.15910005569458, 2.1577000617980957, 2.1552000045776367, 2.1535000801086426, 2.1512999534606934, 2.147599935531616, 2.147599935531616, 2.146899938583374, 2.146699905395508, 2.146399974822998, 2.1456000804901123, 2.1454999446868896, 2.145400047302246, 2.1447999477386475, 2.144200086593628, 2.143699884414673, 2.1415998935699463, 2.141200065612793, 2.139699935913086, 2.136399984359741, 2.136399984359741, 2.100100040435791, 2.1319000720977783, 2.064199924468994, 2.124500036239624, 1.937399983406067, 1.8813999891281128, 1.9306999444961548, 1.8676999807357788, 1.645400047302246, 1.4569000005722046, 1.6829999685287476, 1.8549000024795532, 1.8588999509811401, 1.3305000066757202, 0.8237000107765198, 1.7028000354766846, 0.06260000169277191, 1.3148000240325928, 0.5583999752998352, 0.7509999871253967, 0.4018999934196472, 1.7137000560760498, 0.36000001430511475, 1.2072999477386475, -0.17069999873638153, 0.6686999797821045, 0.423799991607666, 0.20890000462532043, 0.42410001158714294, -0.1923999935388565, -0.1800999939441681, 1.0087000131607056, 0.4779999852180481, 2.232800006866455, 2.229599952697754, 2.22160005569458, 2.214200019836426, 2.2132999897003174, 2.210400104522705, 2.2035999298095703, 2.2035000324249268, 2.202199935913086, 2.1979000568389893, 2.1909000873565674, 2.1905999183654785, 2.1882998943328857, 2.1881000995635986, 2.1875998973846436, 2.186500072479248, 2.186300039291382, 2.185699939727783, 2.183799982070923, 2.1835999488830566, 2.1826999187469482, 2.1786000728607178, 2.178499937057495, 2.177000045776367, 2.1768999099731445, 2.1758999824523926, 2.168800115585327, 2.1684999465942383, 2.165600061416626, 2.164900064468384, 2.160599946975708, 1.781599998474121, 1.8925000429153442, 1.8629000186920166, 1.8167999982833862, 1.8495999574661255, 1.3799999952316284, 1.9101999998092651, 1.8768999576568604, 1.8222999572753906, 0.7354999780654907, 2.0100998878479004, 1.8631999492645264, 1.8775999546051025, 1.0012999773025513, 1.9120999574661255, 1.1090999841690063, 1.9134999513626099, 1.302899956703186, 0.45210000872612, 1.5817999839782715, 1.086300015449524, 1.6354999542236328, 0.2295999974012375, 0.9663000106811523, -0.03929999843239784, 0.24150000512599945, 0.7684999704360962, 0.0820000022649765, 0.5544999837875366, 0.17180000245571136, 0.6168000102043152, -1.3050999641418457, 2.249300003051758, 2.249000072479248, 2.248500108718872, 2.2451000213623047, 2.2411999702453613, 2.2392001152038574, 2.2365000247955322, 2.2356998920440674, 2.2330000400543213, 2.2323999404907227, 2.2311999797821045, 2.2267000675201416, 2.2237000465393066, 2.2232000827789307, 2.2223000526428223, 2.2188000679016113, 2.2153000831604004, 2.2137999534606934, 2.2123000621795654, 2.2121999263763428, 2.2116000652313232, 2.210700035095215, 2.2105000019073486, 2.208699941635132, 2.2067999839782715, 2.2063000202178955, 2.203200101852417, 2.200200080871582, 2.1977999210357666, 2.1977999210357666, 2.197700023651123, 2.1612000465393066, 1.9880000352859497, 2.0755999088287354, 1.5491000413894653, 1.5841000080108643, 1.9325000047683716, 1.8241000175476074, 2.005000114440918, 1.7187999486923218, 1.3380999565124512, 1.858299970626831, 2.000699996948242, 1.2422000169754028, 1.1471999883651733, 1.6361000537872314, 1.5959999561309814, 1.2213000059127808, -0.27480000257492065, 1.1919000148773193, 1.291700005531311, 1.1928999423980713, 0.3409000039100647, 0.828000009059906, 0.2939999997615814, 0.5311999917030334, 0.051500000059604645, -0.2563999891281128, 0.9800000190734863, 0.3418999910354614, 0.029100000858306885, 2.29229998588562, 2.2913999557495117, 2.2836999893188477, 2.2767999172210693, 2.275899887084961, 2.275599956512451, 2.2715001106262207, 2.2699999809265137, 2.268399953842163, 2.267400026321411, 2.265500068664551, 2.265199899673462, 2.264899969100952, 2.26419997215271, 2.2623000144958496, 2.2620999813079834, 2.26200008392334, 2.2572999000549316, 2.2548000812530518, 2.249300003051758, 2.2474000453948975, 2.2472000122070312, 2.2458999156951904, 2.2448999881744385, 2.2448999881744385, 2.2425999641418457, 2.2423999309539795, 2.240299940109253, 2.2399001121520996, 2.2399001121520996, 2.2118000984191895, 2.196899890899658, 2.2095999717712402, 2.1205999851226807, 2.027400016784668, 2.051800012588501, 2.1389000415802, 1.8251999616622925, 1.881500005722046, 1.7096999883651733, 1.3725999593734741, 0.8398000001907349, 1.6674000024795532, 1.6341999769210815, 1.8172999620437622, 1.934999942779541, 1.5815999507904053, 1.8828999996185303, 1.4831000566482544, 0.8664000034332275, 1.2158000469207764, 1.836899995803833, 0.03189999982714653, 0.4345000088214874, 0.8029000163078308, 0.3043000102043152, 0.3330000042915344, 0.6888999938964844, -0.13379999995231628, -0.30730000138282776, 0.8741000294685364, -0.15639999508857727, -0.5702000260353088, 2.3308000564575195, 2.3264999389648438, 2.323699951171875, 2.322000026702881, 2.3173999786376953, 2.313699960708618, 2.312999963760376, 2.3111000061035156, 2.3066000938415527, 2.302799940109253, 2.300600051879883, 2.2988998889923096, 2.298099994659424, 2.2973999977111816, 2.294100046157837, 2.2915000915527344, 2.288599967956543, 2.2885000705718994, 2.2873001098632812, 2.2852001190185547, 2.2841999530792236, 2.2841999530792236, 2.2836999893188477, 2.2820000648498535, 2.2778000831604004, 2.2776999473571777, 2.275700092315674, 2.275700092315674, 2.273099899291992, 2.273099899291992, 2.227799892425537, 2.250200033187866, 2.179800033569336, 2.1637001037597656, 2.2539000511169434, 2.1054999828338623, 2.1522998809814453, 2.197000026702881, 1.9579999446868896, 2.0848000049591064, 2.129699945449829, 1.8244999647140503, 1.952299952507019, 1.8287999629974365, 2.088399887084961, 1.5830999612808228, 1.2764999866485596, 1.6885000467300415, 2.022200107574463, 1.0908000469207764, 0.4986000061035156, 0.17190000414848328, 1.3299000263214111, 1.298699975013733, 1.9155000448226929, 0.6133999824523926, -0.056699998676776886, 0.7727000117301941, 1.3001999855041504, -0.9359999895095825, 0.9886999726295471, 0.19930000603199005, 2.3977999687194824, 2.3966000080108643, 2.3965001106262207, 2.3940000534057617, 2.392400026321411, 2.3877999782562256, 2.3857998847961426, 2.385699987411499, 2.3828999996185303, 2.38070011138916, 2.379199981689453, 2.3778998851776123, 2.3773000240325928, 2.376300096511841, 2.3754000663757324, 2.3750998973846436, 2.375, 2.3749001026153564, 2.3747000694274902, 2.372299909591675, 2.371299982070923, 2.3703999519348145, 2.369499921798706, 2.365299940109253, 2.3650999069213867, 2.364000082015991, 2.3638999462127686, 2.3638999462127686, 2.3619000911712646, 2.3608999252319336, 2.36080002784729, 2.3326001167297363, 2.341900110244751, 2.270400047302246, 2.2411999702453613, 2.2274999618530273, 2.099900007247925, 2.351900100708008, 2.1816000938415527, 2.0295000076293945, 1.6052000522613525, 1.9812999963760376, 2.105799913406372, 2.1719000339508057, 2.171099901199341, 1.90339994430542, 1.891700029373169, 2.065999984741211, 1.3422000408172607, 2.009000062942505, 2.1214001178741455, 0.2433999925851822, 1.426900029182434, 1.260599970817566, 0.9678000211715698, 1.3722000122070312, -0.3098999857902527, 1.9005999565124512, 0.722000002861023, -0.5896000266075134, -0.10209999978542328, 0.049800001084804535, 0.4262999892234802, -0.2849000096321106, 1.0077999830245972], \"logprob\": [30.0, 29.0, 28.0, 27.0, 26.0, 25.0, 24.0, 23.0, 22.0, 21.0, 20.0, 19.0, 18.0, 17.0, 16.0, 15.0, 14.0, 13.0, 12.0, 11.0, 10.0, 9.0, 8.0, 7.0, 6.0, 5.0, 4.0, 3.0, 2.0, 1.0, -5.328000068664551, -5.581200122833252, -5.811299800872803, -5.851600170135498, -5.878300189971924, -6.027400016784668, -6.128799915313721, -6.146999835968018, -6.2835001945495605, -6.324900150299072, -6.36870002746582, -6.329999923706055, -6.418000221252441, -6.489500045776367, -6.513599872589111, -6.568699836730957, -6.568600177764893, -6.469299793243408, -6.656599998474121, -6.656599998474121, -6.685200214385986, -6.656199932098389, -6.75, -6.750699996948242, -6.78410005569458, -6.785799980163574, -6.818600177764893, -6.818600177764893, -6.855800151824951, -6.855800151824951, -1.830899953842163, -4.872200012207031, -5.08519983291626, -5.03000020980835, -3.205699920654297, -2.9786999225616455, -3.5027999877929688, -4.294099807739258, -5.459799766540527, -3.6487998962402344, -3.1452999114990234, -4.713600158691406, -5.268799781799316, -4.6350998878479, -5.054299831390381, -4.262800216674805, -3.377000093460083, -4.353799819946289, -3.7434000968933105, -5.014200210571289, -4.7444000244140625, -4.978300094604492, -3.5713000297546387, -3.312999963760376, -5.29610013961792, -4.566299915313721, -5.195000171661377, -4.778900146484375, -4.616000175476074, -5.216300010681152, -4.7332000732421875, -4.738399982452393, -5.1458001136779785, -5.155200004577637, -5.004199981689453, -3.0996999740600586, -5.353000164031982, -5.625100135803223, -5.625500202178955, -5.569399833679199, -5.806600093841553, -5.9369001388549805, -5.958000183105469, -6.190100193023682, -6.219099998474121, -6.27370023727417, -6.301400184631348, -6.301400184631348, -6.300899982452393, -6.362100124359131, -5.512599945068359, -6.335999965667725, -6.458899974822998, -5.8109002113342285, -6.493800163269043, -6.49459981918335, -6.49399995803833, -3.8364999294281006, -6.532400131225586, -6.530600070953369, -6.56850004196167, -6.567599773406982, -6.569399833679199, -6.645999908447266, -6.64769983291626, -6.503900051116943, -6.147500038146973, -5.70389986038208, -4.352799892425537, -3.8719000816345215, -3.8071999549865723, -2.892699956893921, -3.77839994430542, -5.805799961090088, -3.149899959564209, -5.041600227355957, -5.804500102996826, -5.548600196838379, -3.293299913406372, -4.669300079345703, -5.100200176239014, -3.8685998916625977, -4.287700176239014, -4.604700088500977, -5.191699981689453, -4.031000137329102, -5.098100185394287, -5.052999973297119, -4.8125, -4.201900005340576, -4.427599906921387, -5.203999996185303, -4.947299957275391, -5.289000034332275, -4.707699775695801, -4.4095001220703125, -4.7434000968933105, -3.955899953842163, -4.572299957275391, -4.495200157165527, -4.739799976348877, -4.743000030517578, -5.073800086975098, -4.9375, -4.309500217437744, -5.531300067901611, -5.54580020904541, -5.7027997970581055, -5.656700134277344, -5.738100051879883, -5.565999984741211, -5.690899848937988, -5.893799781799316, -5.956500053405762, -5.799499988555908, -6.002099990844727, -5.901700019836426, -5.1128997802734375, -6.296899795532227, -6.327600002288818, -6.327600002288818, -6.184700012207031, -6.393499851226807, -6.393599987030029, -6.465000152587891, -6.542200088500977, -6.667600154876709, -6.713399887084961, -6.712600231170654, -6.714399814605713, -6.712900161743164, -6.7129998207092285, -6.762599945068359, -5.961400032043457, -5.848199844360352, -4.569900035858154, -5.59660005569458, -5.796899795532227, -3.397599935531616, -4.065400123596191, -2.9370999336242676, -4.115200042724609, -4.223100185394287, -4.497300148010254, -5.214900016784668, -4.6427998542785645, -5.572999954223633, -4.879799842834473, -4.625199794769287, -3.441800117492676, -3.968400001525879, -3.614000082015991, -5.408599853515625, -3.8183999061584473, -3.254699945449829, -4.13640022277832, -4.262499809265137, -4.04640007019043, -3.3041000366210938, -4.111400127410889, -4.2032999992370605, -4.982600212097168, -5.269000053405762, -4.794000148773193, -4.728600025177002, -5.163599967956543, -4.900100231170654, -5.033699989318848, -5.099100112915039, -5.103700160980225, -4.9232001304626465, -5.267300128936768, -5.372200012207031, -3.3766000270843506, -2.5697999000549316, -5.34060001373291, -5.689899921417236, -5.690299987792969, -5.7947001457214355, -5.796999931335449, -4.94920015335083, -5.982500076293945, -5.918900012969971, -6.101799964904785, -6.208499908447266, -6.208499908447266, -5.885799884796143, -6.236000061035156, -5.885900020599365, -6.266600131988525, -6.26669979095459, -6.266900062561035, -6.0594000816345215, -6.2967000007629395, -5.86929988861084, -6.361000061035156, -6.063700199127197, -6.395599842071533, -6.366799831390381, -6.465700149536133, -3.363100051879883, -6.224599838256836, -4.881999969482422, -6.127299785614014, -4.307499885559082, -4.328999996185303, -5.158999919891357, -5.23360013961792, -4.545300006866455, -4.178899765014648, -4.947999954223633, -5.413000106811523, -5.509399890899658, -4.52810001373291, -3.7165000438690186, -5.323400020599365, -2.8348000049591064, -4.770299911499023, -3.816200017929077, -4.14870023727417, -3.744499921798706, -5.350100040435791, -3.9746999740600586, -4.887899875640869, -3.629300117492676, -4.444200038909912, -4.714399814605713, -4.752299785614014, -4.841300010681152, -4.661900043487549, -4.759300231933594, -5.126399993896484, -5.1722002029418945, -2.6986000537872314, -4.061100006103516, -4.783100128173828, -5.514900207519531, -5.5447001457214355, -5.670400142669678, -5.919400215148926, -5.939899921417236, -4.998700141906738, -5.946800231933594, -6.279399871826172, -6.279699802398682, -6.068900108337402, -6.343900203704834, -6.28380012512207, -6.376800060272217, -6.376999855041504, -3.463099956512451, -6.41379976272583, -6.3495001792907715, -6.448500156402588, -6.526899814605713, -6.526299953460693, -6.564499855041504, -6.491099834442139, -5.809100151062012, -6.699100017547607, -6.700200080871582, -6.747399806976318, -6.746200084686279, -6.170100212097168, -1.9631999731063843, -4.076300144195557, -4.459000110626221, -4.821599960327148, -5.008600234985352, -2.9546000957489014, -5.497000217437744, -5.446300029754639, -5.326300144195557, -2.161900043487549, -5.918700218200684, -5.590000152587891, -5.665800094604492, -3.829699993133545, -5.7399001121521, -4.284299850463867, -5.776899814605713, -4.993199825286865, -3.922499895095825, -5.375800132751465, -4.833799839019775, -5.469699859619141, -4.417600154876709, -5.078800201416016, -4.427299976348877, -4.719699859619141, -5.198699951171875, -5.031000137329102, -5.1880998611450195, -5.180799961090088, -5.423999786376953, -5.451399803161621, -3.1963999271392822, -4.733699798583984, -4.888400077819824, -5.143599987030029, -5.3649001121521, -5.418399810791016, -5.61269998550415, -5.629300117492676, -5.755199909210205, -5.774199962615967, -5.775400161743164, -5.945899963378906, -3.75600004196167, -6.067800045013428, -6.021399974822998, -6.178899765014648, -6.270699977874756, -6.303299903869629, -6.3368000984191895, -6.336299896240234, -6.337500095367432, -6.338500022888184, -5.940299987792969, -6.408400058746338, -6.446499824523926, -6.444900035858154, -6.0157999992370605, -6.5655999183654785, -6.610000133514404, -6.609300136566162, -4.515900135040283, -4.615600109100342, -4.208799839019775, -5.202899932861328, -1.909500002861023, -2.8039000034332275, -5.189199924468994, -4.939300060272217, -5.646599769592285, -4.82919979095459, -3.7297000885009766, -5.272500038146973, -5.701099872589111, -4.151199817657471, -4.205399990081787, -5.0665998458862305, -5.026100158691406, -4.758299827575684, -3.1721999645233154, -4.806600093841553, -4.917500019073486, -4.956500053405762, -4.406400203704834, -4.822199821472168, -4.667200088500977, -4.892099857330322, -4.779600143432617, -4.796599864959717, -5.105500221252441, -5.096700191497803, -5.083799839019775, -4.284800052642822, -4.8531999588012695, -5.363999843597412, -5.669600009918213, -5.707399845123291, -5.726799964904785, -5.125, -5.9243998527526855, -5.974800109863281, -5.999199867248535, -6.054299831390381, -6.053100109100342, -6.053400039672852, -6.083499908447266, -6.139900207519531, -6.140600204467773, -6.141300201416016, -6.236000061035156, -6.304299831390381, -6.417799949645996, -6.457300186157227, -6.4583001136779785, -6.101799964904785, -6.498799800872803, -6.499599933624268, -6.5416998863220215, -6.544400215148926, -6.504300117492676, -6.587600231170654, -6.589300155639648, -4.350599765777588, -4.734499931335449, -5.63100004196167, -5.105199813842773, -4.282700061798096, -4.73859977722168, -5.778200149536133, -4.269999980926514, -4.740900039672852, -3.9616000652313232, -3.3747000694274902, -2.0576000213623047, -4.481900215148926, -4.451300144195557, -5.1880998611450195, -5.4517998695373535, -4.821199893951416, -5.382299900054932, -4.7256999015808105, -4.033199787139893, -4.683800220489502, -5.479599952697754, -3.712899923324585, -4.144700050354004, -4.512400150299072, -4.128799915313721, -4.48960018157959, -4.734399795532227, -4.280200004577637, -4.642000198364258, -5.0665998458862305, -4.803599834442139, -4.944799900054932, -3.5071001052856445, -4.406000137329102, -4.685699939727783, -4.874199867248535, -5.175899982452393, -4.674499988555908, -5.428500175476074, -5.523399829864502, -5.613500118255615, -5.832799911499023, -5.693699836730957, -5.9274001121521, -5.977700233459473, -5.838699817657471, -6.0883002281188965, -6.149099826812744, -6.2154998779296875, -6.214399814605713, -6.247099876403809, -6.282299995422363, -6.218100070953369, -6.218100070953369, -5.8094000816345215, -6.356599807739258, -6.434299945831299, -6.435999870300293, -6.43720006942749, -6.43720006942749, -6.520899772644043, -6.520199775695801, -3.8413000106811523, -4.990699768066406, -4.50629997253418, -4.3678998947143555, -6.024199962615967, -4.340099811553955, -4.992099761962891, -5.532400131225586, -3.7692999839782715, -4.775400161743164, -5.154200077056885, -3.2432000637054443, -4.585000038146973, -4.1508002281188965, -5.414400100708008, -3.7695000171661377, -3.0980000495910645, -4.3632001876831055, -5.2484002113342285, -3.6565001010894775, -2.9600000381469727, -2.7255001068115234, -4.710999965667725, -4.69980001449585, -5.26609992980957, -4.452000141143799, -4.203100204467773, -4.813600063323975, -5.035399913787842, -4.498700141906738, -5.074900150299072, -5.066199779510498, -4.316299915313721, -4.827899932861328, -4.718999862670898, -4.983699798583984, -5.118000030517578, -4.9903998374938965, -5.4120001792907715, -5.394499778747559, -5.5472002029418945, -5.4319000244140625, -5.706699848175049, -5.752500057220459, -5.773600101470947, -5.797999858856201, -5.821599960327148, -5.649099826812744, -5.846199989318848, -5.845399856567383, -5.84689998626709, -5.923999786376953, -5.950200080871582, -5.978000164031982, -5.95359992980957, -6.0995001792907715, -6.100399971008301, -6.13129997253418, -6.130799770355225, -6.131999969482422, -6.168000221252441, -6.200799942016602, -6.135700225830078, -3.8701000213623047, -5.218999862670898, -4.208199977874756, -4.6834001541137695, -4.732699871063232, -4.133999824523926, -6.02400016784668, -5.168799877166748, -4.610000133514404, -3.0420000553131104, -4.5218000411987305, -4.966599941253662, -5.246799945831299, -5.2519001960754395, -4.497900009155273, -4.623799800872803, -5.09089994430542, -3.4888999462127686, -5.0945000648498535, -5.322999954223633, -2.6540000438690186, -4.493100166320801, -4.375199794769287, -4.521999835968018, -4.798399925231934, -3.8726000785827637, -5.122300148010254, -4.593299865722656, -4.0482001304626465, -4.436699867248535, -4.558199882507324, -4.705900192260742, -4.6595001220703125, -4.959400177001953]}, \"token.table\": {\"Topic\": [7, 5, 2, 4, 7, 9, 3, 9, 1, 4, 5, 6, 9, 2, 4, 7, 8, 3, 1, 2, 6, 7, 9, 1, 4, 8, 1, 3, 7, 9, 2, 4, 7, 9, 8, 6, 6, 1, 7, 4, 1, 4, 9, 4, 1, 5, 6, 8, 9, 8, 5, 6, 9, 2, 4, 8, 1, 4, 5, 6, 9, 3, 8, 6, 3, 4, 1, 2, 5, 6, 2, 3, 7, 2, 4, 7, 4, 5, 9, 2, 3, 4, 7, 3, 5, 4, 6, 1, 2, 8, 1, 2, 3, 4, 7, 8, 9, 6, 7, 4, 5, 6, 3, 1, 1, 2, 3, 4, 5, 6, 7, 7, 9, 9, 5, 6, 7, 6, 7, 8, 3, 5, 3, 2, 3, 4, 5, 6, 7, 8, 9, 1, 4, 6, 8, 4, 7, 2, 1, 2, 3, 4, 5, 8, 9, 8, 1, 3, 7, 6, 8, 8, 4, 2, 3, 4, 5, 6, 7, 9, 3, 1, 2, 5, 6, 7, 7, 6, 8, 1, 3, 4, 3, 5, 1, 5, 6, 8, 1, 4, 5, 5, 8, 5, 3, 1, 6, 1, 1, 2, 3, 6, 7, 9, 8, 4, 3, 4, 6, 8, 4, 2, 1, 2, 3, 5, 7, 9, 8, 1, 3, 1, 3, 6, 9, 1, 1, 2, 4, 3, 6, 1, 1, 8, 6, 4, 6, 9, 5, 1, 3, 5, 8, 9, 1, 3, 5, 8, 6, 8, 6, 5, 1, 2, 3, 5, 8, 9, 3, 2, 5, 6, 7, 8, 5, 6, 8, 7, 6, 6, 2, 9, 8, 1, 3, 4, 7, 2, 6, 9, 7, 1, 2, 3, 4, 5, 8, 9, 2, 3, 5, 9, 5, 1, 2, 3, 4, 7, 8, 7, 7, 9, 3, 7, 2, 9, 5, 5, 8, 3, 2, 1, 3, 5, 7, 8, 9, 6, 7, 6, 8, 7, 3, 4, 9, 3, 9, 4, 5, 7, 2, 5, 1, 2, 3, 4, 6, 7, 9, 5, 5, 4, 1, 2, 3, 5, 7, 8, 1, 2, 8, 4, 2, 6, 7, 8, 2, 2, 7, 5, 6, 7, 2, 4, 5, 3, 6, 9, 1, 3, 5, 3, 1, 2, 3, 6, 7, 9, 1, 1, 2, 3, 5, 6, 7, 8, 6, 1, 4, 9, 1, 6, 1, 5, 8, 6, 8, 3, 8, 9, 1, 2, 3, 4, 5, 6, 7, 8, 3, 6, 7, 6, 1, 1, 3, 5, 8, 9, 1, 9, 1, 2, 3, 4, 5, 6, 7, 8, 9, 2, 3, 5, 7, 8, 8, 5, 9, 4, 3, 1, 2, 3, 4, 5, 6, 1, 2, 3, 6, 7, 8, 9, 6, 1, 2, 3, 4, 6, 7, 9, 1, 2, 3, 4, 7, 5, 7, 9, 4, 5, 8, 1, 3, 4, 7, 9, 1, 6, 1, 2, 3, 4, 6, 7, 7, 2, 4, 7, 9, 5, 2, 7, 5, 2, 3, 4, 5, 1, 2, 5, 6, 7, 9, 1, 7, 7, 8, 3, 4, 8, 9, 1, 4, 5, 6, 7, 9, 2, 7, 9, 2, 3, 6, 8, 9, 4, 1, 2, 3, 4, 5, 7, 1, 3, 4, 6, 7, 1, 5, 6, 9, 2, 4, 9, 1, 2, 5, 6, 2, 9, 1, 3, 8, 1, 4, 5, 6, 9, 1, 2, 3, 4, 5, 6, 7, 8, 5, 3, 7, 8, 1, 1, 2, 3, 4, 5, 6, 7, 8, 9, 3, 8, 2, 3, 4, 3, 8, 9, 9, 1, 2, 3, 4, 8, 3, 1, 1, 2, 8, 6, 8, 4, 4, 8, 4, 4, 4, 7, 4, 1, 2, 3, 9, 9, 2, 3, 5, 8, 1, 2, 3, 4, 5, 6, 7, 8, 9, 3, 2, 3, 5, 6, 7, 9, 6, 9, 6, 3, 9, 9, 1, 2, 4, 5, 7, 8, 9, 2, 6, 5, 6, 2, 6, 8, 7, 6, 8, 9, 3, 8, 5, 8, 2, 9, 7, 3, 8, 3, 6, 9, 1, 2, 3, 4, 5, 6, 7, 8, 6, 4, 5, 5, 7, 9, 2, 3, 4, 5, 6, 7, 8, 9, 8, 2, 7, 9, 6, 5, 1, 4, 7, 8, 8, 1, 2, 3, 4, 6, 1, 5, 1, 4, 5, 6, 7, 8, 5, 6, 7, 1, 3, 6, 8, 2, 3, 7, 1, 4, 5, 7, 9, 4, 2, 3, 5, 2, 8, 9, 8, 8, 9, 2, 5, 8, 1, 3, 9, 1, 2, 3, 4, 5, 6, 8, 7, 1, 1, 4, 5, 6, 7, 8, 9, 2, 2, 5, 7, 3, 8, 1, 2, 3, 4, 5, 8, 9, 1, 6, 8, 4, 9, 2, 3, 4, 9, 3, 4, 2, 4, 7, 5, 2, 5, 2, 4, 9, 1, 2, 4, 6, 9, 2, 3, 7, 9, 4, 6, 7, 1, 1, 2, 3, 5, 6, 9, 4, 1, 4, 6, 7, 9, 2, 5, 7, 9, 9, 5, 1, 3, 4, 5, 6, 9, 7, 5, 6, 2, 6, 8, 3, 4, 6, 7, 9, 9, 3, 5, 6, 8, 2, 3, 4, 5, 6, 7, 8, 3, 4, 7, 9, 2, 1, 1, 6, 8, 3, 7, 9, 1, 2, 6, 7, 8, 9, 3, 6, 4, 4, 1, 2, 3, 9, 2, 9, 2, 3, 9, 1, 5, 6, 8, 9, 2, 5, 6, 7, 8, 9, 5, 9, 7, 1, 6, 9, 4, 3, 5, 9, 2, 9, 7, 1, 2, 3, 6, 7, 8, 9, 2, 7, 2, 5, 9, 2, 7, 4, 1, 7, 9, 4, 1, 2, 3, 4, 5, 5, 6, 7, 9, 5, 2, 2, 2, 3, 4, 3, 3, 1, 3, 6, 7, 9, 6, 1, 6, 2, 3, 4, 6, 8, 2, 3, 6, 7, 7, 1, 9, 1, 8, 4, 6, 1, 4, 5, 7, 2, 3, 6, 7, 8, 9, 6, 6, 8, 4, 5, 4, 1, 6, 7, 9, 7, 5, 9, 6, 8, 9, 5, 9, 2, 6, 5, 6, 1, 2, 3, 4, 5, 6, 7, 8, 9, 7, 1, 2, 4, 6, 5, 3, 3, 8, 9, 3, 3, 3, 1, 2, 3, 4, 6, 7, 8, 2, 4, 5, 7, 9, 3, 5, 6, 7, 8, 9, 1, 2, 5, 6, 7, 8, 9, 1, 3, 4, 6, 1, 2, 3, 4, 5, 6, 9, 3, 1, 2, 3, 4, 8, 9, 4, 7, 5, 6, 7, 1, 2, 3, 4, 5, 6, 7, 8, 9, 2, 5, 7, 4, 8, 9, 8, 3, 5, 1, 3, 8, 7, 9, 1, 2, 3, 4, 6, 9, 1, 2, 3, 4, 5, 6, 7, 9, 8], \"Freq\": [0.9415751695632935, 0.9578897953033447, 0.06956957280635834, 0.2643643915653229, 0.0626126155257225, 0.5982983112335205, 0.20597253739833832, 0.78956139087677, 0.2646411955356598, 0.015341518446803093, 0.31833651661872864, 0.023012278601527214, 0.37586721777915955, 0.2420671433210373, 0.6012635231018066, 0.14836372435092926, 0.007808617316186428, 0.9103800654411316, 0.9826287627220154, 0.8471158742904663, 0.005723756272345781, 0.017171267420053482, 0.12592263519763947, 0.6407386064529419, 0.26628097891807556, 0.08321280777454376, 0.019862700253725052, 0.5660869479179382, 0.2780778110027313, 0.13903890550136566, 0.32938942313194275, 0.04971916228532791, 0.4847618043422699, 0.1305127888917923, 0.9636099934577942, 0.9632753133773804, 0.9420151114463806, 0.04346439614892006, 0.9562166929244995, 0.951465904712677, 0.1999606490135193, 0.7383162379264832, 0.061526354402303696, 0.9452694654464722, 0.7522072196006775, 0.004895057994872332, 0.05058226361870766, 0.17948545515537262, 0.011421801522374153, 0.9767106175422668, 0.9664018154144287, 0.02761148102581501, 0.9732130169868469, 0.9402899742126465, 0.9694574475288391, 0.9885380268096924, 0.31738582253456116, 0.4255855083465576, 0.032459910959005356, 0.12983964383602142, 0.09016641974449158, 0.9570949077606201, 0.9655974507331848, 0.9568650722503662, 0.9561364054679871, 0.9735392928123474, 0.2083793729543686, 0.5556783676147461, 0.017364948987960815, 0.217061847448349, 0.10989260673522949, 0.1007348895072937, 0.7784059643745422, 0.6885695457458496, 0.20470987260341644, 0.09304994344711304, 0.7802016139030457, 0.005307493731379509, 0.21229974925518036, 0.002428782870993018, 0.002428782870993018, 0.9156511425971985, 0.07529226690530777, 0.7735295295715332, 0.20259106159210205, 0.7181500792503357, 0.2611454725265503, 0.23683179914951324, 0.014801987446844578, 0.7252973914146423, 0.47024965286254883, 0.045856084674596786, 0.3182951807975769, 0.09261131286621094, 0.02967158518731594, 0.02247847430408001, 0.020680194720625877, 0.7143135070800781, 0.2678675651550293, 0.022781843319535255, 0.18225474655628204, 0.7745826840400696, 0.9088653326034546, 0.9622681140899658, 0.1283319592475891, 0.03422185778617859, 0.35761842131614685, 0.21901988983154297, 0.1163543164730072, 0.10779885202646255, 0.03764404356479645, 0.9562126398086548, 0.978293240070343, 0.9780802726745605, 0.13947917520999908, 0.2169675976037979, 0.6199074387550354, 0.35415107011795044, 0.040707021951675415, 0.6024639010429382, 0.2964285612106323, 0.7020676136016846, 0.9572269916534424, 0.0785725936293602, 0.14221639931201935, 0.16107381880283356, 0.42507773637771606, 0.03535766899585724, 0.07385823875665665, 0.0031429037917405367, 0.08092977106571198, 0.9485336542129517, 0.058919064700603485, 0.15711750090122223, 0.7757676839828491, 0.7782021760940552, 0.20999106764793396, 0.9764794707298279, 0.8324779272079468, 0.0723893865942955, 0.07507047802209854, 0.010724353604018688, 0.001340544200502336, 0.001340544200502336, 0.006702721118927002, 0.9801955819129944, 0.9512714147567749, 0.07851817458868027, 0.9160453677177429, 0.9768714904785156, 0.9918588995933533, 0.9449472427368164, 0.9511735439300537, 0.3587598204612732, 0.09644081443548203, 0.18902400135993958, 0.16587820649147034, 0.030861061066389084, 0.11572897434234619, 0.03857632726430893, 0.9803656339645386, 0.06579238921403885, 0.19438660144805908, 0.0029905629344284534, 0.18242435157299042, 0.5532541871070862, 0.9706913828849792, 0.13200578093528748, 0.8580375909805298, 0.6170497536659241, 0.3702298402786255, 0.005876664072275162, 0.04273006319999695, 0.9400613903999329, 0.03801455721259117, 0.9503638744354248, 0.002924196654930711, 0.002924196654930711, 0.9025614857673645, 0.07220491766929626, 0.018051229417324066, 0.7296744585037231, 0.27150678634643555, 0.9345107078552246, 0.9663179516792297, 0.9236859083175659, 0.07105275988578796, 0.971346378326416, 0.46460819244384766, 0.30717897415161133, 0.005119649693369865, 0.012799124233424664, 0.13951045274734497, 0.06911526620388031, 0.9301766157150269, 0.9528906345367432, 0.11497749388217926, 0.2227688878774643, 0.5820735692977905, 0.07186093181371689, 0.9643115401268005, 0.9696993231773376, 0.14278756082057953, 0.4321202337741852, 0.0037575671449303627, 0.08266647905111313, 0.3381810486316681, 0.0037575671449303627, 0.9538382887840271, 0.032619405537843704, 0.9133433699607849, 0.6631988286972046, 0.1495448350906372, 0.1690506786108017, 0.019505847245454788, 0.9528666138648987, 0.16851823031902313, 0.20462928712368011, 0.6259248852729797, 0.9524582624435425, 0.9579302072525024, 0.9576222896575928, 0.9697104096412659, 0.9893395304679871, 0.9569104909896851, 0.12871097028255463, 0.6692970395088196, 0.19306644797325134, 0.9335190057754517, 0.9742744565010071, 0.7294526696205139, 0.07294526696205139, 0.08510281145572662, 0.10941790789365768, 0.7777519226074219, 0.009844960644841194, 0.10829456895589828, 0.09844961017370224, 0.9640421867370605, 0.9719327688217163, 0.9842076897621155, 0.9406290054321289, 0.02753967046737671, 0.022031735628843307, 0.5838410258293152, 0.18176183104515076, 0.13769835233688354, 0.03855554014444351, 0.9522055387496948, 0.021744782105088234, 0.1261197328567505, 0.32834622263908386, 0.05001299828290939, 0.4718617796897888, 0.007160481531172991, 0.9881464242935181, 0.0023868270218372345, 0.9787417650222778, 0.9808773398399353, 0.9792220592498779, 0.9318053126335144, 0.9568081498146057, 0.9507592916488647, 0.1659030169248581, 0.1106020137667656, 0.5831742286682129, 0.13573883473873138, 0.816430926322937, 0.16328617930412292, 0.9495643973350525, 0.9721362590789795, 0.8917478322982788, 0.0025416265707463026, 0.0003630894934758544, 0.0007261789869517088, 0.0007261789869517088, 0.03812439739704132, 0.06608229130506516, 0.9699723720550537, 0.06551481038331985, 0.668251097202301, 0.2620592415332794, 0.9486974477767944, 0.007939809933304787, 0.3255322277545929, 0.6431246399879456, 0.003969904966652393, 0.007939809933304787, 0.015879619866609573, 0.9316347241401672, 0.8962894678115845, 0.09490123391151428, 0.08019399642944336, 0.9112954139709473, 0.9324048161506653, 0.9886165261268616, 0.9832913279533386, 0.9809954166412354, 0.974646270275116, 0.9861611127853394, 0.9648867249488831, 0.009489229880273342, 0.21192613244056702, 0.07907691597938538, 0.0031630767043679953, 0.6863876581192017, 0.009489229880273342, 0.32390090823173523, 0.6625246405601501, 0.7637442350387573, 0.2326638102531433, 0.9847036600112915, 0.9381808042526245, 0.9571302533149719, 0.9578516483306885, 0.9404267072677612, 0.9638068079948425, 0.973541259765625, 0.9505229592323303, 0.991807758808136, 0.9529691934585571, 0.038118768483400345, 0.07612334936857224, 0.4630837142467499, 0.24740087985992432, 0.00634361244738102, 0.15224669873714447, 0.044405288994312286, 0.00634361244738102, 0.9578995704650879, 0.9706243872642517, 0.9646671414375305, 0.7772016525268555, 0.1784960776567459, 0.007437336258590221, 0.007437336258590221, 0.014874672517180443, 0.014874672517180443, 0.3526303470134735, 0.5485360622406006, 0.08619853109121323, 0.9511563181877136, 0.0671110600233078, 0.5368884801864624, 0.09227770566940308, 0.2936108708381653, 0.9778974652290344, 0.9415583610534668, 0.9438394904136658, 0.12541374564170837, 0.3424760103225708, 0.5305966138839722, 0.3889092206954956, 0.06272729486227036, 0.5520001649856567, 0.07226888835430145, 0.9033610820770264, 0.018067222088575363, 0.583713173866272, 0.24035249650478363, 0.17168034613132477, 0.9088722467422485, 0.2505808174610138, 0.47838154435157776, 0.007593357935547829, 0.015186715871095657, 0.1822405904531479, 0.06074686348438263, 0.9775976538658142, 0.002268851501867175, 0.5944390892982483, 0.13613109290599823, 0.02495736815035343, 0.12024912983179092, 0.09075406193733215, 0.02949506975710392, 0.9878222942352295, 0.21245688199996948, 0.7248529195785522, 0.04998985677957535, 0.2166786938905716, 0.7800433039665222, 0.18619213998317719, 0.6761714816093445, 0.1273946315050125, 0.9482510685920715, 0.9428868889808655, 0.011160101741552353, 0.9820889234542847, 0.9690634608268738, 0.008287773467600346, 0.09862450510263443, 0.24697564542293549, 0.029007207602262497, 0.10276839137077332, 0.5088692903518677, 0.004972664173692465, 0.0008287773234769702, 0.9871905446052551, 0.15569965541362762, 0.8351163268089294, 0.9729954600334167, 0.9891144633293152, 0.6960291266441345, 0.08896612375974655, 0.07501065731048584, 0.001744433888234198, 0.13781027495861053, 0.9819095730781555, 0.9701477289199829, 0.396570086479187, 0.1097426638007164, 0.004988302942365408, 0.04738887771964073, 0.002494151471182704, 0.09228360652923584, 0.06235378608107567, 0.04738887771964073, 0.23694439232349396, 0.6590734720230103, 0.1163070797920227, 0.04910743236541748, 0.1059686690568924, 0.06719964742660522, 0.9638060927391052, 0.9974805116653442, 0.9887193441390991, 0.9901615381240845, 0.9646677374839783, 0.005121107678860426, 0.29190313816070557, 0.2355709671974182, 0.005121107678860426, 0.08193772286176682, 0.378961980342865, 0.9398566484451294, 0.06956524401903152, 0.37763988971710205, 0.21863362193107605, 0.1192547008395195, 0.09440997242927551, 0.1192547008395195, 0.9439589977264404, 0.9831099510192871, 0.09112482517957687, 0.6308642029762268, 0.18925924599170685, 0.021028805524110794, 0.06659121811389923, 0.9856282472610474, 0.9568248987197876, 0.957685112953186, 0.10701333731412888, 0.8882107138633728, 0.9664908647537231, 0.08619458228349686, 0.12067241966724396, 0.7929901480674744, 0.26011374592781067, 0.7153127789497375, 0.9400259256362915, 0.006205713842064142, 0.031028568744659424, 0.15514284372329712, 0.19858284294605255, 0.6019542217254639, 0.9637855291366577, 0.9562832117080688, 0.18670542538166046, 0.13769525289535522, 0.2123774290084839, 0.08635126054286957, 0.17737016081809998, 0.19837452471256256, 0.960174024105072, 0.005268244072794914, 0.9798933863639832, 0.002634122036397457, 0.007902366109192371, 0.9162306189537048, 0.9681015014648438, 0.955161988735199, 0.9871216416358948, 0.10036203265190125, 0.649712085723877, 0.1690307855606079, 0.07395096868276596, 0.17425234615802765, 0.027105920016765594, 0.29171133041381836, 0.10971443355083466, 0.052921079099178314, 0.34463241696357727, 0.9821193814277649, 0.9143897294998169, 0.9913714528083801, 0.007398294284939766, 0.22042100131511688, 0.0853242576122284, 0.6825940608978271, 0.007110354956239462, 0.11256273090839386, 0.48199936747550964, 0.008658671751618385, 0.06061070039868355, 0.01731734350323677, 0.31748461723327637, 0.9858329892158508, 0.9737221598625183, 0.016788313165307045, 0.048123981803655624, 0.2099955528974533, 0.2099955528974533, 0.5249888896942139, 0.008749814704060555, 0.9641914963722229, 0.4143236577510834, 0.22161497175693512, 0.09314252436161041, 0.01284724473953247, 0.18628504872322083, 0.07065984606742859, 0.014762130565941334, 0.16238343715667725, 0.7233443856239319, 0.10333491861820221, 0.9619007110595703, 0.910961925983429, 0.009589072316884995, 0.009589072316884995, 0.07671257853507996, 0.17534153163433075, 0.13776834309101105, 0.6763173341751099, 0.027727026492357254, 0.9427188634872437, 0.8005061149597168, 0.17153702676296234, 0.931800365447998, 0.9719821810722351, 0.24795548617839813, 0.5355838537216187, 0.21324172616004944, 0.15175653994083405, 0.11778119206428528, 0.3238982856273651, 0.36240366101264954, 0.04077041149139404, 0.15545731782913208, 0.1993042528629303, 0.16342948377132416, 0.17140164971351624, 0.04583997651934624, 0.10363820940256119, 0.04384693503379822, 0.11758950352668762, 0.9416685104370117, 0.684177577495575, 0.09773965179920197, 0.19547930359840393, 0.9838258624076843, 0.00018667032418306917, 0.041067469865083694, 0.07578814774751663, 0.11946900188922882, 0.22325770556926727, 0.07933488488197327, 0.2314711958169937, 0.11498891562223434, 0.11461557447910309, 0.9702978730201721, 0.9496679902076721, 0.08720674365758896, 0.893869161605835, 0.9437848329544067, 0.03243591636419296, 0.7979235053062439, 0.1686667501926422, 0.957416832447052, 0.003834532340988517, 0.9912266135215759, 0.0019172661704942584, 0.0019172661704942584, 0.0019172661704942584, 0.9852964282035828, 0.9335992932319641, 0.9691444635391235, 0.07184597849845886, 0.9196285605430603, 0.959476113319397, 0.970760703086853, 0.9691065549850464, 0.14846087992191315, 0.8412783145904541, 0.979902982711792, 0.9849018454551697, 0.37468892335891724, 0.621435284614563, 0.9490207433700562, 0.7165332436561584, 0.15690509974956512, 0.05230169743299484, 0.0679922103881836, 0.9752609133720398, 0.05802491307258606, 0.928398609161377, 0.04054058715701103, 0.9324334859848022, 0.05450564622879028, 0.3744300901889801, 0.11612072587013245, 0.13507920503616333, 0.0236981064081192, 0.14692826569080353, 0.0023698105942457914, 0.030807537958025932, 0.11612072587013245, 0.9420115351676941, 0.12218106538057327, 0.03167657181620598, 0.05430269613862038, 0.2760387063026428, 0.5113503932952881, 0.9792740345001221, 0.9673202037811279, 0.9737826585769653, 0.9849432706832886, 0.00848451443016529, 0.9926881790161133, 0.9386179447174072, 0.10683886706829071, 0.21786749362945557, 0.10474398732185364, 0.03980271518230438, 0.2220572531223297, 0.12150302529335022, 0.1843494176864624, 0.03256913274526596, 0.9648605585098267, 0.6929745078086853, 0.30206581950187683, 0.9576851725578308, 0.9445861577987671, 0.9644435048103333, 0.912869393825531, 0.20799125730991364, 0.18488112092018127, 0.6008636355400085, 0.16501866281032562, 0.8100916147232056, 0.32500866055488586, 0.6635593771934509, 0.9667243957519531, 0.9749683141708374, 0.9660588502883911, 0.9302070736885071, 0.9938382506370544, 0.18496468663215637, 0.09248234331607819, 0.7134352326393127, 0.0010034568840637803, 0.49370077252388, 0.19366717338562012, 0.09332148730754852, 0.0020069137681275606, 0.01505185291171074, 0.15453235805034637, 0.04716247320175171, 0.9828764200210571, 0.03024311177432537, 0.9375364780426025, 0.13649047911167145, 0.12599121034145355, 0.7349487543106079, 0.11448223143815994, 0.0130836833268404, 0.19625525176525116, 0.1684524267911911, 0.03679785877466202, 0.056423384696245193, 0.3475353419780731, 0.06787160784006119, 0.9844329953193665, 0.2611671984195709, 0.6131752133369446, 0.12490605562925339, 0.9781594276428223, 0.9945309162139893, 0.9789673089981079, 0.008903437294065952, 0.08903437107801437, 0.8992471098899841, 0.9638060927391052, 0.03506016731262207, 0.13634510338306427, 0.7401590943336487, 0.04674689099192619, 0.04674689099192619, 0.9398566484451294, 0.9880392551422119, 0.24305935204029083, 0.00043559022014960647, 0.6355261206626892, 0.01611683890223503, 0.10323488712310791, 0.0013067707186564803, 0.6878544688224792, 0.10891029238700867, 0.19489210844039917, 0.588858425617218, 0.06641260534524918, 0.07526761293411255, 0.2612228989601135, 0.849346935749054, 0.14560233056545258, 0.968696653842926, 0.020611081272363663, 0.1099257692694664, 0.0549628846347332, 0.1580182909965515, 0.6526842713356018, 0.9640979766845703, 0.12586873769760132, 0.20453669130802155, 0.6608108878135681, 0.9571763277053833, 0.30712631344795227, 0.6851279139518738, 0.9962559938430786, 0.12068376690149307, 0.8716049790382385, 0.10824482142925262, 0.5195751786231995, 0.35720792412757874, 0.9713467359542847, 0.9800559878349304, 0.013244000263512135, 0.07881958782672882, 0.03318719565868378, 0.029038796201348305, 0.024890396744012833, 0.13689717650413513, 0.34431716799736023, 0.3567623496055603, 0.957125186920166, 0.9821272492408752, 0.2623222768306732, 0.15661032497882843, 0.003915258217602968, 0.17618660628795624, 0.23883073031902313, 0.11354248225688934, 0.04698309674859047, 0.9835245013237, 0.9616823792457581, 0.7208040356636047, 0.24777638912200928, 0.9683445692062378, 0.9386353492736816, 0.2667417824268341, 0.12635137140750885, 0.2737613022327423, 0.17197825014591217, 0.035097602754831314, 0.02632320299744606, 0.10178305208683014, 0.02341853640973568, 0.09367414563894272, 0.8664858341217041, 0.22895194590091705, 0.7573025822639465, 0.0023438315838575363, 0.004687663167715073, 0.9773778319358826, 0.014062990434467793, 0.012567068450152874, 0.9676643013954163, 0.5114664435386658, 0.3439171016216278, 0.14109419286251068, 0.9178531169891357, 0.9330041408538818, 0.9323632717132568, 0.7388075590133667, 0.21343328058719635, 0.049253836274147034, 0.1426701545715332, 0.27107328176498413, 0.3091186583042145, 0.09511343389749527, 0.17595985531806946, 0.9518529772758484, 0.007676234003156424, 0.023028701543807983, 0.015352468006312847, 0.09063870459794998, 0.14728790521621704, 0.7590991854667664, 0.9530201554298401, 0.8045227527618408, 0.04853988438844681, 0.046474359929561615, 0.0030982906464487314, 0.002065527020022273, 0.09398148208856583, 0.964759886264801, 0.5192549228668213, 0.2940359115600586, 0.056304749101400375, 0.08132908493280411, 0.05004866421222687, 0.9514632225036621, 0.9720885157585144, 0.9693394899368286, 0.9565792679786682, 0.9671310186386108, 0.9665409922599792, 0.005842981394380331, 0.7206343412399292, 0.08764471858739853, 0.033110227435827255, 0.06427279114723206, 0.08959238231182098, 0.9694416522979736, 0.035691458731889725, 0.9636693596839905, 0.4024418592453003, 0.5185308456420898, 0.07739266753196716, 0.2898242771625519, 0.6144275069236755, 0.011592971161007881, 0.06955783069133759, 0.9772838950157166, 0.9387803077697754, 0.26979559659957886, 0.7087168097496033, 0.01610719971358776, 0.9623230695724487, 0.005935523193329573, 0.07478758692741394, 0.03680024296045303, 0.05223260447382927, 0.14720097184181213, 0.3941187262535095, 0.2884664237499237, 0.11639221012592316, 0.1829020380973816, 0.6983532309532166, 0.9577173590660095, 0.9382516741752625, 0.9562612175941467, 0.9630923271179199, 0.3974175453186035, 0.6002150177955627, 0.6169724464416504, 0.1909676492214203, 0.1909676492214203, 0.5932880640029907, 0.10986816138029099, 0.030213743448257446, 0.019226927310228348, 0.20874950289726257, 0.035707153379917145, 0.3476279675960541, 0.6506882309913635, 0.9735396504402161, 0.9795911908149719, 0.5733566880226135, 0.08440276235342026, 0.20955169200897217, 0.12805937230587006, 0.19239600002765656, 0.8016499876976013, 0.010853228159248829, 0.1410919576883316, 0.8356985449790955, 0.38516131043434143, 0.19907213747501373, 0.008655309677124023, 0.3678506910800934, 0.038948897272348404, 0.09649448096752167, 0.2291743904352188, 0.12061810493469238, 0.12865930795669556, 0.176906555891037, 0.24525681138038635, 0.9316931366920471, 0.9894697070121765, 0.9638561010360718, 0.03141843155026436, 0.11520091444253922, 0.848297655582428, 0.9790092706680298, 0.9837126731872559, 0.9528971314430237, 0.9571502208709717, 0.9817361831665039, 0.9501621723175049, 0.9694877862930298, 0.08929749578237534, 0.5513904094696045, 0.14304938912391663, 0.022541116923093796, 0.13524669408798218, 0.03901347145438194, 0.019073251634836197, 0.911256730556488, 0.0719413161277771, 0.9415541291236877, 0.9513024687767029, 0.9582720994949341, 0.9499922394752502, 0.020652005448937416, 0.9412968754768372, 0.11302381753921509, 0.8476786613464355, 0.9778530597686768, 0.9643115401268005, 0.09951399266719818, 0.30758872628211975, 0.1085607185959816, 0.41614943742752075, 0.06332708895206451, 0.036424461752176285, 0.0971318930387497, 0.10927338153123856, 0.7406306862831116, 0.9706202149391174, 0.954495906829834, 0.9500691294670105, 0.9668036103248596, 0.9527795314788818, 0.028872106224298477, 0.9767014980316162, 0.9857726693153381, 0.15766535699367523, 0.15766535699367523, 0.18230056762695312, 0.14781127870082855, 0.35474705696105957, 0.9579504132270813, 0.14919842779636383, 0.8355112075805664, 0.21501541137695312, 0.040678590536117554, 0.3079950511455536, 0.07554595172405243, 0.3544848561286926, 0.12286288291215897, 0.1894136220216751, 0.24572576582431793, 0.4402586817741394, 0.9706911444664001, 0.8574488759040833, 0.11872369050979614, 0.9795055389404297, 0.939293384552002, 0.038215480744838715, 0.9553869962692261, 0.7319362163543701, 0.022406211122870445, 0.08962484449148178, 0.15684346854686737, 0.7859721183776855, 0.016442932188510895, 0.11181193590164185, 0.0032885863911360502, 0.0032885863911360502, 0.08221466094255447, 0.9707987308502197, 0.9414042234420776, 0.050886716693639755, 0.9731861352920532, 0.9566448330879211, 0.941971480846405, 0.6794602870941162, 0.05928177013993263, 0.21888652443885803, 0.045601360499858856, 0.9712005257606506, 0.016484320163726807, 0.9725748300552368, 0.9243023991584778, 0.9434347748756409, 0.03369409963488579, 0.07123428583145142, 0.9260457158088684, 0.9833325147628784, 0.9654896855354309, 0.9233872890472412, 0.956855833530426, 0.280527263879776, 0.27727288007736206, 0.03970339521765709, 0.16792583465576172, 0.02928938902914524, 0.026685887947678566, 0.0872172936797142, 0.09177342057228088, 0.0006508753285743296, 0.9649134278297424, 0.09350984543561935, 0.5035145282745361, 0.3164948523044586, 0.07912371307611465, 0.9335134625434875, 0.9096190929412842, 0.15658119320869446, 0.8350996971130371, 0.013048432767391205, 0.9702991247177124, 0.9559314250946045, 0.9088680744171143, 0.0884721428155899, 0.2820049524307251, 0.13547296822071075, 0.23776888847351074, 0.0013823772314935923, 0.23776888847351074, 0.01935328170657158, 0.4693676233291626, 0.05215195566415787, 0.2824897766113281, 0.14776387810707092, 0.05215195566415787, 0.07262119650840759, 0.3910372257232666, 0.09496618062257767, 0.24020858108997345, 0.06703495234251022, 0.12848365306854248, 0.1439218372106552, 0.1847354918718338, 0.13425545394420624, 0.0010740435682237148, 0.08592348545789719, 0.0021480871364474297, 0.4478761851787567, 0.9330629110336304, 0.8451577425003052, 0.13344596326351166, 0.0074136643670499325, 0.04535635933279991, 0.006755202077329159, 0.5655069351196289, 0.2557326555252075, 0.0009650288848206401, 0.0810624286532402, 0.04439133033156395, 0.9302046895027161, 0.6287291646003723, 0.09526199847459793, 0.23148664832115173, 0.008573579601943493, 0.002857859944924712, 0.033341698348522186, 0.9541640281677246, 0.964383065700531, 0.7000706195831299, 0.29169610142707825, 0.9323266744613647, 0.013087272644042969, 0.04187927395105362, 0.13937945663928986, 0.09455554932355881, 0.008833909407258034, 0.49109992384910583, 0.0013087273109704256, 0.15933755040168762, 0.04973163828253746, 0.3251294791698456, 0.01548235584050417, 0.658000111579895, 0.9477053880691528, 0.039487723261117935, 0.9565560221672058, 0.9500014781951904, 0.8905102014541626, 0.07857443392276764, 0.9637889862060547, 0.2053874284029007, 0.7842065095901489, 0.03957747668027878, 0.930070698261261, 0.22254382073879242, 0.19911815226078033, 0.09370266646146774, 0.18154890835285187, 0.24011307954788208, 0.06442058086395264, 0.09115198254585266, 0.201416477560997, 0.26022422313690186, 0.13819816708564758, 0.136727973818779, 0.13966836035251617, 0.01029135286808014, 0.02352309226989746, 0.9392933249473572], \"Term\": [\"accessory\", \"acoustic\", \"across\", \"across\", \"across\", \"across\", \"add\", \"add\", \"air\", \"air\", \"air\", \"air\", \"air\", \"along\", \"along\", \"along\", \"along\", \"amphitheater\", \"angel\", \"animal\", \"animal\", \"animal\", \"animal\", \"area\", \"area\", \"area\", \"arm\", \"arm\", \"arm\", \"arm\", \"around\", \"around\", \"around\", \"around\", \"art\", \"artist\", \"asia\", \"attach\", \"attach\", \"axe\", \"baby\", \"baby\", \"baby\", \"backpack\", \"ball\", \"ball\", \"ball\", \"ball\", \"ball\", \"banana\", \"band\", \"band\", \"barking\", \"barrier\", \"basket\", \"basketball\", \"beach\", \"beach\", \"beach\", \"beach\", \"beach\", \"bead\", \"bear\", \"bee\", \"beer\", \"beg\", \"behind\", \"behind\", \"behind\", \"behind\", \"bench\", \"bench\", \"bench\", \"beside\", \"beside\", \"beside\", \"bicycle\", \"bicycle\", \"bicycle\", \"bike\", \"bike\", \"bike\", \"bike\", \"biker\", \"biker\", \"bikini\", \"bikini\", \"bird\", \"bird\", \"bird\", \"black\", \"black\", \"black\", \"black\", \"black\", \"black\", \"black\", \"blond\", \"blond\", \"blonde\", \"blonde\", \"blonde\", \"blooming\", \"blowing\", \"blue\", \"blue\", \"blue\", \"blue\", \"blue\", \"blue\", \"blue\", \"bmx\", \"board\", \"boil\", \"bottle\", \"bottle\", \"bottle\", \"bowl\", \"bowl\", \"bowl\", \"box\", \"box\", \"boxing\", \"boy\", \"boy\", \"boy\", \"boy\", \"boy\", \"boy\", \"boy\", \"boy\", \"branch\", \"bread\", \"bread\", \"bread\", \"bridge\", \"bridge\", \"broccoli\", \"brown\", \"brown\", \"brown\", \"brown\", \"brown\", \"brown\", \"brown\", \"brushing\", \"bubble\", \"bucket\", \"bucket\", \"bunny\", \"butter\", \"buttering\", \"calendar\", \"camera\", \"camera\", \"camera\", \"camera\", \"camera\", \"camera\", \"camera\", \"cap\", \"car\", \"car\", \"car\", \"car\", \"car\", \"carriage\", \"carrot\", \"carrot\", \"carry\", \"carry\", \"carry\", \"case\", \"case\", \"cat\", \"cat\", \"cat\", \"cat\", \"catch\", \"catch\", \"catch\", \"ceiling\", \"ceiling\", \"cement\", \"chap\", \"chase\", \"chase\", \"cheetah\", \"child\", \"child\", \"child\", \"child\", \"child\", \"child\", \"chili\", \"chimp\", \"chop\", \"chop\", \"chop\", \"chop\", \"cigarette\", \"circle\", \"climb\", \"climb\", \"climb\", \"climb\", \"climb\", \"climb\", \"clove\", \"clown\", \"clown\", \"coat\", \"coat\", \"coat\", \"coat\", \"collar\", \"colorful\", \"colorful\", \"colorful\", \"column\", \"comb\", \"compete\", \"competition\", \"container\", \"cook\", \"cooking\", \"cooking\", \"cooking\", \"corn\", \"cosmetic\", \"couple\", \"couple\", \"couple\", \"couple\", \"cover\", \"cover\", \"cover\", \"cover\", \"coverall\", \"cow\", \"crack\", \"cricket\", \"crowd\", \"crowd\", \"crowd\", \"crowd\", \"crowd\", \"crowd\", \"cupcake\", \"cut\", \"cut\", \"cut\", \"cut\", \"cut\", \"dance\", \"dance\", \"dance\", \"daughter\", \"deer\", \"dice\", \"difficulty\", \"dig\", \"dim\", \"dirt\", \"dirt\", \"dirt\", \"dirt\", \"distance\", \"distance\", \"dive\", \"doctor\", \"dog\", \"dog\", \"dog\", \"dog\", \"dog\", \"dog\", \"dog\", \"door\", \"draw\", \"draw\", \"draw\", \"drawer\", \"dress\", \"dress\", \"dress\", \"dress\", \"dress\", \"dress\", \"drilling\", \"drinking\", \"drinking\", \"drive\", \"drive\", \"driven\", \"drop\", \"drum\", \"drunk\", \"dunk\", \"dyed\", \"eastern\", \"eat\", \"eat\", \"eat\", \"eat\", \"eat\", \"eat\", \"edge\", \"edge\", \"egg\", \"egg\", \"electronic\", \"elegant\", \"elephant\", \"email\", \"end\", \"erase\", \"event\", \"excitedly\", \"exercise\", \"eyebrow\", \"eyebrow\", \"face\", \"face\", \"face\", \"face\", \"face\", \"face\", \"face\", \"fan\", \"fearful\", \"feed\", \"field\", \"field\", \"field\", \"field\", \"field\", \"field\", \"fight\", \"fight\", \"fight\", \"finger\", \"fish\", \"fish\", \"fish\", \"fish\", \"fishing\", \"fist\", \"flap\", \"flute\", \"flute\", \"flute\", \"fly\", \"fly\", \"fly\", \"food\", \"food\", \"food\", \"football\", \"football\", \"football\", \"foreground\", \"four\", \"four\", \"four\", \"four\", \"four\", \"four\", \"frisbee\", \"front\", \"front\", \"front\", \"front\", \"front\", \"front\", \"front\", \"fry\", \"full\", \"full\", \"full\", \"fur\", \"fur\", \"game\", \"game\", \"game\", \"garage\", \"garden\", \"garlic\", \"garlic\", \"gift\", \"girl\", \"girl\", \"girl\", \"girl\", \"girl\", \"girl\", \"girl\", \"girl\", \"glove\", \"go\", \"go\", \"goal\", \"golden\", \"grass\", \"grass\", \"grass\", \"grass\", \"grass\", \"grassy\", \"grazing\", \"green\", \"green\", \"green\", \"green\", \"green\", \"green\", \"green\", \"green\", \"green\", \"group\", \"group\", \"group\", \"group\", \"group\", \"guinea\", \"guitar\", \"gun\", \"guy\", \"gym\", \"hair\", \"hair\", \"hair\", \"hair\", \"hair\", \"hair\", \"half\", \"hand\", \"hand\", \"hand\", \"hand\", \"hand\", \"hand\", \"hard\", \"harp\", \"hat\", \"hat\", \"hat\", \"hat\", \"hat\", \"hay\", \"headband\", \"headphone\", \"helmet\", \"helmet\", \"help\", \"high\", \"high\", \"high\", \"hike\", \"hike\", \"hiker\", \"hill\", \"hill\", \"hill\", \"hill\", \"hill\", \"hillside\", \"hockey\", \"hold\", \"hold\", \"hold\", \"hold\", \"hold\", \"hold\", \"hole\", \"horse\", \"horse\", \"horse\", \"horse\", \"hose\", \"hurdle\", \"inline\", \"instrument\", \"jacket\", \"jacket\", \"jacket\", \"jacket\", \"jumping\", \"jumping\", \"jumping\", \"jumping\", \"jumping\", \"jumping\", \"kangaroo\", \"kart\", \"keyboard\", \"keyboard\", \"kick\", \"kick\", \"kick\", \"kick\", \"kid\", \"kid\", \"kid\", \"kid\", \"kid\", \"kid\", \"kiss\", \"kitten\", \"kitten\", \"lady\", \"lady\", \"lady\", \"lady\", \"lady\", \"language\", \"large\", \"large\", \"large\", \"large\", \"large\", \"large\", \"laugh\", \"laugh\", \"laugh\", \"laugh\", \"lead\", \"leaf\", \"leaf\", \"leaf\", \"leaf\", \"leap\", \"leap\", \"leap\", \"leash\", \"leash\", \"leave\", \"leave\", \"left\", \"lemon\", \"lie\", \"lie\", \"lie\", \"little\", \"little\", \"little\", \"little\", \"little\", \"look\", \"look\", \"look\", \"look\", \"look\", \"look\", \"look\", \"look\", \"low\", \"machine\", \"machine\", \"machine\", \"makeup\", \"man\", \"man\", \"man\", \"man\", \"man\", \"man\", \"man\", \"man\", \"man\", \"many\", \"martial\", \"mask\", \"mask\", \"mat\", \"meat\", \"meat\", \"meat\", \"mechanical\", \"men\", \"men\", \"men\", \"men\", \"men\", \"microphone\", \"mid\", \"miss\", \"mix\", \"mix\", \"mixer\", \"mixture\", \"money\", \"monkey\", \"monkey\", \"motocross\", \"motorbike\", \"motorcycle\", \"motorcycle\", \"mouse\", \"mouth\", \"mouth\", \"mouth\", \"mouth\", \"mow\", \"mushroom\", \"mushroom\", \"muzzle\", \"muzzle\", \"near\", \"near\", \"near\", \"near\", \"near\", \"near\", \"near\", \"near\", \"near\", \"newspaper\", \"next\", \"next\", \"next\", \"next\", \"next\", \"noodle\", \"number\", \"obstacle\", \"octopus\", \"oil\", \"oil\", \"okra\", \"one\", \"one\", \"one\", \"one\", \"one\", \"one\", \"one\", \"onion\", \"onion\", \"onto\", \"onto\", \"package\", \"painting\", \"pair\", \"pajama\", \"pan\", \"pan\", \"pan\", \"panda\", \"panda\", \"paper\", \"paper\", \"parade\", \"parrot\", \"passionately\", \"pattern\", \"peel\", \"pencil\", \"pencil\", \"pencil\", \"people\", \"people\", \"people\", \"people\", \"people\", \"people\", \"people\", \"people\", \"pepper\", \"perch\", \"perch\", \"perform\", \"perform\", \"perform\", \"person\", \"person\", \"person\", \"person\", \"person\", \"person\", \"person\", \"person\", \"pet\", \"phone\", \"phone\", \"phone\", \"photographer\", \"piano\", \"pick\", \"piece\", \"piece\", \"piece\", \"pig\", \"pink\", \"pink\", \"pink\", \"pink\", \"pink\", \"pipe\", \"pizza\", \"play\", \"play\", \"play\", \"play\", \"play\", \"play\", \"played\", \"played\", \"played\", \"player\", \"player\", \"player\", \"player\", \"pole\", \"pole\", \"police\", \"pool\", \"pool\", \"pool\", \"pool\", \"pool\", \"pork\", \"pose\", \"pose\", \"pose\", \"post\", \"pot\", \"pot\", \"potato\", \"pour\", \"pour\", \"practice\", \"practice\", \"practice\", \"prey\", \"purple\", \"purple\", \"put\", \"put\", \"put\", \"put\", \"put\", \"put\", \"put\", \"pyramid\", \"rabbit\", \"race\", \"race\", \"race\", \"race\", \"race\", \"race\", \"race\", \"raft\", \"rail\", \"rain\", \"rain\", \"raise\", \"raw\", \"red\", \"red\", \"red\", \"red\", \"red\", \"red\", \"red\", \"remove\", \"remove\", \"remove\", \"rhino\", \"rhino\", \"rid\", \"rid\", \"rid\", \"rid\", \"ridden\", \"ridden\", \"rider\", \"rider\", \"rider\", \"rifle\", \"ring\", \"rinse\", \"river\", \"river\", \"river\", \"road\", \"road\", \"road\", \"road\", \"road\", \"rock\", \"rock\", \"rock\", \"rock\", \"rope\", \"rope\", \"rope\", \"rugby\", \"run\", \"run\", \"run\", \"run\", \"run\", \"run\", \"saddle\", \"sand\", \"sand\", \"sand\", \"sand\", \"sand\", \"saw\", \"scissors\", \"sea\", \"shade\", \"shallow\", \"shiny\", \"shirt\", \"shirt\", \"shirt\", \"shirt\", \"shirt\", \"shirt\", \"shoe\", \"shrimp\", \"shrimp\", \"sidewalk\", \"sidewalk\", \"sidewalk\", \"sign\", \"sign\", \"sign\", \"sign\", \"silencer\", \"silent\", \"sing\", \"sing\", \"sing\", \"singer\", \"sit\", \"sit\", \"sit\", \"sit\", \"sit\", \"sit\", \"sit\", \"skate\", \"skate\", \"skate\", \"skiing\", \"skin\", \"sled\", \"sleep\", \"slice\", \"slice\", \"slide\", \"slide\", \"slide\", \"small\", \"small\", \"small\", \"small\", \"small\", \"small\", \"smile\", \"smile\", \"smoking\", \"snake\", \"snow\", \"snow\", \"snow\", \"snow\", \"snowboarder\", \"snowboarder\", \"snowy\", \"snowy\", \"snowy\", \"soccer\", \"soccer\", \"soccer\", \"soccer\", \"soccer\", \"someone\", \"someone\", \"someone\", \"someone\", \"someone\", \"someone\", \"song\", \"speak\", \"spit\", \"splash\", \"splash\", \"splash\", \"sport\", \"spot\", \"spray\", \"squeeze\", \"squirrel\", \"squirt\", \"stair\", \"stand\", \"stand\", \"stand\", \"stand\", \"stand\", \"stand\", \"stand\", \"star\", \"star\", \"steadily\", \"steak\", \"steep\", \"still\", \"still\", \"stop\", \"store\", \"store\", \"stove\", \"straw\", \"street\", \"street\", \"street\", \"street\", \"street\", \"strip\", \"strip\", \"strip\", \"strip\", \"strum\", \"stuck\", \"style\", \"suitcase\", \"sunglass\", \"sunglass\", \"surf\", \"surfer\", \"swim\", \"swim\", \"swim\", \"swim\", \"swim\", \"swimmer\", \"swing\", \"swing\", \"take\", \"take\", \"take\", \"take\", \"take\", \"talk\", \"talk\", \"talk\", \"talk\", \"tambourine\", \"tan\", \"tan\", \"team\", \"tease\", \"teenage\", \"teenage\", \"tennis\", \"tennis\", \"tennis\", \"tennis\", \"three\", \"three\", \"three\", \"three\", \"three\", \"three\", \"tofu\", \"tomato\", \"tomato\", \"tongue\", \"tortilla\", \"toss\", \"toy\", \"toy\", \"toy\", \"toy\", \"train\", \"trampoline\", \"trampoline\", \"travel\", \"tray\", \"tray\", \"trick\", \"trick\", \"trot\", \"trumpet\", \"try\", \"tunnel\", \"two\", \"two\", \"two\", \"two\", \"two\", \"two\", \"two\", \"two\", \"two\", \"type\", \"uniform\", \"uniform\", \"uniform\", \"uniform\", \"upside\", \"various\", \"vegetable\", \"vegetable\", \"vegetable\", \"vend\", \"vest\", \"village\", \"walk\", \"walk\", \"walk\", \"walk\", \"walk\", \"walk\", \"walk\", \"wall\", \"wall\", \"wall\", \"wall\", \"wall\", \"watch\", \"watch\", \"watch\", \"watch\", \"watch\", \"watch\", \"water\", \"water\", \"water\", \"water\", \"water\", \"water\", \"water\", \"watermelon\", \"wave\", \"wave\", \"wave\", \"wear\", \"wear\", \"wear\", \"wear\", \"wear\", \"wear\", \"wear\", \"wetsuit\", \"white\", \"white\", \"white\", \"white\", \"white\", \"white\", \"wild\", \"wilderness\", \"window\", \"window\", \"wing\", \"woman\", \"woman\", \"woman\", \"woman\", \"woman\", \"woman\", \"woman\", \"woman\", \"woman\", \"wood\", \"wood\", \"wood\", \"wooded\", \"wooded\", \"work\", \"worker\", \"worn\", \"worn\", \"wrestling\", \"write\", \"write\", \"yard\", \"yard\", \"yellow\", \"yellow\", \"yellow\", \"yellow\", \"yellow\", \"yellow\", \"young\", \"young\", \"young\", \"young\", \"young\", \"young\", \"young\", \"young\", \"zoo\"]}, \"R\": 30, \"lambda.step\": 0.01, \"plot.opts\": {\"xlab\": \"PC1\", \"ylab\": \"PC2\"}, \"topic.order\": [2, 6, 9, 8, 1, 4, 3, 7, 5]};\n",
       "\n",
       "function LDAvis_load_lib(url, callback){\n",
       "  var s = document.createElement('script');\n",
       "  s.src = url;\n",
       "  s.async = true;\n",
       "  s.onreadystatechange = s.onload = callback;\n",
       "  s.onerror = function(){console.warn(\"failed to load library \" + url);};\n",
       "  document.getElementsByTagName(\"head\")[0].appendChild(s);\n",
       "}\n",
       "\n",
       "if(typeof(LDAvis) !== \"undefined\"){\n",
       "   // already loaded: just create the visualization\n",
       "   !function(LDAvis){\n",
       "       new LDAvis(\"#\" + \"ldavis_el964420738495199441444504576\", ldavis_el964420738495199441444504576_data);\n",
       "   }(LDAvis);\n",
       "}else if(typeof define === \"function\" && define.amd){\n",
       "   // require.js is available: use it to load d3/LDAvis\n",
       "   require.config({paths: {d3: \"https://cdnjs.cloudflare.com/ajax/libs/d3/3.5.5/d3.min\"}});\n",
       "   require([\"d3\"], function(d3){\n",
       "      window.d3 = d3;\n",
       "      LDAvis_load_lib(\"https://cdn.rawgit.com/bmabey/pyLDAvis/files/ldavis.v1.0.0.js\", function(){\n",
       "        new LDAvis(\"#\" + \"ldavis_el964420738495199441444504576\", ldavis_el964420738495199441444504576_data);\n",
       "      });\n",
       "    });\n",
       "}else{\n",
       "    // require.js not available: dynamically load d3 & LDAvis\n",
       "    LDAvis_load_lib(\"https://cdnjs.cloudflare.com/ajax/libs/d3/3.5.5/d3.min.js\", function(){\n",
       "         LDAvis_load_lib(\"https://cdn.rawgit.com/bmabey/pyLDAvis/files/ldavis.v1.0.0.js\", function(){\n",
       "                 new LDAvis(\"#\" + \"ldavis_el964420738495199441444504576\", ldavis_el964420738495199441444504576_data);\n",
       "            })\n",
       "         });\n",
       "}\n",
       "</script>"
      ],
      "text/plain": [
       "PreparedData(topic_coordinates=            Freq  cluster  topics         x         y\n",
       "topic                                                \n",
       "1      15.778187        1       1 -0.284568 -0.024975\n",
       "5      11.819218        1       2 -0.075340 -0.143194\n",
       "8      11.377582        1       3  0.030028 -0.173831\n",
       "7      11.224972        1       4  0.020943 -0.109215\n",
       "0      10.697273        1       5  0.021409  0.244245\n",
       "3      10.433746        1       6  0.202806 -0.048878\n",
       "2       9.993098        1       7  0.001911  0.085735\n",
       "6       9.687490        1       8  0.184785  0.040030\n",
       "4       8.988430        1       9 -0.101974  0.130084, topic_info=     Category         Freq         Term        Total  loglift  logprob\n",
       "term                                                                  \n",
       "16    Default  2754.000000          dog  2754.000000  30.0000  30.0000\n",
       "5     Default  2295.000000         play  2295.000000  29.0000  29.0000\n",
       "48    Default  3056.000000        woman  3056.000000  28.0000  28.0000\n",
       "3     Default  5357.000000          man  5357.000000  27.0000  27.0000\n",
       "28    Default   853.000000          rid   853.000000  26.0000  26.0000\n",
       "166   Default   700.000000       guitar   700.000000  25.0000  25.0000\n",
       "70    Default  1206.000000         girl  1206.000000  24.0000  24.0000\n",
       "223   Default   521.000000          men   521.000000  23.0000  23.0000\n",
       "84    Default   968.000000          run   968.000000  22.0000  22.0000\n",
       "67    Default  1036.000000         wear  1036.000000  21.0000  21.0000\n",
       "503   Default   611.000000        slice   611.000000  20.0000  20.0000\n",
       "140   Default   418.000000        dance   418.000000  19.0000  19.0000\n",
       "128   Default  1049.000000        white  1049.000000  18.0000  18.0000\n",
       "6     Default  1153.000000        stand  1153.000000  17.0000  17.0000\n",
       "22    Default   745.000000        brown   745.000000  16.0000  16.0000\n",
       "163   Default   931.000000        water   931.000000  15.0000  15.0000\n",
       "158   Default   379.000000        horse   379.000000  14.0000  14.0000\n",
       "217   Default   411.000000         bike   411.000000  13.0000  13.0000\n",
       "44    Default   996.000000       people   996.000000  12.0000  12.0000\n",
       "10    Default  1272.000000          boy  1272.000000  11.0000  11.0000\n",
       "248   Default   341.000000          cat   341.000000  10.0000  10.0000\n",
       "53    Default   842.000000          sit   842.000000   9.0000   9.0000\n",
       "31    Default  1112.000000        black  1112.000000   8.0000   8.0000\n",
       "35    Default   612.000000         ball   612.000000   7.0000   7.0000\n",
       "504   Default   283.000000       potato   283.000000   6.0000   6.0000\n",
       "30    Default  1222.000000       person  1222.000000   5.0000   5.0000\n",
       "50    Default   774.000000      jumping   774.000000   4.0000   4.0000\n",
       "55    Default   513.000000        shirt   513.000000   3.0000   3.0000\n",
       "8     Default   781.000000        child   781.000000   2.0000   2.0000\n",
       "97    Default   573.000000        grass   573.000000   1.0000   1.0000\n",
       "...       ...          ...          ...          ...      ...      ...\n",
       "224    Topic9    76.829979        snowy    92.138489   2.2275  -4.7327\n",
       "232    Topic9   139.812714      perform   190.489471   2.0999  -4.1340\n",
       "809    Topic9    21.122343       silent    22.369452   2.3519  -6.0240\n",
       "470    Topic9    49.675236  snowboarder    62.371361   2.1816  -5.1688\n",
       "604    Topic9    86.858841          pot   126.983589   2.0295  -4.6100\n",
       "163    Topic9   416.666473        water   931.060913   1.6052  -3.0420\n",
       "76     Topic9    94.875664         pool   145.552765   1.9813  -4.5218\n",
       "1004   Topic9    60.808254        strip    82.362236   2.1058  -4.9666\n",
       "495    Topic9    45.951046          add    58.260193   2.1719  -5.2468\n",
       "153    Topic9    45.714069         high    58.008286   2.1711  -5.2519\n",
       "361    Topic9    97.164803         hill   161.141815   1.9034  -4.4979\n",
       "321    Topic9    85.670227       across   143.740997   1.8917  -4.6238\n",
       "207    Topic9    53.698986       pencil    75.690125   2.0660  -5.0909\n",
       "50     Topic9   266.521179      jumping   774.738525   1.3422  -3.4889\n",
       "469    Topic9    53.506229         leap    79.844177   2.0090  -5.0945\n",
       "768    Topic9    42.579357        rhino    56.780476   2.1214  -5.3230\n",
       "3      Topic9   614.231445          man  5357.038086   0.2434  -2.6540\n",
       "72     Topic9    97.630272          air   260.730377   1.4269  -4.4931\n",
       "2      Topic9   109.851631          kid   346.473480   1.2606  -4.3752\n",
       "211    Topic9    94.853912        green   400.937958   0.9678  -4.5220\n",
       "306    Topic9    71.947823         swim   202.961517   1.3722  -4.7984\n",
       "16     Topic9   181.583801          dog  2754.141846  -0.3099  -3.8726\n",
       "602    Topic9    52.040871          pan    86.542099   1.9006  -5.1223\n",
       "27     Topic9    88.322449          one   477.354370   0.7220  -4.5933\n",
       "48     Topic9   152.345444        woman  3056.404541  -0.5896  -4.0482\n",
       "10     Topic9   103.298180          boy  1272.708374  -0.1021  -4.4367\n",
       "84     Topic9    91.478111          run   968.275879   0.0498  -4.5582\n",
       "97     Topic9    78.916283        grass   573.251892   0.4263  -4.7059\n",
       "30     Topic9    82.666359       person  1222.897217  -0.2849  -4.6595\n",
       "643    Topic9    61.246384      someone   248.718887   1.0078  -4.9594\n",
       "\n",
       "[607 rows x 6 columns], token_table=      Topic      Freq          Term\n",
       "term                               \n",
       "1500      7  0.941575     accessory\n",
       "688       5  0.957890      acoustic\n",
       "321       2  0.069570        across\n",
       "321       4  0.264364        across\n",
       "321       7  0.062613        across\n",
       "321       9  0.598298        across\n",
       "495       3  0.205973           add\n",
       "495       9  0.789561           add\n",
       "72        1  0.264641           air\n",
       "72        4  0.015342           air\n",
       "72        5  0.318337           air\n",
       "72        6  0.023012           air\n",
       "72        9  0.375867           air\n",
       "129       2  0.242067         along\n",
       "129       4  0.601264         along\n",
       "129       7  0.148364         along\n",
       "129       8  0.007809         along\n",
       "446       3  0.910380  amphitheater\n",
       "56        1  0.982629         angel\n",
       "19        2  0.847116        animal\n",
       "19        6  0.005724        animal\n",
       "19        7  0.017171        animal\n",
       "19        9  0.125923        animal\n",
       "213       1  0.640739          area\n",
       "213       4  0.266281          area\n",
       "213       8  0.083213          area\n",
       "399       1  0.019863           arm\n",
       "399       3  0.566087           arm\n",
       "399       7  0.278078           arm\n",
       "399       9  0.139039           arm\n",
       "...     ...       ...           ...\n",
       "48        9  0.049732         woman\n",
       "195       2  0.325129          wood\n",
       "195       5  0.015482          wood\n",
       "195       7  0.658000          wood\n",
       "508       4  0.947705        wooded\n",
       "508       8  0.039488        wooded\n",
       "952       9  0.956556          work\n",
       "1519      8  0.950001        worker\n",
       "258       3  0.890510          worn\n",
       "258       5  0.078574          worn\n",
       "1560      1  0.963789     wrestling\n",
       "216       3  0.205387         write\n",
       "216       8  0.784207         write\n",
       "7         7  0.039577          yard\n",
       "7         9  0.930071          yard\n",
       "1117      1  0.222544        yellow\n",
       "1117      2  0.199118        yellow\n",
       "1117      3  0.093703        yellow\n",
       "1117      4  0.181549        yellow\n",
       "1117      6  0.240113        yellow\n",
       "1117      9  0.064421        yellow\n",
       "14        1  0.091152         young\n",
       "14        2  0.201416         young\n",
       "14        3  0.260224         young\n",
       "14        4  0.138198         young\n",
       "14        5  0.136728         young\n",
       "14        6  0.139668         young\n",
       "14        7  0.010291         young\n",
       "14        9  0.023523         young\n",
       "1014      8  0.939293           zoo\n",
       "\n",
       "[1101 rows x 3 columns], R=30, lambda_step=0.01, plot_opts={'xlab': 'PC1', 'ylab': 'PC2'}, topic_order=[2, 6, 9, 8, 1, 4, 3, 7, 5])"
      ]
     },
     "execution_count": 196,
     "metadata": {},
     "output_type": "execute_result"
    }
   ],
   "source": [
    "pyLDAvis.enable_notebook()\n",
    "vis = pyLDAvis.gensim.prepare(model, corpus, dictionary)\n",
    "vis"
   ]
  },
  {
   "cell_type": "code",
   "execution_count": 197,
   "metadata": {},
   "outputs": [],
   "source": [
    "def format_topics_sentences(ldamodel, corpus):\n",
    "    # Init output\n",
    "    sent_topics_df = pd.DataFrame()\n",
    "\n",
    "    # Get main topic in each document\n",
    "    \n",
    "    for i, row in enumerate(ldamodel[corpus]):\n",
    "        row = sorted(row, key=lambda x: (x[1]), reverse=True)\n",
    "        \n",
    "        # Get the Dominant topic, Perc Contribution and Keywords for each document\n",
    "        \n",
    "        for j, (topic_num, prop_topic) in enumerate(row):\n",
    "            if j == 0:  # => dominant topic\n",
    "                wp = ldamodel.show_topic(topic_num)\n",
    "                sent_topics_df = sent_topics_df.append(pd.Series([int(topic_num), round(prop_topic,4)]), ignore_index=True)\n",
    "            else:\n",
    "                break\n",
    "    sent_topics_df.columns = ['Dominant_Topic', 'Perc_Contribution']\n",
    "\n",
    "    return sent_topics_df"
   ]
  },
  {
   "cell_type": "code",
   "execution_count": 198,
   "metadata": {},
   "outputs": [],
   "source": [
    "dominant_topic = format_topics_sentences(model, corpus)"
   ]
  },
  {
   "cell_type": "code",
   "execution_count": 199,
   "metadata": {},
   "outputs": [],
   "source": [
    "dominant_topic_1=dominant_topic.loc[:9926,:].reset_index().drop(\"index\",axis=1)\n",
    "dominant_topic_1.columns = [\"1_\"+x for x in dominant_topic_1.columns]\n",
    "dominant_topic_2=dominant_topic.loc[9927:,:].reset_index().drop(\"index\",axis=1)\n",
    "dominant_topic_2.columns = [\"2_\"+x for x in dominant_topic_2.columns]"
   ]
  },
  {
   "cell_type": "code",
   "execution_count": 200,
   "metadata": {},
   "outputs": [],
   "source": [
    "dominant_topic_all = pd.concat([sick_all[['sent_1','sent_2']],dominant_topic_1,dominant_topic_2],axis=1,ignore_index=True)\n",
    "dominant_topic_all.columns = list(sick_all[['sent_1','sent_2']].columns) + list(dominant_topic_1.columns) + list(dominant_topic_2.columns)"
   ]
  },
  {
   "cell_type": "code",
   "execution_count": 236,
   "metadata": {},
   "outputs": [],
   "source": [
    "lda_sim=[]\n",
    "for i in range(sick_all.shape[0]):\n",
    "    vec_bow1 = dictionary.doc2bow(sick_all['sent_1_clean_token'][i])\n",
    "    vec_bow2 = dictionary.doc2bow(sick_all['sent_2_clean_token'][i])\n",
    "    lda_sim.append(gensim.matutils.cossim(vec_bow1,vec_bow2))"
   ]
  },
  {
   "cell_type": "code",
   "execution_count": 237,
   "metadata": {},
   "outputs": [
    {
     "data": {
      "text/plain": [
       "0.6316308827239399"
      ]
     },
     "execution_count": 237,
     "metadata": {},
     "output_type": "execute_result"
    }
   ],
   "source": [
    "x= np.corrcoef(lda_sim,scaled_sim.values)\n",
    "sim_lda = x.diagonal(1)[0]\n",
    "sim_lda"
   ]
  },
  {
   "cell_type": "markdown",
   "metadata": {},
   "source": [
    "# Results"
   ]
  },
  {
   "cell_type": "markdown",
   "metadata": {},
   "source": [
    "It looks like Infersent sentence encoder is providing the best performance as it is able to undersatnd the overall meaning and structure of the sentence well. Below is the summary of the results:\n",
    "\n",
    "\n",
    "1. Count Vectorizer + Cosine Similarity: **Correlation Score: 0.6328**\n",
    "2. TF-IDF Vectorizer + Cosine Similarity: **Correlation Score: 0.6251**\n",
    "3. Average Word2Vec + Cosine Similarity: **Correlation Score: 0.7068**\n",
    "4. Word2Vec + Word Mover Distance: **Correlation Score: 0.6081**\n",
    "5. Infersent algorithm for sentence encoding: **Correlation Score: 0.7453**\n",
    "6. Topic Modeling: **Correlation Score: 0.6316**"
   ]
  }
 ],
 "metadata": {
  "kernelspec": {
   "display_name": "Python 3",
   "language": "python",
   "name": "python3"
  },
  "language_info": {
   "codemirror_mode": {
    "name": "ipython",
    "version": 3
   },
   "file_extension": ".py",
   "mimetype": "text/x-python",
   "name": "python",
   "nbconvert_exporter": "python",
   "pygments_lexer": "ipython3",
   "version": "3.6.4"
  }
 },
 "nbformat": 4,
 "nbformat_minor": 2
}
