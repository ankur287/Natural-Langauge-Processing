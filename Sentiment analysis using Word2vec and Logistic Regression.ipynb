{
 "cells": [
  {
   "cell_type": "code",
   "execution_count": 1,
   "metadata": {},
   "outputs": [],
   "source": [
    "import pandas as pd\n",
    "import numpy as np\n",
    "from bs4 import BeautifulSoup\n",
    "\n",
    "from nltk.corpus import stopwords\n",
    "import re"
   ]
  },
  {
   "cell_type": "code",
   "execution_count": 3,
   "metadata": {},
   "outputs": [],
   "source": [
    "train = pd.read_csv(\"labeledTrainData.tsv\", header=0,\\\n",
    "                    delimiter=\"\\t\", quoting=3)\n",
    "\n",
    "test = pd.read_csv(\"testData.tsv\",header=0,\\\n",
    "                    delimiter=\"\\t\", quoting=3)"
   ]
  },
  {
   "cell_type": "code",
   "execution_count": 4,
   "metadata": {},
   "outputs": [],
   "source": [
    "def review_word_list(review):\n",
    "    review_text=BeautifulSoup(review,'lxml').get_text()\n",
    "    review_text = re.sub(\"[^a-zA-Z]\",\" \",review_text)\n",
    "    words= review_text.lower().split()\n",
    "    words= [w for w in words if not w in set(stopwords.words('english'))]\n",
    "    return words\n"
   ]
  },
  {
   "cell_type": "code",
   "execution_count": 5,
   "metadata": {},
   "outputs": [],
   "source": [
    "import nltk.data\n",
    "tokenizer= nltk.data.load('tokenizers/punkt/english.pickle')"
   ]
  },
  {
   "cell_type": "code",
   "execution_count": 9,
   "metadata": {},
   "outputs": [],
   "source": [
    "def review_sentence(review, tokenizer):\n",
    "    raw_sentences = tokenizer.tokenize(review.strip())\n",
    "    sentences=[]\n",
    "    for raw_sentence in raw_sentences:\n",
    "        if len(raw_sentence)>0:\n",
    "            a=review_word_list(raw_sentence)\n",
    "            sentences.append(a)\n",
    "    \n",
    "    return sentences"
   ]
  },
  {
   "cell_type": "code",
   "execution_count": 12,
   "metadata": {
    "scrolled": true
   },
   "outputs": [
    {
     "name": "stdout",
     "output_type": "stream",
     "text": [
      "0 out of  25000\n"
     ]
    },
    {
     "name": "stderr",
     "output_type": "stream",
     "text": [
      "C:\\Users\\tomar\\Anaconda3\\lib\\site-packages\\bs4\\__init__.py:219: UserWarning: \"b'.'\" looks like a filename, not markup. You should probably open this file and pass the filehandle into Beautiful Soup.\n",
      "  ' Beautiful Soup.' % markup)\n"
     ]
    },
    {
     "name": "stdout",
     "output_type": "stream",
     "text": [
      "1000 out of  25000\n"
     ]
    },
    {
     "name": "stderr",
     "output_type": "stream",
     "text": [
      "C:\\Users\\tomar\\Anaconda3\\lib\\site-packages\\bs4\\__init__.py:219: UserWarning: \"b'...'\" looks like a filename, not markup. You should probably open this file and pass the filehandle into Beautiful Soup.\n",
      "  ' Beautiful Soup.' % markup)\n",
      "C:\\Users\\tomar\\Anaconda3\\lib\\site-packages\\bs4\\__init__.py:282: UserWarning: \"http://www.happierabroad.com\"\" looks like a URL. Beautiful Soup is not an HTTP client. You should probably use an HTTP client like requests to get the document behind the URL, and feed that document to Beautiful Soup.\n",
      "  ' that document to Beautiful Soup.' % decoded_markup\n"
     ]
    },
    {
     "name": "stdout",
     "output_type": "stream",
     "text": [
      "2000 out of  25000\n",
      "3000 out of  25000\n",
      "4000 out of  25000\n",
      "5000 out of  25000\n",
      "6000 out of  25000\n",
      "7000 out of  25000\n",
      "8000 out of  25000\n",
      "9000 out of  25000\n",
      "10000 out of  25000\n",
      "11000 out of  25000\n",
      "12000 out of  25000\n",
      "13000 out of  25000\n",
      "14000 out of  25000\n",
      "15000 out of  25000\n",
      "16000 out of  25000\n",
      "17000 out of  25000\n",
      "18000 out of  25000\n",
      "19000 out of  25000\n",
      "20000 out of  25000\n",
      "21000 out of  25000\n",
      "22000 out of  25000\n",
      "23000 out of  25000\n",
      "24000 out of  25000\n"
     ]
    }
   ],
   "source": [
    "sentences=[]\n",
    "i=0\n",
    "for review in train['review']:\n",
    "    if i%1000==0:\n",
    "        print (i , \"out of \", len(train['review']))\n",
    "    \n",
    "    sentences+=review_sentence(review,tokenizer)\n",
    "    i=i+1"
   ]
  },
  {
   "cell_type": "code",
   "execution_count": 13,
   "metadata": {},
   "outputs": [
    {
     "name": "stderr",
     "output_type": "stream",
     "text": [
      "C:\\Users\\tomar\\Anaconda3\\lib\\site-packages\\gensim\\utils.py:1209: UserWarning: detected Windows; aliasing chunkize to chunkize_serial\n",
      "  warnings.warn(\"detected Windows; aliasing chunkize to chunkize_serial\")\n"
     ]
    },
    {
     "name": "stdout",
     "output_type": "stream",
     "text": [
      "Training model....\n"
     ]
    }
   ],
   "source": [
    "num_features = 300  # Word vector dimensionality\n",
    "min_word_count = 40 # Minimum word count\n",
    "num_workers = 4     # Number of parallel threads\n",
    "context = 10        # Context window size\n",
    "downsampling = 1e-3 # (0.001) Downsample setting for frequent words\n",
    "\n",
    "from gensim.models import word2vec\n",
    "print(\"Training model....\")\n",
    "model = word2vec.Word2Vec(sentences,\\\n",
    "                          workers=num_workers,\\\n",
    "                          size=num_features,\\\n",
    "                          min_count=min_word_count,\\\n",
    "                          window=context,\n",
    "                          sample=downsampling)"
   ]
  },
  {
   "cell_type": "code",
   "execution_count": 117,
   "metadata": {
    "collapsed": true
   },
   "outputs": [],
   "source": [
    "model_name = \"300features_40minwords_10context\"\n",
    "model.save(model_name)"
   ]
  },
  {
   "cell_type": "code",
   "execution_count": 14,
   "metadata": {},
   "outputs": [
    {
     "name": "stderr",
     "output_type": "stream",
     "text": [
      "C:\\Users\\tomar\\Anaconda3\\lib\\site-packages\\gensim\\matutils.py:737: FutureWarning: Conversion of the second argument of issubdtype from `int` to `np.signedinteger` is deprecated. In future, it will be treated as `np.int32 == np.dtype(int).type`.\n",
      "  if np.issubdtype(vec.dtype, np.int):\n"
     ]
    },
    {
     "data": {
      "text/plain": [
       "'planet'"
      ]
     },
     "execution_count": 14,
     "metadata": {},
     "output_type": "execute_result"
    }
   ],
   "source": [
    "model.wv.doesnt_match(\"man woman dog child planet\".split())"
   ]
  },
  {
   "cell_type": "code",
   "execution_count": 15,
   "metadata": {},
   "outputs": [
    {
     "name": "stderr",
     "output_type": "stream",
     "text": [
      "C:\\Users\\tomar\\Anaconda3\\lib\\site-packages\\gensim\\matutils.py:737: FutureWarning: Conversion of the second argument of issubdtype from `int` to `np.signedinteger` is deprecated. In future, it will be treated as `np.int32 == np.dtype(int).type`.\n",
      "  if np.issubdtype(vec.dtype, np.int):\n"
     ]
    },
    {
     "data": {
      "text/plain": [
       "'berlin'"
      ]
     },
     "execution_count": 15,
     "metadata": {},
     "output_type": "execute_result"
    }
   ],
   "source": [
    "model.wv.doesnt_match(\"france england germany berlin\".split())"
   ]
  },
  {
   "cell_type": "code",
   "execution_count": 16,
   "metadata": {},
   "outputs": [
    {
     "name": "stderr",
     "output_type": "stream",
     "text": [
      "C:\\Users\\tomar\\Anaconda3\\lib\\site-packages\\gensim\\matutils.py:737: FutureWarning: Conversion of the second argument of issubdtype from `int` to `np.signedinteger` is deprecated. In future, it will be treated as `np.int32 == np.dtype(int).type`.\n",
      "  if np.issubdtype(vec.dtype, np.int):\n"
     ]
    },
    {
     "data": {
      "text/plain": [
       "[('lady', 0.694207489490509),\n",
       " ('sexually', 0.691582441329956),\n",
       " ('lover', 0.6900498270988464),\n",
       " ('girl', 0.6889432668685913),\n",
       " ('loretta', 0.6845369338989258),\n",
       " ('giovanna', 0.6834275722503662),\n",
       " ('husband', 0.6786994934082031),\n",
       " ('man', 0.6738367676734924),\n",
       " ('boy', 0.6618785262107849),\n",
       " ('brides', 0.6567746996879578)]"
      ]
     },
     "execution_count": 16,
     "metadata": {},
     "output_type": "execute_result"
    }
   ],
   "source": [
    "model.wv.most_similar(\"woman\")"
   ]
  },
  {
   "cell_type": "code",
   "execution_count": 17,
   "metadata": {},
   "outputs": [
    {
     "name": "stderr",
     "output_type": "stream",
     "text": [
      "C:\\Users\\tomar\\Anaconda3\\lib\\site-packages\\gensim\\matutils.py:737: FutureWarning: Conversion of the second argument of issubdtype from `int` to `np.signedinteger` is deprecated. In future, it will be treated as `np.int32 == np.dtype(int).type`.\n",
      "  if np.issubdtype(vec.dtype, np.int):\n"
     ]
    },
    {
     "data": {
      "text/plain": [
       "[('terrible', 0.8852403163909912),\n",
       " ('horrible', 0.863947868347168),\n",
       " ('atrocious', 0.7818443775177002),\n",
       " ('dreadful', 0.7764734029769897),\n",
       " ('crappy', 0.768346905708313),\n",
       " ('abysmal', 0.7656266689300537),\n",
       " ('sucks', 0.7594637870788574),\n",
       " ('pathetic', 0.7486364841461182),\n",
       " ('lousy', 0.7310115098953247),\n",
       " ('horrid', 0.7291818857192993)]"
      ]
     },
     "execution_count": 17,
     "metadata": {},
     "output_type": "execute_result"
    }
   ],
   "source": [
    "model.wv.most_similar(\"awful\")"
   ]
  },
  {
   "cell_type": "code",
   "execution_count": 19,
   "metadata": {},
   "outputs": [],
   "source": [
    "def features(words,num_features,model):\n",
    "    feature= np.zeros(num_features,dtype='float32')\n",
    "    nwords=0\n",
    "    \n",
    "    index2word_set = set(model.wv.index2word)\n",
    "    \n",
    "    for word in words:\n",
    "        if word in index2word_set:\n",
    "            nwords=nwords+1\n",
    "            \n",
    "            feature=np.add(feature,model[word])\n",
    "    \n",
    "    feature=np.divide(feature,nwords)\n",
    "    return feature"
   ]
  },
  {
   "cell_type": "code",
   "execution_count": 20,
   "metadata": {},
   "outputs": [],
   "source": [
    "def avg_features(reviews,num_features,model):\n",
    "    counter=0\n",
    "    avg_feature_vec=np.zeros((len(reviews),num_features),dtype='float32')\n",
    "    for review in reviews:\n",
    "        avg_feature_vec[counter]=features(review,num_features,model)\n",
    "        counter=counter+1\n",
    "    \n",
    "    return avg_feature_vec"
   ]
  },
  {
   "cell_type": "code",
   "execution_count": 23,
   "metadata": {},
   "outputs": [
    {
     "name": "stdout",
     "output_type": "stream",
     "text": [
      "0 out of  25000\n",
      "1000 out of  25000\n",
      "2000 out of  25000\n",
      "3000 out of  25000\n",
      "4000 out of  25000\n",
      "5000 out of  25000\n",
      "6000 out of  25000\n",
      "7000 out of  25000\n",
      "8000 out of  25000\n",
      "9000 out of  25000\n",
      "10000 out of  25000\n",
      "11000 out of  25000\n",
      "12000 out of  25000\n",
      "13000 out of  25000\n",
      "14000 out of  25000\n",
      "15000 out of  25000\n",
      "16000 out of  25000\n",
      "17000 out of  25000\n",
      "18000 out of  25000\n",
      "19000 out of  25000\n",
      "20000 out of  25000\n",
      "21000 out of  25000\n",
      "22000 out of  25000\n",
      "23000 out of  25000\n",
      "24000 out of  25000\n"
     ]
    },
    {
     "name": "stderr",
     "output_type": "stream",
     "text": [
      "C:\\Users\\tomar\\Anaconda3\\lib\\site-packages\\ipykernel_launcher.py:11: DeprecationWarning: Call to deprecated `__getitem__` (Method will be removed in 4.0.0, use self.wv.__getitem__() instead).\n",
      "  # This is added back by InteractiveShellApp.init_path()\n"
     ]
    }
   ],
   "source": [
    "clean_train_reviews = []\n",
    "i=0\n",
    "for review in train['review']:\n",
    "    if i%1000==0:\n",
    "        print (i , \"out of \", len(train['review']))\n",
    "        \n",
    "    clean_train_reviews.append(review_word_list(review))\n",
    "    i=i+1\n",
    "\n",
    "train_data_vector = avg_features(clean_train_reviews,num_features,model)"
   ]
  },
  {
   "cell_type": "code",
   "execution_count": 24,
   "metadata": {
    "scrolled": true
   },
   "outputs": [
    {
     "name": "stdout",
     "output_type": "stream",
     "text": [
      "0 out of  25000\n",
      "1000 out of  25000\n",
      "2000 out of  25000\n",
      "3000 out of  25000\n",
      "4000 out of  25000\n",
      "5000 out of  25000\n",
      "6000 out of  25000\n",
      "7000 out of  25000\n",
      "8000 out of  25000\n",
      "9000 out of  25000\n",
      "10000 out of  25000\n",
      "11000 out of  25000\n",
      "12000 out of  25000\n",
      "13000 out of  25000\n",
      "14000 out of  25000\n",
      "15000 out of  25000\n",
      "16000 out of  25000\n",
      "17000 out of  25000\n",
      "18000 out of  25000\n",
      "19000 out of  25000\n",
      "20000 out of  25000\n",
      "21000 out of  25000\n",
      "22000 out of  25000\n",
      "23000 out of  25000\n",
      "24000 out of  25000\n"
     ]
    },
    {
     "name": "stderr",
     "output_type": "stream",
     "text": [
      "C:\\Users\\tomar\\Anaconda3\\lib\\site-packages\\ipykernel_launcher.py:11: DeprecationWarning: Call to deprecated `__getitem__` (Method will be removed in 4.0.0, use self.wv.__getitem__() instead).\n",
      "  # This is added back by InteractiveShellApp.init_path()\n"
     ]
    }
   ],
   "source": [
    "clean_test_reviews = []\n",
    "i=0\n",
    "for review in test['review']:\n",
    "    if i%1000==0:\n",
    "        print (i , \"out of \", len(test['review']))\n",
    "        \n",
    "    clean_test_reviews.append(review_word_list(review))\n",
    "    i=i+1\n",
    "test_data_vector = avg_features(clean_test_reviews,num_features,model)"
   ]
  },
  {
   "cell_type": "code",
   "execution_count": 30,
   "metadata": {},
   "outputs": [
    {
     "name": "stdout",
     "output_type": "stream",
     "text": [
      "Fitting Logistic Regression to training data....\n"
     ]
    },
    {
     "data": {
      "text/plain": [
       "0.85144"
      ]
     },
     "execution_count": 30,
     "metadata": {},
     "output_type": "execute_result"
    }
   ],
   "source": [
    "from sklearn.linear_model import LogisticRegression\n",
    "model = LogisticRegression()   \n",
    "print(\"Fitting Logistic Regression to training data....\")    \n",
    "model.fit(train_data_vector, train[\"sentiment\"])\n",
    "pred=model.predict(train_data_vector)\n",
    "model.score(train_data_vector,train[\"sentiment\"])"
   ]
  },
  {
   "cell_type": "code",
   "execution_count": 31,
   "metadata": {},
   "outputs": [
    {
     "name": "stdout",
     "output_type": "stream",
     "text": [
      "[[10529  1971]\n",
      " [ 1743 10757]]\n"
     ]
    }
   ],
   "source": [
    "from sklearn.metrics import confusion_matrix\n",
    "print(confusion_matrix(train[\"sentiment\"],pred))"
   ]
  },
  {
   "cell_type": "code",
   "execution_count": 32,
   "metadata": {},
   "outputs": [
    {
     "name": "stdout",
     "output_type": "stream",
     "text": [
      "             precision    recall  f1-score   support\n",
      "\n",
      "          0       0.86      0.84      0.85     12500\n",
      "          1       0.85      0.86      0.85     12500\n",
      "\n",
      "avg / total       0.85      0.85      0.85     25000\n",
      "\n"
     ]
    }
   ],
   "source": [
    "from sklearn.metrics import classification_report\n",
    "print(classification_report(train[\"sentiment\"],pred))"
   ]
  },
  {
   "cell_type": "code",
   "execution_count": null,
   "metadata": {
    "collapsed": true
   },
   "outputs": [],
   "source": []
  }
 ],
 "metadata": {
  "kernelspec": {
   "display_name": "Python 3",
   "language": "python",
   "name": "python3"
  },
  "language_info": {
   "codemirror_mode": {
    "name": "ipython",
    "version": 3
   },
   "file_extension": ".py",
   "mimetype": "text/x-python",
   "name": "python",
   "nbconvert_exporter": "python",
   "pygments_lexer": "ipython3",
   "version": "3.6.4"
  }
 },
 "nbformat": 4,
 "nbformat_minor": 1
}
